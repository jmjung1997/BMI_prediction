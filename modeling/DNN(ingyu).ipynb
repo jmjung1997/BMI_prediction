{
 "cells": [
  {
   "cell_type": "code",
   "execution_count": 1,
   "id": "2391e334",
   "metadata": {},
   "outputs": [],
   "source": [
    "import pandas as pd\n",
    "import numpy as np\n",
    "from sklearn.preprocessing import MinMaxScaler\n",
    "from tensorflow.python.keras.models import Sequential\n",
    "from tensorflow.python.keras.layers import Dense,Dropout,Activation\n",
    "from tensorflow.python.keras import metrics\n",
    "from tensorflow.python import keras\n",
    "import tensorflow as tf\n",
    "import matplotlib.pyplot as plt\n",
    "from imblearn.over_sampling import SMOTE"
   ]
  },
  {
   "cell_type": "markdown",
   "id": "1ad7c1c5",
   "metadata": {},
   "source": [
    "# 파일읽기"
   ]
  },
  {
   "cell_type": "code",
   "execution_count": 2,
   "id": "f4e11779",
   "metadata": {},
   "outputs": [],
   "source": [
    "df=pd.read_excel('./modeling_data/2Weeks_data.xlsx')"
   ]
  },
  {
   "cell_type": "markdown",
   "id": "0d7427da",
   "metadata": {},
   "source": [
    "# 데이터를 필요한 부분으로 X, Y 나눠 읽어오기"
   ]
  },
  {
   "cell_type": "code",
   "execution_count": 3,
   "id": "67abaa12",
   "metadata": {},
   "outputs": [],
   "source": [
    "X=df.iloc[:,2:8]\n",
    "y_origin=df['Label']\n",
    "# y=df['Label']\n",
    "y=pd.get_dummies(df['Label'])"
   ]
  },
  {
   "cell_type": "markdown",
   "id": "c4118207",
   "metadata": {},
   "source": [
    "# train, test, validation set 으로 데이터 나누기"
   ]
  },
  {
   "cell_type": "code",
   "execution_count": 4,
   "id": "74280645",
   "metadata": {},
   "outputs": [],
   "source": [
    "#Scaling\n",
    "ms=MinMaxScaler()\n",
    "X=ms.fit_transform(X)\n",
    "\n",
    "# 데이터 train, vali, test 6:2:2\n",
    "train_x=X[:1163]\n",
    "val_x=X[1163:1548]\n",
    "test_x=X[1548:]\n",
    "\n",
    "train_y=y[:1163]\n",
    "val_y=y[1163:1548]\n",
    "test_y=y[1548:]\n",
    "\n",
    "train_y=train_y.to_numpy()\n",
    "val_y=val_y.to_numpy()\n",
    "test_y=test_y.to_numpy()"
   ]
  },
  {
   "cell_type": "code",
   "execution_count": 5,
   "id": "2c238ed0",
   "metadata": {},
   "outputs": [],
   "source": [
    "smote = SMOTE(random_state=0)\n",
    "train_x,train_y = smote.fit_resample(train_x,train_y)\n",
    "\n",
    "smote_test = SMOTE(random_state=0)\n",
    "test_x,test_y2 = smote_test.fit_resample(test_x,test_y)\n",
    "# print('SMOTE 적용 전 학습용 피처/레이블 데이터 세트: ', train_x.shape, train_y.shape)\n",
    "# print('SMOTE 적용 후 학습용 피처/레이블 데이터 세트: ', train_x2.shape, train_y2.shape)\n",
    "# print('SMOTE 적용 전 레이블 값 분포: \\n', pd.Series(train_y).value_counts())\n",
    "# print('SMOTE 적용 후 레이블 값 분포: \\n', pd.Series(train_y2).value_counts())"
   ]
  },
  {
   "cell_type": "markdown",
   "id": "5bbff9b7",
   "metadata": {},
   "source": [
    "# 모델\n",
    "\n",
    "## Deep Neural Network\n",
    "\n",
    "## Input Layer : None ,6\n",
    "\n",
    "## Hidden Layer : 128 - 256 - 128\n",
    "\n",
    "## optimizer : adam, loss : categorical_crossentropy"
   ]
  },
  {
   "cell_type": "code",
   "execution_count": 6,
   "id": "f916abcf",
   "metadata": {},
   "outputs": [
    {
     "name": "stdout",
     "output_type": "stream",
     "text": [
      "Epoch 1/100\n",
      "526/526 [==============================] - 1s 1ms/step - loss: 1.0324 - accuracy: 0.4738 - val_loss: 1.0156 - val_accuracy: 0.5039\n",
      "Epoch 2/100\n",
      "526/526 [==============================] - 0s 865us/step - loss: 0.9396 - accuracy: 0.5369 - val_loss: 0.8057 - val_accuracy: 0.5532\n",
      "Epoch 3/100\n",
      "526/526 [==============================] - 0s 882us/step - loss: 0.8916 - accuracy: 0.5826 - val_loss: 0.7879 - val_accuracy: 0.5688\n",
      "Epoch 4/100\n",
      "526/526 [==============================] - 0s 863us/step - loss: 0.8334 - accuracy: 0.6185 - val_loss: 0.7880 - val_accuracy: 0.5922\n",
      "Epoch 5/100\n",
      "526/526 [==============================] - 0s 859us/step - loss: 0.7751 - accuracy: 0.6559 - val_loss: 0.9296 - val_accuracy: 0.5221\n",
      "Epoch 6/100\n",
      "526/526 [==============================] - 0s 861us/step - loss: 0.7171 - accuracy: 0.6927 - val_loss: 0.9673 - val_accuracy: 0.4987\n",
      "Epoch 7/100\n",
      "526/526 [==============================] - 0s 867us/step - loss: 0.6594 - accuracy: 0.7219 - val_loss: 0.9556 - val_accuracy: 0.5740\n",
      "Epoch 8/100\n",
      "526/526 [==============================] - 0s 882us/step - loss: 0.6026 - accuracy: 0.7393 - val_loss: 0.9374 - val_accuracy: 0.5948\n",
      "Epoch 9/100\n",
      "526/526 [==============================] - 0s 873us/step - loss: 0.5767 - accuracy: 0.7558 - val_loss: 0.9178 - val_accuracy: 0.5922\n",
      "Epoch 10/100\n",
      "526/526 [==============================] - 0s 871us/step - loss: 0.5425 - accuracy: 0.7697 - val_loss: 0.9250 - val_accuracy: 0.6208\n",
      "Epoch 11/100\n",
      "526/526 [==============================] - 0s 871us/step - loss: 0.5037 - accuracy: 0.7945 - val_loss: 1.0772 - val_accuracy: 0.5740\n",
      "Epoch 12/100\n",
      "526/526 [==============================] - 0s 878us/step - loss: 0.4836 - accuracy: 0.8037 - val_loss: 0.9881 - val_accuracy: 0.6364\n",
      "Epoch 13/100\n",
      "526/526 [==============================] - 0s 878us/step - loss: 0.4640 - accuracy: 0.8110 - val_loss: 1.0146 - val_accuracy: 0.6078\n",
      "Epoch 14/100\n",
      "526/526 [==============================] - 0s 863us/step - loss: 0.4417 - accuracy: 0.8154 - val_loss: 1.0539 - val_accuracy: 0.6260\n",
      "Epoch 15/100\n",
      "526/526 [==============================] - 0s 873us/step - loss: 0.4258 - accuracy: 0.8249 - val_loss: 1.1750 - val_accuracy: 0.5740\n",
      "Epoch 16/100\n",
      "526/526 [==============================] - 0s 878us/step - loss: 0.4243 - accuracy: 0.8240 - val_loss: 1.1307 - val_accuracy: 0.6208\n",
      "Epoch 17/100\n",
      "526/526 [==============================] - 0s 876us/step - loss: 0.4113 - accuracy: 0.8382 - val_loss: 1.0616 - val_accuracy: 0.6649\n",
      "Epoch 18/100\n",
      "526/526 [==============================] - 0s 865us/step - loss: 0.3911 - accuracy: 0.8446 - val_loss: 1.2418 - val_accuracy: 0.6208\n",
      "Epoch 19/100\n",
      "526/526 [==============================] - 0s 867us/step - loss: 0.3845 - accuracy: 0.8471 - val_loss: 1.3232 - val_accuracy: 0.6130\n",
      "Epoch 20/100\n",
      "526/526 [==============================] - 0s 869us/step - loss: 0.3752 - accuracy: 0.8471 - val_loss: 1.2839 - val_accuracy: 0.6468\n",
      "Epoch 21/100\n",
      "526/526 [==============================] - 0s 873us/step - loss: 0.3814 - accuracy: 0.8503 - val_loss: 1.1583 - val_accuracy: 0.6805\n",
      "Epoch 22/100\n",
      "526/526 [==============================] - 0s 867us/step - loss: 0.3608 - accuracy: 0.8582 - val_loss: 1.4051 - val_accuracy: 0.5896\n",
      "Epoch 23/100\n",
      "526/526 [==============================] - 0s 880us/step - loss: 0.3475 - accuracy: 0.8611 - val_loss: 1.3192 - val_accuracy: 0.6442\n",
      "Epoch 24/100\n",
      "526/526 [==============================] - 0s 878us/step - loss: 0.3584 - accuracy: 0.8598 - val_loss: 1.2361 - val_accuracy: 0.6442\n",
      "Epoch 25/100\n",
      "526/526 [==============================] - 0s 894us/step - loss: 0.3434 - accuracy: 0.8633 - val_loss: 1.2837 - val_accuracy: 0.6857\n",
      "Epoch 26/100\n",
      "526/526 [==============================] - 0s 878us/step - loss: 0.3361 - accuracy: 0.8639 - val_loss: 1.5182 - val_accuracy: 0.6130\n",
      "Epoch 27/100\n",
      "526/526 [==============================] - 0s 869us/step - loss: 0.3262 - accuracy: 0.8684 - val_loss: 1.5963 - val_accuracy: 0.5974\n",
      "Epoch 28/100\n",
      "526/526 [==============================] - 0s 888us/step - loss: 0.3251 - accuracy: 0.8649 - val_loss: 1.3642 - val_accuracy: 0.6571\n",
      "Epoch 29/100\n",
      "526/526 [==============================] - 0s 874us/step - loss: 0.3215 - accuracy: 0.8706 - val_loss: 1.3698 - val_accuracy: 0.6649\n",
      "Epoch 30/100\n",
      "526/526 [==============================] - 0s 867us/step - loss: 0.3276 - accuracy: 0.8690 - val_loss: 1.3492 - val_accuracy: 0.7325\n",
      "Epoch 31/100\n",
      "526/526 [==============================] - 0s 871us/step - loss: 0.3116 - accuracy: 0.8722 - val_loss: 1.6017 - val_accuracy: 0.6442\n",
      "Epoch 32/100\n",
      "526/526 [==============================] - 0s 869us/step - loss: 0.3070 - accuracy: 0.8735 - val_loss: 1.4821 - val_accuracy: 0.6649\n",
      "Epoch 33/100\n",
      "526/526 [==============================] - 0s 867us/step - loss: 0.3040 - accuracy: 0.8773 - val_loss: 1.4324 - val_accuracy: 0.7065\n",
      "Epoch 34/100\n",
      "526/526 [==============================] - 0s 884us/step - loss: 0.3143 - accuracy: 0.8817 - val_loss: 1.5894 - val_accuracy: 0.6208\n",
      "Epoch 35/100\n",
      "526/526 [==============================] - 0s 876us/step - loss: 0.2929 - accuracy: 0.8798 - val_loss: 1.5093 - val_accuracy: 0.6701\n",
      "Epoch 36/100\n",
      "526/526 [==============================] - 0s 878us/step - loss: 0.3034 - accuracy: 0.8763 - val_loss: 1.5839 - val_accuracy: 0.6078\n",
      "Epoch 37/100\n",
      "526/526 [==============================] - 0s 882us/step - loss: 0.2892 - accuracy: 0.8788 - val_loss: 1.3554 - val_accuracy: 0.7039\n",
      "Epoch 38/100\n",
      "526/526 [==============================] - 0s 880us/step - loss: 0.2969 - accuracy: 0.8893 - val_loss: 1.6915 - val_accuracy: 0.6130\n",
      "Epoch 39/100\n",
      "526/526 [==============================] - 0s 878us/step - loss: 0.2859 - accuracy: 0.8820 - val_loss: 1.4972 - val_accuracy: 0.6805\n",
      "Epoch 40/100\n",
      "526/526 [==============================] - 0s 869us/step - loss: 0.2736 - accuracy: 0.8915 - val_loss: 1.5797 - val_accuracy: 0.6416\n",
      "Epoch 41/100\n",
      "526/526 [==============================] - 0s 876us/step - loss: 0.2853 - accuracy: 0.8839 - val_loss: 1.7688 - val_accuracy: 0.6234\n",
      "Epoch 42/100\n",
      "526/526 [==============================] - 0s 861us/step - loss: 0.2669 - accuracy: 0.8918 - val_loss: 1.4877 - val_accuracy: 0.6935\n",
      "Epoch 43/100\n",
      "526/526 [==============================] - 0s 887us/step - loss: 0.2758 - accuracy: 0.8880 - val_loss: 1.7757 - val_accuracy: 0.6364\n",
      "Epoch 44/100\n",
      "526/526 [==============================] - 0s 880us/step - loss: 0.2686 - accuracy: 0.8928 - val_loss: 1.6284 - val_accuracy: 0.6623\n",
      "Epoch 45/100\n",
      "526/526 [==============================] - 0s 873us/step - loss: 0.2729 - accuracy: 0.8874 - val_loss: 1.7814 - val_accuracy: 0.6234\n",
      "Epoch 46/100\n",
      "526/526 [==============================] - 0s 878us/step - loss: 0.2603 - accuracy: 0.8934 - val_loss: 1.9043 - val_accuracy: 0.6104\n",
      "Epoch 47/100\n",
      "526/526 [==============================] - 0s 867us/step - loss: 0.2576 - accuracy: 0.8960 - val_loss: 1.6650 - val_accuracy: 0.6545\n",
      "Epoch 48/100\n",
      "526/526 [==============================] - 0s 871us/step - loss: 0.2763 - accuracy: 0.8874 - val_loss: 1.6473 - val_accuracy: 0.6623\n",
      "Epoch 49/100\n",
      "526/526 [==============================] - 0s 894us/step - loss: 0.2556 - accuracy: 0.9014 - val_loss: 1.7058 - val_accuracy: 0.6286\n",
      "Epoch 50/100\n",
      "526/526 [==============================] - 0s 882us/step - loss: 0.2616 - accuracy: 0.8915 - val_loss: 1.6934 - val_accuracy: 0.6805\n",
      "Epoch 51/100\n",
      "526/526 [==============================] - 0s 876us/step - loss: 0.2484 - accuracy: 0.8985 - val_loss: 1.6885 - val_accuracy: 0.6805\n",
      "Epoch 52/100\n",
      "526/526 [==============================] - 0s 874us/step - loss: 0.2489 - accuracy: 0.8934 - val_loss: 1.7676 - val_accuracy: 0.6857\n",
      "Epoch 53/100\n",
      "526/526 [==============================] - 0s 869us/step - loss: 0.2526 - accuracy: 0.8947 - val_loss: 1.8168 - val_accuracy: 0.6416\n",
      "Epoch 54/100\n",
      "526/526 [==============================] - 0s 884us/step - loss: 0.2645 - accuracy: 0.8925 - val_loss: 1.6773 - val_accuracy: 0.6779\n",
      "Epoch 55/100\n",
      "526/526 [==============================] - 0s 863us/step - loss: 0.2346 - accuracy: 0.9055 - val_loss: 1.7692 - val_accuracy: 0.6779\n",
      "Epoch 56/100\n",
      "526/526 [==============================] - 0s 878us/step - loss: 0.2435 - accuracy: 0.9036 - val_loss: 1.8755 - val_accuracy: 0.6182\n",
      "Epoch 57/100\n"
     ]
    },
    {
     "name": "stdout",
     "output_type": "stream",
     "text": [
      "526/526 [==============================] - 0s 867us/step - loss: 0.2371 - accuracy: 0.9017 - val_loss: 1.8261 - val_accuracy: 0.6623\n",
      "Epoch 58/100\n",
      "526/526 [==============================] - 0s 856us/step - loss: 0.2407 - accuracy: 0.9014 - val_loss: 2.0509 - val_accuracy: 0.6234\n",
      "Epoch 59/100\n",
      "526/526 [==============================] - 0s 857us/step - loss: 0.2308 - accuracy: 0.9052 - val_loss: 1.8859 - val_accuracy: 0.6727\n",
      "Epoch 60/100\n",
      "526/526 [==============================] - 0s 863us/step - loss: 0.2350 - accuracy: 0.9007 - val_loss: 2.0009 - val_accuracy: 0.6130\n",
      "Epoch 61/100\n",
      "526/526 [==============================] - 0s 865us/step - loss: 0.2458 - accuracy: 0.8982 - val_loss: 1.7472 - val_accuracy: 0.7351\n",
      "Epoch 62/100\n",
      "526/526 [==============================] - 0s 859us/step - loss: 0.2189 - accuracy: 0.9099 - val_loss: 1.8049 - val_accuracy: 0.7221\n",
      "Epoch 63/100\n",
      "526/526 [==============================] - 0s 880us/step - loss: 0.2167 - accuracy: 0.9093 - val_loss: 1.8580 - val_accuracy: 0.7169\n",
      "Epoch 64/100\n",
      "526/526 [==============================] - 0s 880us/step - loss: 0.2250 - accuracy: 0.9074 - val_loss: 1.7608 - val_accuracy: 0.6701\n",
      "Epoch 65/100\n",
      "526/526 [==============================] - 0s 861us/step - loss: 0.2229 - accuracy: 0.9049 - val_loss: 1.9777 - val_accuracy: 0.6701\n",
      "Epoch 66/100\n",
      "526/526 [==============================] - 0s 867us/step - loss: 0.2335 - accuracy: 0.9061 - val_loss: 1.8447 - val_accuracy: 0.6857\n",
      "Epoch 67/100\n",
      "526/526 [==============================] - 0s 867us/step - loss: 0.2218 - accuracy: 0.9045 - val_loss: 1.8766 - val_accuracy: 0.6831\n",
      "Epoch 68/100\n",
      "526/526 [==============================] - 0s 863us/step - loss: 0.2056 - accuracy: 0.9166 - val_loss: 1.9706 - val_accuracy: 0.6805\n",
      "Epoch 69/100\n",
      "526/526 [==============================] - 0s 865us/step - loss: 0.2196 - accuracy: 0.9087 - val_loss: 1.8644 - val_accuracy: 0.7169\n",
      "Epoch 70/100\n",
      "526/526 [==============================] - 0s 878us/step - loss: 0.2263 - accuracy: 0.9029 - val_loss: 1.9403 - val_accuracy: 0.7013\n",
      "Epoch 71/100\n",
      "526/526 [==============================] - 0s 861us/step - loss: 0.2030 - accuracy: 0.9204 - val_loss: 1.9289 - val_accuracy: 0.7221\n",
      "Epoch 72/100\n",
      "526/526 [==============================] - 0s 873us/step - loss: 0.2169 - accuracy: 0.9099 - val_loss: 2.0118 - val_accuracy: 0.6597\n",
      "Epoch 73/100\n",
      "526/526 [==============================] - 0s 868us/step - loss: 0.2175 - accuracy: 0.9106 - val_loss: 2.1218 - val_accuracy: 0.6701\n",
      "Epoch 74/100\n",
      "526/526 [==============================] - 0s 871us/step - loss: 0.2070 - accuracy: 0.9163 - val_loss: 1.9959 - val_accuracy: 0.6727\n",
      "Epoch 75/100\n",
      "526/526 [==============================] - 0s 874us/step - loss: 0.2174 - accuracy: 0.9102 - val_loss: 1.7393 - val_accuracy: 0.7455\n",
      "Epoch 76/100\n",
      "526/526 [==============================] - 0s 884us/step - loss: 0.2012 - accuracy: 0.9144 - val_loss: 1.8743 - val_accuracy: 0.7039\n",
      "Epoch 77/100\n",
      "526/526 [==============================] - 0s 865us/step - loss: 0.2007 - accuracy: 0.9223 - val_loss: 2.0394 - val_accuracy: 0.7117\n",
      "Epoch 78/100\n",
      "526/526 [==============================] - 0s 867us/step - loss: 0.1931 - accuracy: 0.9191 - val_loss: 1.9458 - val_accuracy: 0.7169\n",
      "Epoch 79/100\n",
      "526/526 [==============================] - 0s 859us/step - loss: 0.2062 - accuracy: 0.9166 - val_loss: 2.1239 - val_accuracy: 0.6753\n",
      "Epoch 80/100\n",
      "526/526 [==============================] - 0s 867us/step - loss: 0.2002 - accuracy: 0.9182 - val_loss: 1.9422 - val_accuracy: 0.7013\n",
      "Epoch 81/100\n",
      "526/526 [==============================] - 0s 863us/step - loss: 0.2028 - accuracy: 0.9163 - val_loss: 2.0322 - val_accuracy: 0.6909\n",
      "Epoch 82/100\n",
      "526/526 [==============================] - 0s 857us/step - loss: 0.1989 - accuracy: 0.9213 - val_loss: 2.0328 - val_accuracy: 0.6805\n",
      "Epoch 83/100\n",
      "526/526 [==============================] - 0s 861us/step - loss: 0.2025 - accuracy: 0.9169 - val_loss: 2.1083 - val_accuracy: 0.6779\n",
      "Epoch 84/100\n",
      "526/526 [==============================] - 0s 863us/step - loss: 0.1984 - accuracy: 0.9179 - val_loss: 2.1428 - val_accuracy: 0.6701\n",
      "Epoch 85/100\n",
      "526/526 [==============================] - 0s 855us/step - loss: 0.1968 - accuracy: 0.9198 - val_loss: 1.8822 - val_accuracy: 0.7065\n",
      "Epoch 86/100\n",
      "526/526 [==============================] - 0s 855us/step - loss: 0.1961 - accuracy: 0.9172 - val_loss: 2.1371 - val_accuracy: 0.6675\n",
      "Epoch 87/100\n",
      "526/526 [==============================] - 0s 850us/step - loss: 0.1884 - accuracy: 0.9223 - val_loss: 2.0135 - val_accuracy: 0.6883\n",
      "Epoch 88/100\n",
      "526/526 [==============================] - 0s 865us/step - loss: 0.1797 - accuracy: 0.9239 - val_loss: 2.3083 - val_accuracy: 0.6701\n",
      "Epoch 89/100\n",
      "526/526 [==============================] - 0s 865us/step - loss: 0.1996 - accuracy: 0.9213 - val_loss: 2.2486 - val_accuracy: 0.6805\n",
      "Epoch 90/100\n",
      "526/526 [==============================] - 0s 882us/step - loss: 0.1903 - accuracy: 0.9213 - val_loss: 1.9510 - val_accuracy: 0.7325\n",
      "Epoch 91/100\n",
      "526/526 [==============================] - 0s 863us/step - loss: 0.1812 - accuracy: 0.9264 - val_loss: 2.1744 - val_accuracy: 0.7221\n",
      "Epoch 92/100\n",
      "526/526 [==============================] - 0s 854us/step - loss: 0.1913 - accuracy: 0.9217 - val_loss: 2.1175 - val_accuracy: 0.6883\n",
      "Epoch 93/100\n",
      "526/526 [==============================] - 0s 867us/step - loss: 0.1882 - accuracy: 0.9213 - val_loss: 2.0471 - val_accuracy: 0.6779\n",
      "Epoch 94/100\n",
      "526/526 [==============================] - 0s 859us/step - loss: 0.1745 - accuracy: 0.9239 - val_loss: 2.3889 - val_accuracy: 0.6779\n",
      "Epoch 95/100\n",
      "526/526 [==============================] - 0s 861us/step - loss: 0.1898 - accuracy: 0.9172 - val_loss: 2.2725 - val_accuracy: 0.6597\n",
      "Epoch 96/100\n",
      "526/526 [==============================] - 0s 852us/step - loss: 0.1689 - accuracy: 0.9331 - val_loss: 2.4370 - val_accuracy: 0.6909\n",
      "Epoch 97/100\n",
      "526/526 [==============================] - 0s 873us/step - loss: 0.1833 - accuracy: 0.9242 - val_loss: 2.2290 - val_accuracy: 0.6961\n",
      "Epoch 98/100\n",
      "526/526 [==============================] - 0s 861us/step - loss: 0.1793 - accuracy: 0.9305 - val_loss: 2.1528 - val_accuracy: 0.7325\n",
      "Epoch 99/100\n",
      "526/526 [==============================] - 0s 859us/step - loss: 0.1874 - accuracy: 0.9194 - val_loss: 2.1731 - val_accuracy: 0.7221\n",
      "Epoch 100/100\n",
      "526/526 [==============================] - 0s 854us/step - loss: 0.1701 - accuracy: 0.9334 - val_loss: 2.2600 - val_accuracy: 0.6623\n"
     ]
    }
   ],
   "source": [
    "model = keras.Sequential([\n",
    "    keras.layers.Flatten(input_shape=(6,)),\n",
    "    keras.layers.Dense(128, activation=tf.nn.relu),\n",
    "\tkeras.layers.Dense(256, activation=tf.nn.relu),\n",
    "    keras.layers.Dense(128, activation=tf.nn.relu),\n",
    "\tkeras.layers.Dense(3, activation=tf.nn.softmax),\n",
    "])\n",
    "\n",
    "model.compile(optimizer='adam',\n",
    "              loss='categorical_crossentropy',\n",
    "              metrics=['accuracy'])\n",
    "\n",
    "history=model.fit(train_x, train_y, epochs=100,validation_data=(val_x, val_y), batch_size=6)\n",
    "\n",
    "predicted=model.predict(test_x)\n",
    "# test_loss, test_acc = model.evaluate(test_x, test_y)"
   ]
  },
  {
   "cell_type": "markdown",
   "id": "43669dae",
   "metadata": {},
   "source": [
    "# 예측 정확도를 계산하는 부분"
   ]
  },
  {
   "cell_type": "code",
   "execution_count": 7,
   "id": "641dfa2f",
   "metadata": {},
   "outputs": [],
   "source": [
    "count=0\n",
    "predicted_plot=[]\n",
    "correct_plot=[]\n",
    "\n",
    "count_array=[0 for j in range(3)]\n",
    "\n",
    "predicted_result=[0 for j in range(len(test_y))]\n",
    "for i in range(len(test_y)):\n",
    "    maxIndex=tf.argmax(predicted[i])\n",
    "    predicted_plot.append(maxIndex-1)\n",
    "    #     print(type(maxIndex.numpy().item()))\n",
    "    index=0\n",
    "    if(y_origin[i]==-1):\n",
    "        index=0 \n",
    "    elif y_origin[i]==0:\n",
    "        index=1\n",
    "    elif y_origin[i]==1:\n",
    "        index=2\n",
    "    predicted_result[i]=index-1\n",
    "    if index==maxIndex.numpy().item():\n",
    "        count=count+1\n",
    "        count_array[index]=count_array[index]+1"
   ]
  },
  {
   "cell_type": "code",
   "execution_count": 8,
   "id": "a73aa979",
   "metadata": {},
   "outputs": [
    {
     "data": {
      "text/plain": [
       "array([[9.96699154e-01, 3.30081838e-03, 2.30221264e-08],\n",
       "       [9.98903513e-01, 1.09651545e-03, 3.74977098e-08],\n",
       "       [9.96855021e-01, 3.14086839e-03, 3.98967541e-06],\n",
       "       ...,\n",
       "       [1.24470883e-23, 9.99945879e-01, 5.41447553e-05],\n",
       "       [3.94089438e-04, 7.22672383e-04, 9.98883188e-01],\n",
       "       [9.86431420e-01, 1.35685680e-02, 1.09218385e-08]], dtype=float32)"
      ]
     },
     "execution_count": 8,
     "metadata": {},
     "output_type": "execute_result"
    }
   ],
   "source": [
    "predicted"
   ]
  },
  {
   "cell_type": "code",
   "execution_count": 9,
   "id": "82c57871",
   "metadata": {},
   "outputs": [
    {
     "data": {
      "text/plain": [
       "[3, 256, 5]"
      ]
     },
     "execution_count": 9,
     "metadata": {},
     "output_type": "execute_result"
    }
   ],
   "source": [
    "count_array"
   ]
  },
  {
   "cell_type": "markdown",
   "id": "1645a9e3",
   "metadata": {},
   "source": [
    "# 예측 정확도\n",
    "\n",
    "## 맞춘 개수 , 전체 개수 , 정확도"
   ]
  },
  {
   "cell_type": "code",
   "execution_count": 10,
   "id": "a21b77af",
   "metadata": {},
   "outputs": [
    {
     "name": "stdout",
     "output_type": "stream",
     "text": [
      "264\n",
      "384\n",
      "0.6875\n"
     ]
    }
   ],
   "source": [
    "print(count)\n",
    "print(len(test_y))\n",
    "print(count/len(test_y))"
   ]
  },
  {
   "cell_type": "markdown",
   "id": "3743cd09",
   "metadata": {},
   "source": [
    "# 시각화하는 부분\n",
    "## -1(감소): 100, 0(유지): 355, 1(증가):23"
   ]
  },
  {
   "cell_type": "code",
   "execution_count": 13,
   "id": "69bafa30",
   "metadata": {
    "scrolled": true
   },
   "outputs": [
    {
     "data": {
      "image/png": "[encoded data removed]",
      "text/plain": [
       "<Figure size 432x288 with 1 Axes>"
      ]
     },
     "metadata": {
      "needs_background": "light"
     },
     "output_type": "display_data"
    }
   ],
   "source": [
    "label=['Decreasing','Maintain','Increasing']\n",
    "values=[count_array[0]/8*100,count_array[1]/355*100,count_array[2]/23*100]\n",
    "\n",
    "x = np.arange(3)\n",
    "\n",
    "plt.bar(x, values)\n",
    "plt.xticks(x, label)\n",
    "\n",
    "plt.show()"
   ]
  },
  {
   "cell_type": "code",
   "execution_count": 14,
   "id": "450d9146",
   "metadata": {},
   "outputs": [
    {
     "data": {
      "image/png": "[encoded data removed]",
      "text/plain": [
       "<Figure size 432x288 with 1 Axes>"
      ]
     },
     "metadata": {},
     "output_type": "display_data"
    }
   ],
   "source": [
    "import matplotlib.pyplot as plt\n",
    "\n",
    "ratio = [count,len(test_y)-count]\n",
    "labels = ['Correct', 'Wrong']\n",
    "\n",
    "plt.pie(ratio, labels=labels, autopct='%.1f%%')\n",
    "plt.show()"
   ]
  },
  {
   "cell_type": "code",
   "execution_count": null,
   "id": "7a0d1e0a",
   "metadata": {},
   "outputs": [],
   "source": []
  }
 ],
 "metadata": {
  "kernelspec": {
   "display_name": "Python 3",
   "language": "python",
   "name": "python3"
  },
  "language_info": {
   "codemirror_mode": {
    "name": "ipython",
    "version": 3
   },
   "file_extension": ".py",
   "mimetype": "text/x-python",
   "name": "python",
   "nbconvert_exporter": "python",
   "pygments_lexer": "ipython3",
   "version": "3.8.8"
  }
 },
 "nbformat": 4,
 "nbformat_minor": 5
}
