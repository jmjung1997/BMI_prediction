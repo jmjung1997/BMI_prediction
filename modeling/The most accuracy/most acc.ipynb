{
 "cells": [
  {
   "cell_type": "code",
   "execution_count": 29,
   "id": "39f068fc",
   "metadata": {},
   "outputs": [],
   "source": [
    "import numpy as np"
   ]
  },
  {
   "cell_type": "code",
   "execution_count": 30,
   "id": "9191911b",
   "metadata": {},
   "outputs": [],
   "source": [
    "optimal_acc_np = np.load('./acc.npy')\n",
    "file_list=np.load('./file_list.npy')"
   ]
  },
  {
   "cell_type": "code",
   "execution_count": 31,
   "id": "a3f2be3b",
   "metadata": {},
   "outputs": [
    {
     "data": {
      "text/plain": [
       "array([0.8873, 0.8417, 0.8942, 0.7292, 0.9021, 0.8548, 0.8208, 0.7995,\n",
       "       0.7664, 0.6984, 0.7346, 0.9014, 0.7218, 0.7278, 0.909 , 0.8625,\n",
       "       0.7739, 0.7277, 0.915 , 0.8375, 0.9166, 0.8521, 0.8161, 0.9164,\n",
       "       0.7667, 0.9136, 0.8765, 0.8394, 0.7676, 0.7081, 0.9102, 0.7629,\n",
       "       0.8639, 0.6423, 0.9235, 0.8769, 0.8304, 0.7303, 0.9288, 0.7256,\n",
       "       0.8636, 0.7758, 0.7541, 0.929 , 0.8769, 0.9352, 0.7531, 0.7515,\n",
       "       0.7242, 0.9351, 0.7121, 0.8891, 0.8728, 0.8354, 0.7816, 0.7739,\n",
       "       0.9327, 0.9264, 0.898 , 0.6833, 0.9368, 0.8596, 0.7261, 0.9337,\n",
       "       0.6867, 0.9015, 0.8276, 0.7397, 0.7819, 0.7102, 0.9379, 0.834 ,\n",
       "       0.859 , 0.8254, 0.739 , 0.9393, 0.7007, 0.9057, 0.8686, 0.7969,\n",
       "       0.8003, 0.9308, 0.7432, 0.9311, 0.6896, 0.8937, 0.844 , 0.7059,\n",
       "       0.9355, 0.8766, 0.7411, 0.934 , 0.6924, 0.8988, 0.8266, 0.9376,\n",
       "       0.8053, 0.7013, 0.7026, 0.9356, 0.6723, 0.9097, 0.8875, 0.8478,\n",
       "       0.7982, 0.7844, 0.9364, 0.9383, 0.7415, 0.9004, 0.6902, 0.9381,\n",
       "       0.8835, 0.8174, 0.7681, 0.8555, 0.7825, 0.7627, 0.9425, 0.7172,\n",
       "       0.9146, 0.8801, 0.9379, 0.7177, 0.9392, 0.6729, 0.9042, 0.8903,\n",
       "       0.7258, 0.7713, 0.8183, 0.9414, 0.7541, 0.7398, 0.9417, 0.7182,\n",
       "       0.9135, 0.7116, 0.8715, 0.8211, 0.7991, 0.7216, 0.9349, 0.6596,\n",
       "       0.8619, 0.7165, 0.9383, 0.9148, 0.6407, 0.9389, 0.6478, 0.7182,\n",
       "       0.6661, 0.9398, 0.9206, 0.6761, 0.8811, 0.8714, 0.8342, 0.7302,\n",
       "       0.946 , 0.7187, 0.8514, 0.8195, 0.8569, 0.815 , 0.7512, 0.7118,\n",
       "       0.9394, 0.9269, 0.6809, 0.7279, 0.9367, 0.7234, 0.8671, 0.7461,\n",
       "       0.9445, 0.9223, 0.7021, 0.8525, 0.7207, 0.9448, 0.669 , 0.7787,\n",
       "       0.7282, 0.9446, 0.9206, 0.6336, 0.8893, 0.8378, 0.8313, 0.9488,\n",
       "       0.6572, 0.7565, 0.947 , 0.6572, 0.9158, 0.8735, 0.8061, 0.9554,\n",
       "       0.6809, 0.9054, 0.7651, 0.712 , 0.9549, 0.6714, 0.9353, 0.9461,\n",
       "       0.7305, 0.8363, 0.8468, 0.7053, 0.934 , 0.6501, 0.9257, 0.8768,\n",
       "       0.8417, 0.8101, 0.7514, 0.9439, 0.669 , 0.7364, 0.9511, 0.6761,\n",
       "       0.913 , 0.9469, 0.6785, 0.8821, 0.7093, 0.6415, 0.9516, 0.6894,\n",
       "       0.9158, 0.8648, 0.8345, 0.6659, 0.941 , 0.6259, 0.9449, 0.9142,\n",
       "       0.8521, 0.7378, 0.7188, 0.6729, 0.948 , 0.7176, 0.9388, 0.9196,\n",
       "       0.8304, 0.71  , 0.6635, 0.9359, 0.8586, 0.7949, 0.8537, 0.821 ,\n",
       "       0.7878, 0.7499, 0.6972, 0.9287, 0.9063, 0.7789, 0.6761, 0.9352,\n",
       "       0.6511, 0.9379, 0.9073, 0.8308, 0.7762, 0.7702, 0.6253, 0.9255,\n",
       "       0.5972, 0.9459, 0.8659, 0.7368, 0.9352, 0.8317, 0.6838, 0.9132,\n",
       "       0.7708, 0.7583, 0.6604, 0.9314, 0.6628, 0.9124, 0.8031, 0.7163,\n",
       "       0.6355, 0.8959, 0.6822, 0.8856, 0.7322, 0.8772, 0.761 , 0.69  ,\n",
       "       0.7896, 0.6923, 0.7818, 0.662 , 0.6543, 0.8858, 0.8443, 0.7809,\n",
       "       0.8619, 0.8151, 0.7672])"
      ]
     },
     "execution_count": 31,
     "metadata": {},
     "output_type": "execute_result"
    }
   ],
   "source": [
    "optimal_acc_np"
   ]
  },
  {
   "cell_type": "code",
   "execution_count": 32,
   "id": "8f7b6179",
   "metadata": {},
   "outputs": [
    {
     "data": {
      "text/plain": [
       "0.9554"
      ]
     },
     "execution_count": 32,
     "metadata": {},
     "output_type": "execute_result"
    }
   ],
   "source": [
    "max(optimal_acc_np)"
   ]
  },
  {
   "cell_type": "code",
   "execution_count": 33,
   "id": "6454a353",
   "metadata": {},
   "outputs": [
    {
     "data": {
      "text/plain": [
       "199"
      ]
     },
     "execution_count": 33,
     "metadata": {},
     "output_type": "execute_result"
    }
   ],
   "source": [
    "max_list=np.argmax(optimal_acc_np)\n",
    "max_list"
   ]
  },
  {
   "cell_type": "code",
   "execution_count": 34,
   "id": "4bbad78a",
   "metadata": {},
   "outputs": [
    {
     "data": {
      "text/plain": [
       "'Continous_2weeks_57day_1term.xlsx'"
      ]
     },
     "execution_count": 34,
     "metadata": {},
     "output_type": "execute_result"
    }
   ],
   "source": [
    "file_list[199]"
   ]
  },
  {
   "cell_type": "code",
   "execution_count": 35,
   "id": "df95eae9",
   "metadata": {},
   "outputs": [],
   "source": [
    "x=np.sort(optimal_acc_np)[::-1]"
   ]
  },
  {
   "cell_type": "code",
   "execution_count": 36,
   "id": "d6dbaa35",
   "metadata": {},
   "outputs": [
    {
     "data": {
      "text/plain": [
       "array([0.9554, 0.9549, 0.9516, 0.9511, 0.9488, 0.948 , 0.947 , 0.9469,\n",
       "       0.9461, 0.946 , 0.9459, 0.9449, 0.9448, 0.9446, 0.9445, 0.9439,\n",
       "       0.9425, 0.9417, 0.9414, 0.941 , 0.9398, 0.9394, 0.9393, 0.9392,\n",
       "       0.9389, 0.9388, 0.9383, 0.9383, 0.9381, 0.9379, 0.9379, 0.9379,\n",
       "       0.9376, 0.9368, 0.9367, 0.9364, 0.9359, 0.9356, 0.9355, 0.9353,\n",
       "       0.9352, 0.9352, 0.9352, 0.9351, 0.9349, 0.934 , 0.934 , 0.9337,\n",
       "       0.9327, 0.9314, 0.9311, 0.9308, 0.929 , 0.9288, 0.9287, 0.9269,\n",
       "       0.9264, 0.9257, 0.9255, 0.9235, 0.9223, 0.9206, 0.9206, 0.9196,\n",
       "       0.9166, 0.9164, 0.9158, 0.9158, 0.915 , 0.9148, 0.9146, 0.9142,\n",
       "       0.9136, 0.9135, 0.9132, 0.913 , 0.9124, 0.9102, 0.9097, 0.909 ,\n",
       "       0.9073, 0.9063, 0.9057, 0.9054, 0.9042, 0.9021, 0.9015, 0.9014,\n",
       "       0.9004, 0.8988, 0.898 , 0.8959, 0.8942, 0.8937, 0.8903, 0.8893,\n",
       "       0.8891, 0.8875, 0.8873, 0.8858, 0.8856, 0.8835, 0.8821, 0.8811,\n",
       "       0.8801, 0.8772, 0.8769, 0.8769, 0.8768, 0.8766, 0.8765, 0.8735,\n",
       "       0.8728, 0.8715, 0.8714, 0.8686, 0.8671, 0.8659, 0.8648, 0.8639,\n",
       "       0.8636, 0.8625, 0.8619, 0.8619, 0.8596, 0.859 , 0.8586, 0.8569,\n",
       "       0.8555, 0.8548, 0.8537, 0.8525, 0.8521, 0.8521, 0.8514, 0.8478,\n",
       "       0.8468, 0.8443, 0.844 , 0.8417, 0.8417, 0.8394, 0.8378, 0.8375,\n",
       "       0.8363, 0.8354, 0.8345, 0.8342, 0.834 , 0.8317, 0.8313, 0.8308,\n",
       "       0.8304, 0.8304, 0.8276, 0.8266, 0.8254, 0.8211, 0.821 , 0.8208,\n",
       "       0.8195, 0.8183, 0.8174, 0.8161, 0.8151, 0.815 , 0.8101, 0.8061,\n",
       "       0.8053, 0.8031, 0.8003, 0.7995, 0.7991, 0.7982, 0.7969, 0.7949,\n",
       "       0.7896, 0.7878, 0.7844, 0.7825, 0.7819, 0.7818, 0.7816, 0.7809,\n",
       "       0.7789, 0.7787, 0.7762, 0.7758, 0.7739, 0.7739, 0.7713, 0.7708,\n",
       "       0.7702, 0.7681, 0.7676, 0.7672, 0.7667, 0.7664, 0.7651, 0.7629,\n",
       "       0.7627, 0.761 , 0.7583, 0.7565, 0.7541, 0.7541, 0.7531, 0.7515,\n",
       "       0.7514, 0.7512, 0.7499, 0.7461, 0.7432, 0.7415, 0.7411, 0.7398,\n",
       "       0.7397, 0.739 , 0.7378, 0.7368, 0.7364, 0.7346, 0.7322, 0.7305,\n",
       "       0.7303, 0.7302, 0.7292, 0.7282, 0.7279, 0.7278, 0.7277, 0.7261,\n",
       "       0.7258, 0.7256, 0.7242, 0.7234, 0.7218, 0.7216, 0.7207, 0.7188,\n",
       "       0.7187, 0.7182, 0.7182, 0.7177, 0.7176, 0.7172, 0.7165, 0.7163,\n",
       "       0.7121, 0.712 , 0.7118, 0.7116, 0.7102, 0.71  , 0.7093, 0.7081,\n",
       "       0.7059, 0.7053, 0.7026, 0.7021, 0.7013, 0.7007, 0.6984, 0.6972,\n",
       "       0.6924, 0.6923, 0.6902, 0.69  , 0.6896, 0.6894, 0.6867, 0.6838,\n",
       "       0.6833, 0.6822, 0.6809, 0.6809, 0.6785, 0.6761, 0.6761, 0.6761,\n",
       "       0.6729, 0.6729, 0.6723, 0.6714, 0.669 , 0.669 , 0.6661, 0.6659,\n",
       "       0.6635, 0.6628, 0.662 , 0.6604, 0.6596, 0.6572, 0.6572, 0.6543,\n",
       "       0.6511, 0.6501, 0.6478, 0.6423, 0.6415, 0.6407, 0.6355, 0.6336,\n",
       "       0.6259, 0.6253, 0.5972])"
      ]
     },
     "execution_count": 36,
     "metadata": {},
     "output_type": "execute_result"
    }
   ],
   "source": [
    "x"
   ]
  },
  {
   "cell_type": "code",
   "execution_count": 37,
   "id": "87fd0abf",
   "metadata": {},
   "outputs": [
    {
     "name": "stdout",
     "output_type": "stream",
     "text": [
      "['Continous_2weeks_57day_1term.xlsx']\n",
      "['Continous_2weeks_58day_1term.xlsx']\n",
      "['Continous_2weeks_64day_1term.xlsx']\n",
      "['Continous_2weeks_62day_1term.xlsx']\n",
      "['Continous_2weeks_55day_1term.xlsx']\n",
      "['Continous_2weeks_67day_1term.xlsx']\n",
      "['Continous_2weeks_56day_1term.xlsx']\n",
      "['Continous_2weeks_63day_1term.xlsx']\n",
      "['Continous_2weeks_59day_1term.xlsx']\n",
      "['Continous_2weeks_49day_1term.xlsx']\n",
      "['Continous_2weeks_74day_1term.xlsx']\n",
      "['Continous_2weeks_66day_1term.xlsx']\n",
      "['Continous_2weeks_53day_1term.xlsx']\n",
      "['Continous_2weeks_54day_1term.xlsx']\n",
      "['Continous_2weeks_52day_1term.xlsx']\n",
      "['Continous_2weeks_61day_1term.xlsx']\n",
      "['Continous_2weeks_40day_1term.xlsx']\n",
      "['Continous_2weeks_44day_1term.xlsx']\n",
      "['Continous_2weeks_43day_1term.xlsx']\n",
      "['Continous_2weeks_65day_1term.xlsx']\n",
      "['Continous_2weeks_48day_1term.xlsx']\n",
      "['Continous_2weeks_50day_1term.xlsx']\n",
      "['Continous_2weeks_30day_1term.xlsx']\n",
      "['Continous_2weeks_42day_1term.xlsx']\n",
      "['Continous_2weeks_47day_1term.xlsx']\n",
      "['Continous_2weeks_68day_1term.xlsx']\n",
      "['Continous_2weeks_38day_1term.xlsx' 'Continous_2weeks_46day_1term.xlsx']\n",
      "['Continous_2weeks_38day_1term.xlsx' 'Continous_2weeks_46day_1term.xlsx']\n",
      "['Continous_2weeks_39day_1term.xlsx']\n",
      "['Continous_2weeks_29day_1term.xlsx' 'Continous_2weeks_41day_1term.xlsx'\n",
      " 'Continous_2weeks_72day_1term.xlsx']\n",
      "['Continous_2weeks_29day_1term.xlsx' 'Continous_2weeks_41day_1term.xlsx'\n",
      " 'Continous_2weeks_72day_1term.xlsx']\n",
      "['Continous_2weeks_29day_1term.xlsx' 'Continous_2weeks_41day_1term.xlsx'\n",
      " 'Continous_2weeks_72day_1term.xlsx']\n",
      "['Continous_2weeks_35day_1term.xlsx']\n",
      "['Continous_2weeks_27day_1term.xlsx']\n",
      "['Continous_2weeks_51day_1term.xlsx']\n",
      "['Continous_2weeks_37day_1term.xlsx']\n",
      "['Continous_2weeks_69day_1term.xlsx']\n",
      "['Continous_2weeks_36day_1term.xlsx']\n",
      "['Continous_2weeks_33day_1term.xlsx']\n",
      "['Continous_2weeks_58day_2term.xlsx']\n",
      "['Continous_2weeks_23day_1term.xlsx' 'Continous_2weeks_71day_1term.xlsx'\n",
      " 'Continous_2weeks_75day_1term.xlsx']\n",
      "['Continous_2weeks_23day_1term.xlsx' 'Continous_2weeks_71day_1term.xlsx'\n",
      " 'Continous_2weeks_75day_1term.xlsx']\n",
      "['Continous_2weeks_23day_1term.xlsx' 'Continous_2weeks_71day_1term.xlsx'\n",
      " 'Continous_2weeks_75day_1term.xlsx']\n",
      "['Continous_2weeks_24day_1term.xlsx']\n",
      "['Continous_2weeks_45day_1term.xlsx']\n",
      "['Continous_2weeks_34day_1term.xlsx' 'Continous_2weeks_60day_1term.xlsx']\n",
      "['Continous_2weeks_34day_1term.xlsx' 'Continous_2weeks_60day_1term.xlsx']\n",
      "['Continous_2weeks_28day_1term.xlsx']\n",
      "['Continous_2weeks_25day_1term.xlsx']\n",
      "['Continous_2weeks_77day_1term.xlsx']\n",
      "['Continous_2weeks_32day_1term.xlsx']\n",
      "['Continous_2weeks_31day_1term.xlsx']\n",
      "['Continous_2weeks_22day_1term.xlsx']\n",
      "['Continous_2weeks_21day_1term.xlsx']\n",
      "['Continous_2weeks_70day_1term.xlsx']\n",
      "['Continous_2weeks_50day_2term.xlsx']\n",
      "['Continous_2weeks_26day_1term.xlsx']\n",
      "['Continous_2weeks_60day_2term.xlsx']\n",
      "['Continous_2weeks_73day_1term.xlsx']\n",
      "['Continous_2weeks_20day_1term.xlsx']\n",
      "['Continous_2weeks_52day_2term.xlsx']\n",
      "['Continous_2weeks_48day_2term.xlsx' 'Continous_2weeks_54day_2term.xlsx']\n",
      "['Continous_2weeks_48day_2term.xlsx' 'Continous_2weeks_54day_2term.xlsx']\n",
      "['Continous_2weeks_68day_2term.xlsx']\n",
      "['Continous_2weeks_16day_1term.xlsx']\n",
      "['Continous_2weeks_17day_1term.xlsx']\n",
      "['Continous_2weeks_56day_2term.xlsx' 'Continous_2weeks_64day_2term.xlsx']\n",
      "['Continous_2weeks_56day_2term.xlsx' 'Continous_2weeks_64day_2term.xlsx']\n",
      "['Continous_2weeks_15day_1term.xlsx']\n",
      "['Continous_2weeks_46day_2term.xlsx']\n",
      "['Continous_2weeks_40day_2term.xlsx']\n",
      "['Continous_2weeks_66day_2term.xlsx']\n",
      "['Continous_2weeks_18day_1term.xlsx']\n",
      "['Continous_2weeks_44day_2term.xlsx']\n",
      "['Continous_2weeks_76day_1term.xlsx']\n",
      "['Continous_2weeks_62day_2term.xlsx']\n",
      "['Continous_2weeks_78day_1term.xlsx']\n",
      "['Continous_2weeks_19day_1term.xlsx']\n",
      "['Continous_2weeks_36day_2term.xlsx']\n",
      "['Continous_2weeks_14day_1term.xlsx']\n",
      "['Continous_2weeks_72day_2term.xlsx']\n",
      "['Continous_2weeks_70day_2term.xlsx']\n",
      "['Continous_2weeks_30day_2term.xlsx']\n",
      "['Continous_2weeks_57day_3term.xlsx']\n",
      "['Continous_2weeks_42day_2term.xlsx']\n",
      "['Continous_2weeks_12day_1term.xlsx']\n",
      "['Continous_2weeks_28day_2term.xlsx']\n",
      "['Continous_2weeks_13day_1term.xlsx']\n",
      "['Continous_2weeks_38day_2term.xlsx']\n",
      "['Continous_2weeks_34day_2term.xlsx']\n",
      "['Continous_2weeks_26day_2term.xlsx']\n",
      "['Continous_2weeks_79day_1term.xlsx']\n",
      "['Continous_2weeks_11day_1term.xlsx']\n",
      "['Continous_2weeks_32day_2term.xlsx']\n",
      "['Continous_2weeks_42day_3term.xlsx']\n",
      "['Continous_2weeks_54day_3term.xlsx']\n",
      "['Continous_2weeks_24day_2term.xlsx']\n",
      "['Continous_2weeks_36day_3term.xlsx']\n",
      "['Continous_2weeks_10day_1term.xlsx']\n",
      "['Continous_2weeks_8day_1term.xlsx']\n",
      "['Continous_2weeks_7day_1term.xlsx']\n",
      "['Continous_2weeks_39day_3term.xlsx']\n",
      "['Continous_2weeks_63day_3term.xlsx']\n",
      "['Continous_2weeks_48day_3term.xlsx']\n",
      "['Continous_2weeks_40day_4term.xlsx']\n",
      "['Continous_2weeks_80day_1term.xlsx']\n",
      "['Continous_2weeks_20day_2term.xlsx' 'Continous_2weeks_22day_2term.xlsx']\n",
      "['Continous_2weeks_20day_2term.xlsx' 'Continous_2weeks_22day_2term.xlsx']\n",
      "['Continous_2weeks_60day_3term.xlsx']\n",
      "['Continous_2weeks_33day_3term.xlsx']\n",
      "['Continous_2weeks_18day_2term.xlsx']\n",
      "['Continous_2weeks_56day_4term.xlsx']\n",
      "['Continous_2weeks_24day_3term.xlsx']\n",
      "['Continous_2weeks_44day_4term.xlsx']\n",
      "['Continous_2weeks_48day_4term.xlsx']\n",
      "['Continous_2weeks_30day_3term.xlsx']\n",
      "['Continous_2weeks_51day_3term.xlsx']\n",
      "['Continous_2weeks_74day_2term.xlsx']\n",
      "['Continous_2weeks_64day_4term.xlsx']\n",
      "['Continous_2weeks_1day_1term.xlsx']\n",
      "['Continous_2weeks_21day_3term.xlsx']\n",
      "['Continous_2weeks_14day_2term.xlsx']\n",
      "['Continous_2weeks_45day_3term.xlsx' 'Continous_2weeks_9day_1term.xlsx']\n",
      "['Continous_2weeks_45day_3term.xlsx' 'Continous_2weeks_9day_1term.xlsx']\n",
      "['Continous_2weeks_27day_3term.xlsx']\n",
      "['Continous_2weeks_2day_1term.xlsx']\n",
      "['Continous_2weeks_69day_3term.xlsx']\n",
      "['Continous_2weeks_4day_1term.xlsx']\n",
      "['Continous_2weeks_3day_1term.xlsx']\n",
      "['Continous_2weeks_12day_2term.xlsx']\n",
      "['Continous_2weeks_6day_1term.xlsx']\n",
      "['Continous_2weeks_52day_4term.xlsx']\n",
      "['Continous_2weeks_16day_2term.xlsx' 'Continous_2weeks_66day_3term.xlsx']\n",
      "['Continous_2weeks_16day_2term.xlsx' 'Continous_2weeks_66day_3term.xlsx']\n",
      "['Continous_2weeks_49day_5term.xlsx']\n",
      "['Continous_2weeks_36day_4term.xlsx']\n",
      "['Continous_2weeks_5day_1term.xlsx']\n",
      "['Continous_2weeks_8day_2term.xlsx']\n",
      "['Continous_2weeks_32day_4term.xlsx']\n",
      "['Continous_2weeks_10day_2term.xlsx' 'Continous_2weeks_60day_4term.xlsx']\n",
      "['Continous_2weeks_10day_2term.xlsx' 'Continous_2weeks_60day_4term.xlsx']\n",
      "['Continous_2weeks_18day_3term.xlsx']\n",
      "['Continous_2weeks_54day_5term.xlsx']\n",
      "['Continous_2weeks_15day_3term.xlsx']\n",
      "['Continous_2weeks_59day_5term.xlsx']\n",
      "['Continous_2weeks_24day_4term.xlsx']\n",
      "['Continous_2weeks_64day_5term.xlsx']\n",
      "['Continous_2weeks_48day_6term.xlsx']\n",
      "['Continous_2weeks_29day_5term.xlsx']\n",
      "['Continous_2weeks_75day_3term.xlsx']\n",
      "['Continous_2weeks_54day_6term.xlsx']\n",
      "['Continous_2weeks_72day_3term.xlsx']\n",
      "['Continous_2weeks_20day_4term.xlsx' 'Continous_2weeks_68day_4term.xlsx']\n",
      "['Continous_2weeks_20day_4term.xlsx' 'Continous_2weeks_68day_4term.xlsx']\n",
      "['Continous_2weeks_28day_4term.xlsx']\n",
      "['Continous_2weeks_34day_5term.xlsx']\n",
      "['Continous_2weeks_2day_2term.xlsx']\n",
      "['Continous_2weeks_44day_5term.xlsx']\n",
      "['Continous_2weeks_6day_2term.xlsx']\n",
      "['Continous_2weeks_12day_3term.xlsx']\n",
      "['Continous_2weeks_49day_7term.xlsx']\n",
      "['Continous_2weeks_42day_7term.xlsx']\n",
      "['Continous_2weeks_39day_5term.xlsx']\n",
      "['Continous_2weeks_16day_4term.xlsx']\n",
      "['Continous_2weeks_9day_3term.xlsx']\n",
      "['Continous_2weeks_4day_2term.xlsx']\n",
      "['Continous_2weeks_60day_6term.xlsx']\n",
      "['Continous_2weeks_56day_7term.xlsx']\n",
      "['Continous_2weeks_35day_7term.xlsx']\n",
      "['Continous_2weeks_78day_2term.xlsx']\n",
      "['Continous_2weeks_30day_9term.xlsx']\n",
      "['Continous_2weeks_12day_4term.xlsx']\n",
      "['Continous_2weeks_44day_8term.xlsx']\n",
      "['Continous_2weeks_36day_6term.xlsx']\n",
      "['Continous_2weeks_30day_6term.xlsx']\n",
      "['Continous_2weeks_69day_5term.xlsx']\n",
      "['Continous_2weeks_81day_1term.xlsx']\n",
      "['Continous_2weeks_6day_3term.xlsx']\n",
      "['Continous_2weeks_36day_8term.xlsx']\n",
      "['Continous_2weeks_3day_3term.xlsx']\n",
      "['Continous_2weeks_28day_8term.xlsx']\n",
      "['Continous_2weeks_82day_1term.xlsx']\n",
      "['Continous_2weeks_24day_5term.xlsx']\n",
      "['Continous_2weeks_8day_4term.xlsx']\n",
      "['Continous_2weeks_70day_7term.xlsx']\n",
      "['Continous_2weeks_54day_10term.xlsx']\n",
      "['Continous_2weeks_72day_4term.xlsx']\n",
      "['Continous_2weeks_21day_7term.xlsx']\n",
      "['Continous_2weeks_14day_5term.xlsx' 'Continous_2weeks_24day_6term.xlsx']\n",
      "['Continous_2weeks_14day_5term.xlsx' 'Continous_2weeks_24day_6term.xlsx']\n",
      "['Continous_2weeks_42day_6term.xlsx']\n",
      "['Continous_2weeks_76day_2term.xlsx']\n",
      "['Continous_2weeks_72day_6term.xlsx']\n",
      "['Continous_2weeks_39day_9term.xlsx']\n",
      "['Continous_2weeks_18day_6term.xlsx']\n",
      "['Continous_2weeks_9day_5term.xlsx']\n",
      "['Continous_2weeks_18day_11term.xlsx']\n",
      "['Continous_2weeks_12day_6term.xlsx']\n",
      "['Continous_2weeks_57day_9term.xlsx']\n",
      "['Continous_2weeks_19day_5term.xlsx']\n",
      "['Continous_2weeks_40day_11term.xlsx']\n",
      "['Continous_2weeks_80day_2term.xlsx']\n",
      "['Continous_2weeks_76day_4term.xlsx']\n",
      "['Continous_2weeks_56day_14term.xlsx']\n",
      "['Continous_2weeks_21day_9term.xlsx' 'Continous_2weeks_43day_41term.xlsx']\n",
      "['Continous_2weeks_21day_9term.xlsx' 'Continous_2weeks_43day_41term.xlsx']\n",
      "['Continous_2weeks_24day_10term.xlsx']\n",
      "['Continous_2weeks_24day_12term.xlsx']\n",
      "['Continous_2weeks_60day_8term.xlsx']\n",
      "['Continous_2weeks_4day_4term.xlsx']\n",
      "['Continous_2weeks_6day_6term.xlsx']\n",
      "['Continous_2weeks_52day_16term.xlsx']\n",
      "['Continous_2weeks_32day_13term.xlsx']\n",
      "['Continous_2weeks_38day_23term.xlsx']\n",
      "['Continous_2weeks_34day_10term.xlsx']\n",
      "['Continous_2weeks_44day_10term.xlsx']\n",
      "['Continous_2weeks_28day_7term.xlsx']\n",
      "['Continous_2weeks_30day_18term.xlsx']\n",
      "['Continous_2weeks_66day_6term.xlsx']\n",
      "['Continous_2weeks_74day_5term.xlsx']\n",
      "['Continous_2weeks_62day_11term.xlsx']\n",
      "['Continous_2weeks_12day_9term.xlsx']\n",
      "['Continous_2weeks_7day_7term.xlsx']\n",
      "['Continous_2weeks_59day_25term.xlsx']\n",
      "['Continous_2weeks_20day_8term.xlsx']\n",
      "['Continous_2weeks_48day_9term.xlsx']\n",
      "['Continous_2weeks_12day_12term.xlsx']\n",
      "['Continous_2weeks_54day_15term.xlsx']\n",
      "['Continous_2weeks_51day_11term.xlsx']\n",
      "['Continous_2weeks_14day_14term.xlsx']\n",
      "['Continous_2weeks_14day_7term.xlsx']\n",
      "['Continous_2weeks_28day_14term.xlsx']\n",
      "['Continous_2weeks_42day_42term.xlsx']\n",
      "['Continous_2weeks_21day_21term.xlsx']\n",
      "['Continous_2weeks_24day_15term.xlsx']\n",
      "['Continous_2weeks_51day_33term.xlsx']\n",
      "['Continous_2weeks_14day_10term.xlsx']\n",
      "['Continous_2weeks_45day_13term.xlsx']\n",
      "['Continous_2weeks_52day_8term.xlsx']\n",
      "['Continous_2weeks_66day_9term.xlsx']\n",
      "['Continous_2weeks_49day_35term.xlsx']\n",
      "['Continous_2weeks_44day_20term.xlsx' 'Continous_2weeks_48day_12term.xlsx']\n",
      "['Continous_2weeks_44day_20term.xlsx' 'Continous_2weeks_48day_12term.xlsx']\n",
      "['Continous_2weeks_42day_14term.xlsx']\n",
      "['Continous_2weeks_68day_16term.xlsx']\n",
      "['Continous_2weeks_40day_22term.xlsx']\n",
      "['Continous_2weeks_46day_19term.xlsx']\n",
      "['Continous_2weeks_78day_3term.xlsx']\n",
      "['Continous_2weeks_24day_20term.xlsx']\n",
      "['Continous_2weeks_58day_13term.xlsx']\n",
      "['Continous_2weeks_50day_17term.xlsx']\n",
      "['Continous_2weeks_44day_40term.xlsx']\n",
      "['Continous_2weeks_29day_11term.xlsx']\n",
      "['Continous_2weeks_68day_8term.xlsx']\n",
      "['Continous_2weeks_63day_7term.xlsx']\n",
      "['Continous_2weeks_19day_13term.xlsx']\n",
      "['Continous_2weeks_33day_17term.xlsx']\n",
      "['Continous_2weeks_60day_12term.xlsx']\n",
      "['Continous_2weeks_36day_16term.xlsx']\n",
      "['Continous_2weeks_52day_32term.xlsx']\n",
      "['Continous_2weeks_36day_12term.xlsx']\n",
      "['Continous_2weeks_30day_27term.xlsx']\n",
      "['Continous_2weeks_12day_8term.xlsx']\n",
      "['Continous_2weeks_70day_14term.xlsx']\n",
      "['Continous_2weeks_34day_25term.xlsx']\n",
      "['Continous_2weeks_81day_3term.xlsx']\n",
      "['Continous_2weeks_39day_15term.xlsx']\n",
      "['Continous_2weeks_80day_4term.xlsx']\n",
      "['Continous_2weeks_32day_26term.xlsx']\n",
      "['Continous_2weeks_64day_20term.xlsx']\n",
      "['Continous_2weeks_28day_28term.xlsx']\n",
      "['Continous_2weeks_75day_9term.xlsx']\n",
      "['Continous_2weeks_27day_19term.xlsx']\n",
      "['Continous_2weeks_79day_5term.xlsx']\n",
      "['Continous_2weeks_50day_34term.xlsx' 'Continous_2weeks_57day_27term.xlsx']\n",
      "['Continous_2weeks_50day_34term.xlsx' 'Continous_2weeks_57day_27term.xlsx']\n",
      "['Continous_2weeks_63day_21term.xlsx']\n",
      "['Continous_2weeks_48day_36term.xlsx' 'Continous_2weeks_62day_22term.xlsx'\n",
      " 'Continous_2weeks_71day_13term.xlsx']\n",
      "['Continous_2weeks_48day_36term.xlsx' 'Continous_2weeks_62day_22term.xlsx'\n",
      " 'Continous_2weeks_71day_13term.xlsx']\n",
      "['Continous_2weeks_48day_36term.xlsx' 'Continous_2weeks_62day_22term.xlsx'\n",
      " 'Continous_2weeks_71day_13term.xlsx']\n",
      "['Continous_2weeks_42day_21term.xlsx' 'Continous_2weeks_67day_17term.xlsx']\n",
      "['Continous_2weeks_42day_21term.xlsx' 'Continous_2weeks_67day_17term.xlsx']\n",
      "['Continous_2weeks_36day_24term.xlsx']\n",
      "['Continous_2weeks_58day_26term.xlsx']\n",
      "['Continous_2weeks_53day_31term.xlsx' 'Continous_2weeks_61day_23term.xlsx']\n",
      "['Continous_2weeks_53day_31term.xlsx' 'Continous_2weeks_61day_23term.xlsx']\n",
      "['Continous_2weeks_48day_18term.xlsx']\n",
      "['Continous_2weeks_65day_19term.xlsx']\n",
      "['Continous_2weeks_69day_15term.xlsx']\n",
      "['Continous_2weeks_77day_7term.xlsx']\n",
      "['Continous_2weeks_82day_2term.xlsx']\n",
      "['Continous_2weeks_76day_8term.xlsx']\n",
      "['Continous_2weeks_45day_39term.xlsx']\n",
      "['Continous_2weeks_55day_29term.xlsx' 'Continous_2weeks_56day_28term.xlsx']\n",
      "['Continous_2weeks_55day_29term.xlsx' 'Continous_2weeks_56day_28term.xlsx']\n",
      "['Continous_2weeks_83day_1term.xlsx']\n",
      "['Continous_2weeks_72day_12term.xlsx']\n",
      "['Continous_2weeks_60day_24term.xlsx']\n",
      "['Continous_2weeks_47day_37term.xlsx']\n",
      "['Continous_2weeks_20day_16term.xlsx']\n",
      "['Continous_2weeks_64day_10term.xlsx']\n",
      "['Continous_2weeks_46day_38term.xlsx']\n",
      "['Continous_2weeks_78day_6term.xlsx']\n",
      "['Continous_2weeks_54day_30term.xlsx']\n",
      "['Continous_2weeks_66day_18term.xlsx']\n",
      "['Continous_2weeks_73day_11term.xlsx']\n",
      "['Continous_2weeks_74day_10term.xlsx']\n"
     ]
    }
   ],
   "source": [
    "for i in x:\n",
    "    list_index=np.where(optimal_acc_np==i)\n",
    "    print(file_list[list_index])"
   ]
  },
  {
   "cell_type": "code",
   "execution_count": 45,
   "id": "9d96da17",
   "metadata": {},
   "outputs": [
    {
     "name": "stdout",
     "output_type": "stream",
     "text": [
      "(array([72], dtype=int64),)\n"
     ]
    }
   ],
   "source": [
    "list_index=np.where(file_list=='Continous_2weeks_2day_1term.xlsx')\n",
    "print(list_index)"
   ]
  },
  {
   "cell_type": "code",
   "execution_count": 46,
   "id": "103cf40a",
   "metadata": {},
   "outputs": [
    {
     "data": {
      "text/plain": [
       "array([0.859])"
      ]
     },
     "execution_count": 46,
     "metadata": {},
     "output_type": "execute_result"
    }
   ],
   "source": [
    "optimal_acc_np[list_index]"
   ]
  },
  {
   "cell_type": "code",
   "execution_count": 23,
   "id": "aff0fd53",
   "metadata": {},
   "outputs": [
    {
     "ename": "AttributeError",
     "evalue": "'numpy.ndarray' object has no attribute 'index'",
     "output_type": "error",
     "traceback": [
      "\u001b[1;31m---------------------------------------------------------------------------\u001b[0m",
      "\u001b[1;31mAttributeError\u001b[0m                            Traceback (most recent call last)",
      "Cell \u001b[1;32mIn[23], line 1\u001b[0m\n\u001b[1;32m----> 1\u001b[0m \u001b[43mfile_list\u001b[49m\u001b[38;5;241;43m.\u001b[39;49m\u001b[43mindex\u001b[49m(file_list[file_list\u001b[38;5;241m==\u001b[39m\u001b[38;5;124m'\u001b[39m\u001b[38;5;124mContinous_2weeks_28day_8term.xlsx\u001b[39m\u001b[38;5;124m'\u001b[39m])\n",
      "\u001b[1;31mAttributeError\u001b[0m: 'numpy.ndarray' object has no attribute 'index'"
     ]
    }
   ],
   "source": [
    "file_list.index(file_list[file_list=='Continous_2weeks_28day_8term.xlsx'])"
   ]
  },
  {
   "cell_type": "code",
   "execution_count": 57,
   "id": "0b6009c3",
   "metadata": {},
   "outputs": [
    {
     "data": {
      "text/plain": [
       "array([0.7845])"
      ]
     },
     "execution_count": 57,
     "metadata": {},
     "output_type": "execute_result"
    }
   ],
   "source": [
    "list_index=np.where(file_list =='Continous_2weeks_2day_1term.xlsx')\n",
    "\n",
    "\n",
    "optimal_acc_np[list_index]"
   ]
  },
  {
   "cell_type": "code",
   "execution_count": null,
   "id": "6c449dd7",
   "metadata": {},
   "outputs": [],
   "source": []
  }
 ],
 "metadata": {
  "kernelspec": {
   "display_name": "Python 3 (ipykernel)",
   "language": "python",
   "name": "python3"
  },
  "language_info": {
   "codemirror_mode": {
    "name": "ipython",
    "version": 3
   },
   "file_extension": ".py",
   "mimetype": "text/x-python",
   "name": "python",
   "nbconvert_exporter": "python",
   "pygments_lexer": "ipython3",
   "version": "3.8.11"
  }
 },
 "nbformat": 4,
 "nbformat_minor": 5
}
