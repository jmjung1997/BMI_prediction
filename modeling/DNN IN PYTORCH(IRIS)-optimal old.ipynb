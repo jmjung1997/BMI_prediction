{
 "cells": [
  {
   "cell_type": "markdown",
   "id": "a4661d8e",
   "metadata": {},
   "source": [
    "## 기본 베이지 DNN"
   ]
  },
  {
   "cell_type": "code",
   "execution_count": 1,
   "id": "fdca589c",
   "metadata": {},
   "outputs": [],
   "source": [
    "import pandas as pd\n",
    "import numpy as np\n",
    "import torch\n",
    "import torch.nn as nn\n",
    "from sklearn.preprocessing import MinMaxScaler\n",
    "from tensorflow.python.keras.models import Sequential\n",
    "from tensorflow.python.keras.layers import Dense,Dropout,Activation\n",
    "from torch.utils.data import TensorDataset, DataLoader\n",
    "from tensorflow.python.keras import metrics\n",
    "from tensorflow.python import keras\n",
    "import tensorflow as tf\n",
    "import matplotlib.pyplot as plt\n",
    "import os\n",
    "from imblearn.over_sampling import SMOTE\n",
    "import math\n",
    "import matplotlib.pyplot as plt\n",
    "%matplotlib inline\n",
    "\n"
   ]
  },
  {
   "cell_type": "code",
   "execution_count": 2,
   "id": "69a5dcb4",
   "metadata": {},
   "outputs": [],
   "source": [
    "%matplotlib inline"
   ]
  },
  {
   "cell_type": "code",
   "execution_count": 3,
   "id": "324a1b1a",
   "metadata": {},
   "outputs": [
    {
     "name": "stdout",
     "output_type": "stream",
     "text": [
      "SMOTE 적용 전 학습용 피처/레이블 데이터 세트:  (58825, 6) (58825,)\n",
      "SMOTE 적용 후 학습용 피처/레이블 데이터 세트:  (166896, 6) (166896,)\n",
      "SMOTE 적용 전 레이블 값 분포: \n",
      " 0    55632\n",
      "1     2010\n",
      "2     1183\n",
      "Name: 8, dtype: int64\n",
      "SMOTE 적용 후 레이블 값 분포: \n",
      " 0    55632\n",
      "1    55632\n",
      "2    55632\n",
      "Name: 8, dtype: int64\n"
     ]
    }
   ],
   "source": [
    "df=pd.read_excel('./optimal_data3_1/'+'Continous_2weeks_2day_1term.xlsx')\n",
    "df.head()\n",
    "X=df.iloc[:,[1,3,4,5,6,7]]\n",
    "y=df.iloc[:,-1]\n",
    "\n",
    "\n",
    "from sklearn.preprocessing import StandardScaler\n",
    "from sklearn.model_selection import train_test_split\n",
    "\n",
    "scaler = StandardScaler()\n",
    "X_scaler = scaler.fit_transform(X)\n",
    "smote = SMOTE(random_state=0)\n",
    "X_train_over,y_train_over = smote.fit_resample(X_scaler,y)\n",
    "print('SMOTE 적용 전 학습용 피처/레이블 데이터 세트: ', X_scaler.shape, y.shape)\n",
    "print('SMOTE 적용 후 학습용 피처/레이블 데이터 세트: ', X_train_over.shape, y_train_over.shape)\n",
    "print('SMOTE 적용 전 레이블 값 분포: \\n', pd.Series(y).value_counts())\n",
    "print('SMOTE 적용 후 레이블 값 분포: \\n', pd.Series(y_train_over).value_counts())"
   ]
  },
  {
   "cell_type": "code",
   "execution_count": 4,
   "id": "b267ff3a",
   "metadata": {},
   "outputs": [],
   "source": [
    "X_train, X_test, y_train, y_test = train_test_split(X_train_over, y_train_over, test_size=0.20, stratify=y_train_over)\n",
    "\n",
    "# X_train = scaler.fit_transform(X_train)\n",
    "# X_test = scaler.transform(X_test)\n",
    "\n",
    "\n",
    "X_train = torch.FloatTensor(X_train)\n",
    "X_test = torch.FloatTensor(X_test)\n",
    "y_train = torch.LongTensor(y_train.to_numpy())\n",
    "y_test = torch.LongTensor(y_test.to_numpy())\n",
    "\n",
    "train_dataset = TensorDataset(X_train, y_train)\n",
    "test_dataset=TensorDataset(X_test, y_test)\n",
    "\n",
    "train_dataloader = DataLoader(train_dataset, batch_size=16,shuffle=False)\n",
    "test_dataloader = DataLoader(test_dataset, batch_size=16,shuffle=False)\n",
    "\n",
    "import torch.nn as nn\n",
    "import torch.nn.functional as F\n",
    "import torch.optim as optim"
   ]
  },
  {
   "cell_type": "code",
   "execution_count": 5,
   "id": "36f43b2c",
   "metadata": {},
   "outputs": [],
   "source": [
    "class DNNModel(nn.Module):\n",
    "    def __init__(self):\n",
    "        super(DNNModel, self).__init__()\n",
    "        self.input_layer = nn.Linear(6, 128)\n",
    "        self.hidden_layer1 = nn.Linear(128, 256)\n",
    "        self.hidden_layer2 = nn.Linear(256, 128)\n",
    "        self.output_layer   = nn.Linear(128,3)\n",
    "        self.relu = nn.ReLU()\n",
    "\n",
    "\n",
    "\n",
    "    def forward(self, x):\n",
    "        out =  self.relu(self.input_layer(x))\n",
    "        out =  self.relu(self.hidden_layer1(out))\n",
    "        out =  self.relu(self.hidden_layer2(out))\n",
    "        out =  self.output_layer(out)\n",
    "        return out \n",
    "\n",
    "\n",
    "\n",
    "# device 설정 (cuda:0 혹은 cpu)\n",
    "device = torch.device(\"cuda:0\" if torch.cuda.is_available() else \"cpu\")\n",
    "model = DNNModel() # Model 생성\n",
    "model.to(device)   # device 에 로드 (cpu or cuda)\n",
    "\n",
    "# 옵티마이저를 정의합니다. 옵티마이저에는 model.parameters()를 지정해야 합니다.\n",
    "optimizer = optim.Adam(model.parameters(), lr=0.001)\n",
    "\n",
    "# 손실함수(loss function)을 지정합니다. Multi-Class Classification 이기 때문에 CrossEntropy 손실을 지정하였습니다.\n",
    "loss_fn = nn.CrossEntropyLoss()"
   ]
  },
  {
   "cell_type": "code",
   "execution_count": 6,
   "id": "84ee7a15",
   "metadata": {},
   "outputs": [],
   "source": [
    "from tqdm import tqdm  # Progress Bar 출력\n",
    "\n",
    "def model_train(model, data_loader, loss_fn, optimizer, device):\n",
    "    # 모델을 훈련모드로 설정합니다. training mode 일 때 Gradient 가 업데이트 됩니다. 반드시 train()으로 모드 변경을 해야 합니다.\n",
    "    model.train()\n",
    "    # loss와 accuracy 계산을 위한 임시 변수 입니다. 0으로 초기화합니다.\n",
    "    running_loss = 0\n",
    "    corr = 0\n",
    "\n",
    "    # 예쁘게 Progress Bar를 출력하면서 훈련 상태를 모니터링 하기 위하여 tqdm으로 래핑합니다.\n",
    "    prograss_bar = tqdm(data_loader)\n",
    "\n",
    "    # mini-batch 학습을 시작합니다.\n",
    "    for data, lbl in prograss_bar:\n",
    "        # image, label 데이터를 device에 올립니다.\n",
    "        data, lbl = data.to(device), lbl.to(device)\n",
    "        # 누적 Gradient를 초기화 합니다.\n",
    "        optimizer.zero_grad()\n",
    "\n",
    "        # Forward Propagation을 진행하여 결과를 얻습니다.\n",
    "        output = model(data)\n",
    "\n",
    "        # 손실함수에 output, label 값을 대입하여 손실을 계산합니다.\n",
    "        loss = loss_fn(output, lbl)\n",
    "        # 오차역전파(Back Propagation)을 진행하여 미분 값을 계산합니다.\n",
    "        loss.backward()\n",
    "\n",
    "        # 계산된 Gradient를 업데이트 합니다.\n",
    "        optimizer.step()\n",
    "\n",
    "        # output의 max(dim=1)은 max probability와 max index를 반환합니다.\n",
    "        # max probability는 무시하고, max index는 pred에 저장하여 label 값과 대조하여 정확도를 도출합니다.\n",
    "        _, pred = output.max(dim=1)\n",
    "        # pred.eq(lbl).sum() 은 정확히 맞춘 label의 합계를 계산합니다. item()은 tensor에서 값을 추출합니다.\n",
    "        # 합계는 corr 변수에 누적합니다.\n",
    "        corr += pred.eq(lbl).sum().item()\n",
    "        \n",
    "        # loss 값은 1개 배치의 평균 손실(loss) 입니다. data.size(0)은 배치사이즈(batch size) 입니다.\n",
    "        # loss 와 data.size(0)를 곱하면 1개 배치의 전체 loss가 계산됩니다.\n",
    "        # 이를 누적한 뒤 Epoch 종료시 전체 데이터셋의 개수로 나누어 평균 loss를 산출합니다.\n",
    "        running_loss += loss.item() * data.size(0)\n",
    "\n",
    "    # 누적된 정답수를 전체 개수로 나누어 주면 정확도가 산출됩니다.\n",
    "    acc = corr / len(data_loader.dataset)\n",
    "    # 평균 손실(loss)과 정확도를 반환합니다.\n",
    "    # train_loss, train_acc\n",
    "    return running_loss / len(data_loader.dataset), acc"
   ]
  },
  {
   "cell_type": "code",
   "execution_count": 7,
   "id": "bac3824a",
   "metadata": {},
   "outputs": [],
   "source": [
    "def model_evaluate(model, data_loader, loss_fn, device):\n",
    "    # model.eval()은 모델을 평가모드로 설정을 바꾸어 줍니다. \n",
    "    # dropout과 같은 layer의 역할 변경을 위하여 evaluation 진행시 꼭 필요한 절차 입니다.\n",
    "    model.eval()\n",
    "    # Gradient가 업데이트 되는 것을 방지 하기 위하여 반드시 필요합니다.\n",
    "    with torch.no_grad():\n",
    "        # loss와 accuracy 계산을 위한 임시 변수 입니다. 0으로 초기화합니다.\n",
    "        corr = 0\n",
    "        running_loss = 0\n",
    "\n",
    "        # 배치별 evaluation을 진행합니다.\n",
    "        for data, lbl in data_loader:\n",
    "            # device에 데이터를 올립니다.\n",
    "            data, lbl = data.to(device), lbl.to(device)\n",
    "\n",
    "            # 모델에 Forward Propagation을 하여 결과를 도출합니다.\n",
    "            output = model(data)\n",
    "\n",
    "            # output의 max(dim=1)은 max probability와 max index를 반환합니다.\n",
    "            # max probability는 무시하고, max index는 pred에 저장하여 label 값과 대조하여 정확도를 도출합니다.\n",
    "            _, pred = output.max(dim=1)\n",
    "            \n",
    "\n",
    "            # pred.eq(lbl).sum() 은 정확히 맞춘 label의 합계를 계산합니다. item()은 tensor에서 값을 추출합니다.\n",
    "            # 합계는 corr 변수에 누적합니다.\n",
    "            corr += torch.sum(pred.eq(lbl)).item()\n",
    "            \n",
    "            # loss 값은 1개 배치의 평균 손실(loss) 입니다. data.size(0)은 배치사이즈(batch size) 입니다.\n",
    "            # loss 와 data.size(0)를 곱하면 1개 배치의 전체 loss가 계산됩니다.\n",
    "            # 이를 누적한 뒤 Epoch 종료시 전체 데이터셋의 개수로 나누어 평균 loss를 산출합니다.\n",
    "            running_loss += loss_fn(output, lbl).item() * data.size(0)\n",
    "\n",
    "        # validation 정확도를 계산합니다.\n",
    "        # 누적한 정답숫자를 전체 데이터셋의 숫자로 나누어 최종 accuracy를 산출합니다.\n",
    "        acc = corr / len(data_loader.dataset)\n",
    "\n",
    "        # 결과를 반환합니다.\n",
    "        # val_loss, val_acc\n",
    "        return running_loss / len(data_loader.dataset), acc"
   ]
  },
  {
   "cell_type": "code",
   "execution_count": 8,
   "id": "dbc43103",
   "metadata": {},
   "outputs": [],
   "source": [
    "def model_test(model, data_loader, loss_fn, device):\n",
    "    # model.eval()은 모델을 평가모드로 설정을 바꾸어 줍니다. \n",
    "    # dropout과 같은 layer의 역할 변경을 위하여 evaluation 진행시 꼭 필요한 절차 입니다.\n",
    "    model.eval()\n",
    "    pred_list=[]\n",
    "    # Gradient가 업데이트 되는 것을 방지 하기 위하여 반드시 필요합니다.\n",
    "    with torch.no_grad():\n",
    "        # loss와 accuracy 계산을 위한 임시 변수 입니다. 0으로 초기화합니다.\n",
    "        corr = 0\n",
    "        running_loss = 0\n",
    "\n",
    "        # 배치별 evaluation을 진행합니다.\n",
    "        for data, lbl in data_loader:\n",
    "            # device에 데이터를 올립니다.\n",
    "            data, lbl = data.to(device), lbl.to(device)\n",
    "\n",
    "            # 모델에 Forward Propagation을 하여 결과를 도출합니다.\n",
    "            output = model(data)\n",
    "\n",
    "            # output의 max(dim=1)은 max probability와 max index를 반환합니다.\n",
    "            # max probability는 무시하고, max index는 pred에 저장하여 label 값과 대조하여 정확도를 도출합니다.\n",
    "            _, pred = output.max(dim=1)\n",
    "            pred_array = pred.tolist()\n",
    "            pred_list.append(pred_array) # confusion matrix를 위해 pred 리턴 값\n",
    "            # pred.eq(lbl).sum() 은 정확히 맞춘 label의 합계를 계산합니다. item()은 tensor에서 값을 추출합니다.\n",
    "            # 합계는 corr 변수에 누적합니다.\n",
    "            corr += torch.sum(pred.eq(lbl)).item()\n",
    "            \n",
    "            # loss 값은 1개 배치의 평균 손실(loss) 입니다. data.size(0)은 배치사이즈(batch size) 입니다.\n",
    "            # loss 와 data.size(0)를 곱하면 1개 배치의 전체 loss가 계산됩니다.\n",
    "            # 이를 누적한 뒤 Epoch 종료시 전체 데이터셋의 개수로 나누어 평균 loss를 산출합니다.\n",
    "            running_loss += loss_fn(output, lbl).item() * data.size(0)\n",
    "\n",
    "        # validation 정확도를 계산합니다.\n",
    "        # 누적한 정답숫자를 전체 데이터셋의 숫자로 나누어 최종 accuracy를 산출합니다.\n",
    "        acc = corr / len(data_loader.dataset)\n",
    "\n",
    "        # 결과를 반환합니다.\n",
    "        # val_loss, val_acc\n",
    "        return running_loss / len(data_loader.dataset), acc, pred_list"
   ]
  },
  {
   "cell_type": "code",
   "execution_count": 9,
   "id": "373d3e15",
   "metadata": {},
   "outputs": [
    {
     "name": "stderr",
     "output_type": "stream",
     "text": [
      "100%|█████████████████████████████████████████████████████████████████████████████| 8345/8345 [00:15<00:00, 550.00it/s]\n"
     ]
    },
    {
     "name": "stdout",
     "output_type": "stream",
     "text": [
      "[INFO] val_acc has been improved from 9999999999999.00000 to 0.80591. Saving Model!\n",
      "epoch 01, loss: 0.89893, acc: 0.55123, val_loss: 0.80591, val_accuracy: 0.62220\n"
     ]
    },
    {
     "name": "stderr",
     "output_type": "stream",
     "text": [
      "100%|█████████████████████████████████████████████████████████████████████████████| 8345/8345 [00:15<00:00, 532.38it/s]\n"
     ]
    },
    {
     "name": "stdout",
     "output_type": "stream",
     "text": [
      "[INFO] val_acc has been improved from 0.80591 to 0.66914. Saving Model!\n",
      "epoch 02, loss: 0.71805, acc: 0.67889, val_loss: 0.66914, val_accuracy: 0.71297\n"
     ]
    },
    {
     "name": "stderr",
     "output_type": "stream",
     "text": [
      "100%|█████████████████████████████████████████████████████████████████████████████| 8345/8345 [00:15<00:00, 551.74it/s]\n"
     ]
    },
    {
     "name": "stdout",
     "output_type": "stream",
     "text": [
      "[INFO] val_acc has been improved from 0.66914 to 0.58168. Saving Model!\n",
      "epoch 03, loss: 0.61198, acc: 0.73847, val_loss: 0.58168, val_accuracy: 0.75743\n"
     ]
    },
    {
     "name": "stderr",
     "output_type": "stream",
     "text": [
      "100%|█████████████████████████████████████████████████████████████████████████████| 8345/8345 [00:15<00:00, 534.59it/s]\n"
     ]
    },
    {
     "name": "stdout",
     "output_type": "stream",
     "text": [
      "[INFO] val_acc has been improved from 0.58168 to 0.53353. Saving Model!\n",
      "epoch 04, loss: 0.54966, acc: 0.77231, val_loss: 0.53353, val_accuracy: 0.78415\n"
     ]
    },
    {
     "name": "stderr",
     "output_type": "stream",
     "text": [
      "100%|█████████████████████████████████████████████████████████████████████████████| 8345/8345 [00:15<00:00, 548.79it/s]\n"
     ]
    },
    {
     "name": "stdout",
     "output_type": "stream",
     "text": [
      "[INFO] val_acc has been improved from 0.53353 to 0.49589. Saving Model!\n",
      "epoch 05, loss: 0.50681, acc: 0.79396, val_loss: 0.49589, val_accuracy: 0.80150\n"
     ]
    },
    {
     "name": "stderr",
     "output_type": "stream",
     "text": [
      "100%|█████████████████████████████████████████████████████████████████████████████| 8345/8345 [00:15<00:00, 547.15it/s]\n"
     ]
    },
    {
     "name": "stdout",
     "output_type": "stream",
     "text": [
      "[INFO] val_acc has been improved from 0.49589 to 0.47290. Saving Model!\n",
      "epoch 06, loss: 0.47743, acc: 0.80829, val_loss: 0.47290, val_accuracy: 0.80992\n"
     ]
    },
    {
     "name": "stderr",
     "output_type": "stream",
     "text": [
      "100%|█████████████████████████████████████████████████████████████████████████████| 8345/8345 [00:15<00:00, 544.97it/s]\n"
     ]
    },
    {
     "name": "stdout",
     "output_type": "stream",
     "text": [
      "epoch 07, loss: 0.45433, acc: 0.81888, val_loss: 0.47746, val_accuracy: 0.81067\n"
     ]
    },
    {
     "name": "stderr",
     "output_type": "stream",
     "text": [
      "100%|█████████████████████████████████████████████████████████████████████████████| 8345/8345 [00:15<00:00, 547.27it/s]\n"
     ]
    },
    {
     "name": "stdout",
     "output_type": "stream",
     "text": [
      "[INFO] val_acc has been improved from 0.47290 to 0.44461. Saving Model!\n",
      "epoch 08, loss: 0.43579, acc: 0.82699, val_loss: 0.44461, val_accuracy: 0.82466\n"
     ]
    },
    {
     "name": "stderr",
     "output_type": "stream",
     "text": [
      "100%|█████████████████████████████████████████████████████████████████████████████| 8345/8345 [00:15<00:00, 541.40it/s]\n"
     ]
    },
    {
     "name": "stdout",
     "output_type": "stream",
     "text": [
      "[INFO] val_acc has been improved from 0.44461 to 0.43938. Saving Model!\n",
      "epoch 09, loss: 0.42129, acc: 0.83280, val_loss: 0.43938, val_accuracy: 0.82864\n"
     ]
    },
    {
     "name": "stderr",
     "output_type": "stream",
     "text": [
      "100%|█████████████████████████████████████████████████████████████████████████████| 8345/8345 [00:15<00:00, 556.13it/s]\n"
     ]
    },
    {
     "name": "stdout",
     "output_type": "stream",
     "text": [
      "[INFO] val_acc has been improved from 0.43938 to 0.42723. Saving Model!\n",
      "epoch 10, loss: 0.40915, acc: 0.83794, val_loss: 0.42723, val_accuracy: 0.83385\n"
     ]
    },
    {
     "name": "stderr",
     "output_type": "stream",
     "text": [
      "100%|█████████████████████████████████████████████████████████████████████████████| 8345/8345 [00:15<00:00, 553.33it/s]\n"
     ]
    },
    {
     "name": "stdout",
     "output_type": "stream",
     "text": [
      "[INFO] val_acc has been improved from 0.42723 to 0.41857. Saving Model!\n",
      "epoch 11, loss: 0.39813, acc: 0.84299, val_loss: 0.41857, val_accuracy: 0.83478\n"
     ]
    },
    {
     "name": "stderr",
     "output_type": "stream",
     "text": [
      "100%|█████████████████████████████████████████████████████████████████████████████| 8345/8345 [00:15<00:00, 540.18it/s]\n"
     ]
    },
    {
     "name": "stdout",
     "output_type": "stream",
     "text": [
      "[INFO] val_acc has been improved from 0.41857 to 0.40628. Saving Model!\n",
      "epoch 12, loss: 0.38725, acc: 0.84793, val_loss: 0.40628, val_accuracy: 0.83883\n"
     ]
    },
    {
     "name": "stderr",
     "output_type": "stream",
     "text": [
      "100%|█████████████████████████████████████████████████████████████████████████████| 8345/8345 [00:15<00:00, 548.15it/s]\n"
     ]
    },
    {
     "name": "stdout",
     "output_type": "stream",
     "text": [
      "[INFO] val_acc has been improved from 0.40628 to 0.40068. Saving Model!\n",
      "epoch 13, loss: 0.37904, acc: 0.85161, val_loss: 0.40068, val_accuracy: 0.84305\n"
     ]
    },
    {
     "name": "stderr",
     "output_type": "stream",
     "text": [
      "100%|█████████████████████████████████████████████████████████████████████████████| 8345/8345 [00:15<00:00, 543.23it/s]\n"
     ]
    },
    {
     "name": "stdout",
     "output_type": "stream",
     "text": [
      "[INFO] val_acc has been improved from 0.40068 to 0.39125. Saving Model!\n",
      "epoch 14, loss: 0.37120, acc: 0.85427, val_loss: 0.39125, val_accuracy: 0.84787\n"
     ]
    },
    {
     "name": "stderr",
     "output_type": "stream",
     "text": [
      "100%|█████████████████████████████████████████████████████████████████████████████| 8345/8345 [00:15<00:00, 553.48it/s]\n"
     ]
    },
    {
     "name": "stdout",
     "output_type": "stream",
     "text": [
      "epoch 15, loss: 0.36385, acc: 0.85763, val_loss: 0.39164, val_accuracy: 0.84629\n"
     ]
    },
    {
     "name": "stderr",
     "output_type": "stream",
     "text": [
      "100%|█████████████████████████████████████████████████████████████████████████████| 8345/8345 [00:15<00:00, 555.15it/s]\n"
     ]
    },
    {
     "name": "stdout",
     "output_type": "stream",
     "text": [
      "[INFO] val_acc has been improved from 0.39125 to 0.37678. Saving Model!\n",
      "epoch 16, loss: 0.35782, acc: 0.86045, val_loss: 0.37678, val_accuracy: 0.85560\n"
     ]
    },
    {
     "name": "stderr",
     "output_type": "stream",
     "text": [
      "100%|█████████████████████████████████████████████████████████████████████████████| 8345/8345 [00:15<00:00, 551.28it/s]\n"
     ]
    },
    {
     "name": "stdout",
     "output_type": "stream",
     "text": [
      "[INFO] val_acc has been improved from 0.37678 to 0.37141. Saving Model!\n",
      "epoch 17, loss: 0.35164, acc: 0.86285, val_loss: 0.37141, val_accuracy: 0.85665\n"
     ]
    },
    {
     "name": "stderr",
     "output_type": "stream",
     "text": [
      "100%|█████████████████████████████████████████████████████████████████████████████| 8345/8345 [00:14<00:00, 557.95it/s]\n"
     ]
    },
    {
     "name": "stdout",
     "output_type": "stream",
     "text": [
      "[INFO] val_acc has been improved from 0.37141 to 0.35814. Saving Model!\n",
      "epoch 18, loss: 0.34626, acc: 0.86482, val_loss: 0.35814, val_accuracy: 0.86192\n"
     ]
    },
    {
     "name": "stderr",
     "output_type": "stream",
     "text": [
      "100%|█████████████████████████████████████████████████████████████████████████████| 8345/8345 [00:14<00:00, 557.34it/s]\n"
     ]
    },
    {
     "name": "stdout",
     "output_type": "stream",
     "text": [
      "epoch 19, loss: 0.34160, acc: 0.86663, val_loss: 0.36138, val_accuracy: 0.85980\n"
     ]
    },
    {
     "name": "stderr",
     "output_type": "stream",
     "text": [
      "100%|█████████████████████████████████████████████████████████████████████████████| 8345/8345 [00:15<00:00, 548.82it/s]\n"
     ]
    },
    {
     "name": "stdout",
     "output_type": "stream",
     "text": [
      "epoch 20, loss: 0.33651, acc: 0.86941, val_loss: 0.36348, val_accuracy: 0.85953\n"
     ]
    },
    {
     "name": "stderr",
     "output_type": "stream",
     "text": [
      "100%|█████████████████████████████████████████████████████████████████████████████| 8345/8345 [00:14<00:00, 559.41it/s]\n"
     ]
    },
    {
     "name": "stdout",
     "output_type": "stream",
     "text": [
      "[INFO] val_acc has been improved from 0.35814 to 0.35388. Saving Model!\n",
      "epoch 21, loss: 0.33179, acc: 0.87083, val_loss: 0.35388, val_accuracy: 0.86456\n"
     ]
    },
    {
     "name": "stderr",
     "output_type": "stream",
     "text": [
      "100%|█████████████████████████████████████████████████████████████████████████████| 8345/8345 [00:15<00:00, 546.05it/s]\n"
     ]
    },
    {
     "name": "stdout",
     "output_type": "stream",
     "text": [
      "epoch 22, loss: 0.32768, acc: 0.87133, val_loss: 0.35499, val_accuracy: 0.86759\n"
     ]
    },
    {
     "name": "stderr",
     "output_type": "stream",
     "text": [
      "100%|█████████████████████████████████████████████████████████████████████████████| 8345/8345 [00:15<00:00, 549.96it/s]\n"
     ]
    },
    {
     "name": "stdout",
     "output_type": "stream",
     "text": [
      "[INFO] val_acc has been improved from 0.35388 to 0.34630. Saving Model!\n",
      "epoch 23, loss: 0.32407, acc: 0.87338, val_loss: 0.34630, val_accuracy: 0.87142\n"
     ]
    },
    {
     "name": "stderr",
     "output_type": "stream",
     "text": [
      "100%|█████████████████████████████████████████████████████████████████████████████| 8345/8345 [00:15<00:00, 549.37it/s]\n"
     ]
    },
    {
     "name": "stdout",
     "output_type": "stream",
     "text": [
      "epoch 24, loss: 0.32074, acc: 0.87508, val_loss: 0.34631, val_accuracy: 0.87079\n"
     ]
    },
    {
     "name": "stderr",
     "output_type": "stream",
     "text": [
      "100%|█████████████████████████████████████████████████████████████████████████████| 8345/8345 [00:15<00:00, 543.31it/s]\n"
     ]
    },
    {
     "name": "stdout",
     "output_type": "stream",
     "text": [
      "epoch 25, loss: 0.31686, acc: 0.87615, val_loss: 0.34853, val_accuracy: 0.86980\n"
     ]
    },
    {
     "name": "stderr",
     "output_type": "stream",
     "text": [
      "100%|█████████████████████████████████████████████████████████████████████████████| 8345/8345 [00:14<00:00, 559.16it/s]\n"
     ]
    },
    {
     "name": "stdout",
     "output_type": "stream",
     "text": [
      "epoch 26, loss: 0.31319, acc: 0.87755, val_loss: 0.34981, val_accuracy: 0.86794\n"
     ]
    },
    {
     "name": "stderr",
     "output_type": "stream",
     "text": [
      "100%|█████████████████████████████████████████████████████████████████████████████| 8345/8345 [00:14<00:00, 557.74it/s]\n"
     ]
    },
    {
     "name": "stdout",
     "output_type": "stream",
     "text": [
      "[INFO] val_acc has been improved from 0.34630 to 0.32814. Saving Model!\n",
      "epoch 27, loss: 0.31129, acc: 0.87906, val_loss: 0.32814, val_accuracy: 0.87804\n"
     ]
    },
    {
     "name": "stderr",
     "output_type": "stream",
     "text": [
      "100%|█████████████████████████████████████████████████████████████████████████████| 8345/8345 [00:15<00:00, 551.92it/s]\n"
     ]
    },
    {
     "name": "stdout",
     "output_type": "stream",
     "text": [
      "epoch 28, loss: 0.30763, acc: 0.88077, val_loss: 0.33379, val_accuracy: 0.87481\n"
     ]
    },
    {
     "name": "stderr",
     "output_type": "stream",
     "text": [
      "100%|█████████████████████████████████████████████████████████████████████████████| 8345/8345 [00:14<00:00, 559.16it/s]\n"
     ]
    },
    {
     "name": "stdout",
     "output_type": "stream",
     "text": [
      "epoch 29, loss: 0.30418, acc: 0.88211, val_loss: 0.33083, val_accuracy: 0.87484\n"
     ]
    },
    {
     "name": "stderr",
     "output_type": "stream",
     "text": [
      "100%|█████████████████████████████████████████████████████████████████████████████| 8345/8345 [00:15<00:00, 553.02it/s]\n"
     ]
    },
    {
     "name": "stdout",
     "output_type": "stream",
     "text": [
      "[INFO] val_acc has been improved from 0.32814 to 0.32797. Saving Model!\n",
      "epoch 30, loss: 0.30207, acc: 0.88219, val_loss: 0.32797, val_accuracy: 0.87522\n"
     ]
    },
    {
     "name": "stderr",
     "output_type": "stream",
     "text": [
      "100%|█████████████████████████████████████████████████████████████████████████████| 8345/8345 [00:14<00:00, 557.88it/s]\n"
     ]
    },
    {
     "name": "stdout",
     "output_type": "stream",
     "text": [
      "epoch 31, loss: 0.29987, acc: 0.88369, val_loss: 0.33307, val_accuracy: 0.87151\n"
     ]
    },
    {
     "name": "stderr",
     "output_type": "stream",
     "text": [
      "100%|█████████████████████████████████████████████████████████████████████████████| 8345/8345 [00:14<00:00, 556.79it/s]\n"
     ]
    },
    {
     "name": "stdout",
     "output_type": "stream",
     "text": [
      "[INFO] val_acc has been improved from 0.32797 to 0.32590. Saving Model!\n",
      "epoch 32, loss: 0.29776, acc: 0.88386, val_loss: 0.32590, val_accuracy: 0.87945\n"
     ]
    },
    {
     "name": "stderr",
     "output_type": "stream",
     "text": [
      "100%|█████████████████████████████████████████████████████████████████████████████| 8345/8345 [00:15<00:00, 552.78it/s]\n"
     ]
    },
    {
     "name": "stdout",
     "output_type": "stream",
     "text": [
      "epoch 33, loss: 0.29491, acc: 0.88522, val_loss: 0.32909, val_accuracy: 0.87379\n"
     ]
    },
    {
     "name": "stderr",
     "output_type": "stream",
     "text": [
      "100%|█████████████████████████████████████████████████████████████████████████████| 8345/8345 [00:14<00:00, 558.07it/s]\n"
     ]
    },
    {
     "name": "stdout",
     "output_type": "stream",
     "text": [
      "[INFO] val_acc has been improved from 0.32590 to 0.32393. Saving Model!\n",
      "epoch 34, loss: 0.29352, acc: 0.88608, val_loss: 0.32393, val_accuracy: 0.87900\n"
     ]
    },
    {
     "name": "stderr",
     "output_type": "stream",
     "text": [
      "100%|█████████████████████████████████████████████████████████████████████████████| 8345/8345 [00:14<00:00, 557.50it/s]\n"
     ]
    },
    {
     "name": "stdout",
     "output_type": "stream",
     "text": [
      "[INFO] val_acc has been improved from 0.32393 to 0.32247. Saving Model!\n",
      "epoch 35, loss: 0.28994, acc: 0.88715, val_loss: 0.32247, val_accuracy: 0.87855\n"
     ]
    },
    {
     "name": "stderr",
     "output_type": "stream",
     "text": [
      "100%|█████████████████████████████████████████████████████████████████████████████| 8345/8345 [00:15<00:00, 547.71it/s]\n"
     ]
    },
    {
     "name": "stdout",
     "output_type": "stream",
     "text": [
      "[INFO] val_acc has been improved from 0.32247 to 0.31882. Saving Model!\n",
      "epoch 36, loss: 0.28855, acc: 0.88807, val_loss: 0.31882, val_accuracy: 0.87966\n"
     ]
    },
    {
     "name": "stderr",
     "output_type": "stream",
     "text": [
      "100%|█████████████████████████████████████████████████████████████████████████████| 8345/8345 [00:15<00:00, 552.28it/s]\n"
     ]
    },
    {
     "name": "stdout",
     "output_type": "stream",
     "text": [
      "[INFO] val_acc has been improved from 0.31882 to 0.31795. Saving Model!\n",
      "epoch 37, loss: 0.28671, acc: 0.88859, val_loss: 0.31795, val_accuracy: 0.88032\n"
     ]
    },
    {
     "name": "stderr",
     "output_type": "stream",
     "text": [
      "100%|█████████████████████████████████████████████████████████████████████████████| 8345/8345 [00:15<00:00, 548.69it/s]\n"
     ]
    },
    {
     "name": "stdout",
     "output_type": "stream",
     "text": [
      "epoch 38, loss: 0.28482, acc: 0.88990, val_loss: 0.32236, val_accuracy: 0.87774\n"
     ]
    },
    {
     "name": "stderr",
     "output_type": "stream",
     "text": [
      "100%|█████████████████████████████████████████████████████████████████████████████| 8345/8345 [00:15<00:00, 552.63it/s]\n"
     ]
    },
    {
     "name": "stdout",
     "output_type": "stream",
     "text": [
      "epoch 39, loss: 0.28250, acc: 0.89046, val_loss: 0.31905, val_accuracy: 0.87918\n"
     ]
    },
    {
     "name": "stderr",
     "output_type": "stream",
     "text": [
      "100%|█████████████████████████████████████████████████████████████████████████████| 8345/8345 [00:15<00:00, 551.95it/s]\n"
     ]
    },
    {
     "name": "stdout",
     "output_type": "stream",
     "text": [
      "[INFO] val_acc has been improved from 0.31795 to 0.31371. Saving Model!\n",
      "epoch 40, loss: 0.28044, acc: 0.89117, val_loss: 0.31371, val_accuracy: 0.88214\n"
     ]
    },
    {
     "name": "stderr",
     "output_type": "stream",
     "text": [
      "100%|█████████████████████████████████████████████████████████████████████████████| 8345/8345 [00:15<00:00, 546.33it/s]\n"
     ]
    },
    {
     "name": "stdout",
     "output_type": "stream",
     "text": [
      "epoch 41, loss: 0.27930, acc: 0.89147, val_loss: 0.31742, val_accuracy: 0.87954\n"
     ]
    },
    {
     "name": "stderr",
     "output_type": "stream",
     "text": [
      "100%|█████████████████████████████████████████████████████████████████████████████| 8345/8345 [00:15<00:00, 554.91it/s]\n"
     ]
    },
    {
     "name": "stdout",
     "output_type": "stream",
     "text": [
      "[INFO] val_acc has been improved from 0.31371 to 0.31168. Saving Model!\n",
      "epoch 42, loss: 0.27729, acc: 0.89252, val_loss: 0.31168, val_accuracy: 0.88379\n"
     ]
    },
    {
     "name": "stderr",
     "output_type": "stream",
     "text": [
      "100%|█████████████████████████████████████████████████████████████████████████████| 8345/8345 [00:15<00:00, 553.10it/s]\n"
     ]
    },
    {
     "name": "stdout",
     "output_type": "stream",
     "text": [
      "epoch 43, loss: 0.27396, acc: 0.89326, val_loss: 0.31472, val_accuracy: 0.88406\n"
     ]
    },
    {
     "name": "stderr",
     "output_type": "stream",
     "text": [
      "100%|█████████████████████████████████████████████████████████████████████████████| 8345/8345 [00:15<00:00, 546.51it/s]\n"
     ]
    },
    {
     "name": "stdout",
     "output_type": "stream",
     "text": [
      "[INFO] val_acc has been improved from 0.31168 to 0.30569. Saving Model!\n",
      "epoch 44, loss: 0.27357, acc: 0.89350, val_loss: 0.30569, val_accuracy: 0.88694\n"
     ]
    },
    {
     "name": "stderr",
     "output_type": "stream",
     "text": [
      "100%|█████████████████████████████████████████████████████████████████████████████| 8345/8345 [00:15<00:00, 552.87it/s]\n"
     ]
    },
    {
     "name": "stdout",
     "output_type": "stream",
     "text": [
      "epoch 45, loss: 0.27228, acc: 0.89362, val_loss: 0.30787, val_accuracy: 0.88466\n"
     ]
    },
    {
     "name": "stderr",
     "output_type": "stream",
     "text": [
      "100%|█████████████████████████████████████████████████████████████████████████████| 8345/8345 [00:15<00:00, 548.75it/s]\n"
     ]
    },
    {
     "name": "stdout",
     "output_type": "stream",
     "text": [
      "epoch 46, loss: 0.27100, acc: 0.89439, val_loss: 0.31369, val_accuracy: 0.88250\n"
     ]
    },
    {
     "name": "stderr",
     "output_type": "stream",
     "text": [
      "100%|█████████████████████████████████████████████████████████████████████████████| 8345/8345 [00:15<00:00, 553.29it/s]\n"
     ]
    },
    {
     "name": "stdout",
     "output_type": "stream",
     "text": [
      "epoch 47, loss: 0.27074, acc: 0.89448, val_loss: 0.31077, val_accuracy: 0.88259\n"
     ]
    },
    {
     "name": "stderr",
     "output_type": "stream",
     "text": [
      "100%|█████████████████████████████████████████████████████████████████████████████| 8345/8345 [00:15<00:00, 553.67it/s]\n"
     ]
    },
    {
     "name": "stdout",
     "output_type": "stream",
     "text": [
      "epoch 48, loss: 0.26895, acc: 0.89586, val_loss: 0.30677, val_accuracy: 0.88505\n"
     ]
    },
    {
     "name": "stderr",
     "output_type": "stream",
     "text": [
      "100%|█████████████████████████████████████████████████████████████████████████████| 8345/8345 [00:15<00:00, 546.79it/s]\n"
     ]
    },
    {
     "name": "stdout",
     "output_type": "stream",
     "text": [
      "epoch 49, loss: 0.26706, acc: 0.89626, val_loss: 0.30889, val_accuracy: 0.88616\n"
     ]
    },
    {
     "name": "stderr",
     "output_type": "stream",
     "text": [
      "100%|█████████████████████████████████████████████████████████████████████████████| 8345/8345 [00:15<00:00, 554.25it/s]\n"
     ]
    },
    {
     "name": "stdout",
     "output_type": "stream",
     "text": [
      "[INFO] val_acc has been improved from 0.30569 to 0.30494. Saving Model!\n",
      "epoch 50, loss: 0.26569, acc: 0.89722, val_loss: 0.30494, val_accuracy: 0.88628\n"
     ]
    },
    {
     "name": "stderr",
     "output_type": "stream",
     "text": [
      "100%|█████████████████████████████████████████████████████████████████████████████| 8345/8345 [00:15<00:00, 553.83it/s]\n"
     ]
    },
    {
     "name": "stdout",
     "output_type": "stream",
     "text": [
      "epoch 51, loss: 0.26563, acc: 0.89707, val_loss: 0.30502, val_accuracy: 0.88514\n"
     ]
    },
    {
     "name": "stderr",
     "output_type": "stream",
     "text": [
      "100%|█████████████████████████████████████████████████████████████████████████████| 8345/8345 [00:15<00:00, 545.53it/s]\n"
     ]
    },
    {
     "name": "stdout",
     "output_type": "stream",
     "text": [
      "[INFO] val_acc has been improved from 0.30494 to 0.29539. Saving Model!\n",
      "epoch 52, loss: 0.26411, acc: 0.89779, val_loss: 0.29539, val_accuracy: 0.89182\n"
     ]
    },
    {
     "name": "stderr",
     "output_type": "stream",
     "text": [
      "100%|█████████████████████████████████████████████████████████████████████████████| 8345/8345 [00:15<00:00, 554.06it/s]\n"
     ]
    },
    {
     "name": "stdout",
     "output_type": "stream",
     "text": [
      "epoch 53, loss: 0.26263, acc: 0.89798, val_loss: 0.30233, val_accuracy: 0.88880\n"
     ]
    },
    {
     "name": "stderr",
     "output_type": "stream",
     "text": [
      "100%|█████████████████████████████████████████████████████████████████████████████| 8345/8345 [00:15<00:00, 548.82it/s]\n"
     ]
    },
    {
     "name": "stdout",
     "output_type": "stream",
     "text": [
      "epoch 54, loss: 0.26111, acc: 0.89807, val_loss: 0.29547, val_accuracy: 0.88763\n"
     ]
    },
    {
     "name": "stderr",
     "output_type": "stream",
     "text": [
      "100%|█████████████████████████████████████████████████████████████████████████████| 8345/8345 [00:15<00:00, 552.60it/s]\n"
     ]
    },
    {
     "name": "stdout",
     "output_type": "stream",
     "text": [
      "epoch 55, loss: 0.25940, acc: 0.89906, val_loss: 0.30670, val_accuracy: 0.88658\n"
     ]
    },
    {
     "name": "stderr",
     "output_type": "stream",
     "text": [
      "100%|█████████████████████████████████████████████████████████████████████████████| 8345/8345 [00:15<00:00, 551.06it/s]\n"
     ]
    },
    {
     "name": "stdout",
     "output_type": "stream",
     "text": [
      "epoch 56, loss: 0.25894, acc: 0.89906, val_loss: 0.30585, val_accuracy: 0.88691\n"
     ]
    },
    {
     "name": "stderr",
     "output_type": "stream",
     "text": [
      "100%|█████████████████████████████████████████████████████████████████████████████| 8345/8345 [00:15<00:00, 546.43it/s]\n"
     ]
    },
    {
     "name": "stdout",
     "output_type": "stream",
     "text": [
      "epoch 57, loss: 0.25687, acc: 0.89963, val_loss: 0.30316, val_accuracy: 0.88996\n"
     ]
    },
    {
     "name": "stderr",
     "output_type": "stream",
     "text": [
      "100%|█████████████████████████████████████████████████████████████████████████████| 8345/8345 [00:15<00:00, 554.16it/s]\n"
     ]
    },
    {
     "name": "stdout",
     "output_type": "stream",
     "text": [
      "epoch 58, loss: 0.25642, acc: 0.90067, val_loss: 0.30225, val_accuracy: 0.88481\n"
     ]
    },
    {
     "name": "stderr",
     "output_type": "stream",
     "text": [
      "100%|█████████████████████████████████████████████████████████████████████████████| 8345/8345 [00:15<00:00, 552.21it/s]\n"
     ]
    },
    {
     "name": "stdout",
     "output_type": "stream",
     "text": [
      "epoch 59, loss: 0.25455, acc: 0.90156, val_loss: 0.29741, val_accuracy: 0.89386\n"
     ]
    },
    {
     "name": "stderr",
     "output_type": "stream",
     "text": [
      "100%|█████████████████████████████████████████████████████████████████████████████| 8345/8345 [00:15<00:00, 549.06it/s]\n"
     ]
    },
    {
     "name": "stdout",
     "output_type": "stream",
     "text": [
      "epoch 60, loss: 0.25508, acc: 0.90154, val_loss: 0.29833, val_accuracy: 0.88939\n"
     ]
    },
    {
     "name": "stderr",
     "output_type": "stream",
     "text": [
      "100%|█████████████████████████████████████████████████████████████████████████████| 8345/8345 [00:15<00:00, 555.10it/s]\n"
     ]
    },
    {
     "name": "stdout",
     "output_type": "stream",
     "text": [
      "epoch 61, loss: 0.25272, acc: 0.90238, val_loss: 0.30046, val_accuracy: 0.88936\n"
     ]
    },
    {
     "name": "stderr",
     "output_type": "stream",
     "text": [
      "100%|█████████████████████████████████████████████████████████████████████████████| 8345/8345 [00:15<00:00, 547.24it/s]\n"
     ]
    },
    {
     "name": "stdout",
     "output_type": "stream",
     "text": [
      "epoch 62, loss: 0.25215, acc: 0.90257, val_loss: 0.29808, val_accuracy: 0.89131\n"
     ]
    },
    {
     "name": "stderr",
     "output_type": "stream",
     "text": [
      "100%|█████████████████████████████████████████████████████████████████████████████| 8345/8345 [00:15<00:00, 553.50it/s]\n"
     ]
    },
    {
     "name": "stdout",
     "output_type": "stream",
     "text": [
      "epoch 63, loss: 0.25153, acc: 0.90204, val_loss: 0.30354, val_accuracy: 0.88963\n"
     ]
    },
    {
     "name": "stderr",
     "output_type": "stream",
     "text": [
      "100%|█████████████████████████████████████████████████████████████████████████████| 8345/8345 [00:15<00:00, 551.87it/s]\n"
     ]
    },
    {
     "name": "stdout",
     "output_type": "stream",
     "text": [
      "[INFO] val_acc has been improved from 0.29539 to 0.29146. Saving Model!\n",
      "epoch 64, loss: 0.25114, acc: 0.90288, val_loss: 0.29146, val_accuracy: 0.89164\n"
     ]
    },
    {
     "name": "stderr",
     "output_type": "stream",
     "text": [
      "100%|█████████████████████████████████████████████████████████████████████████████| 8345/8345 [00:15<00:00, 546.22it/s]\n"
     ]
    },
    {
     "name": "stdout",
     "output_type": "stream",
     "text": [
      "epoch 65, loss: 0.25048, acc: 0.90323, val_loss: 0.29968, val_accuracy: 0.89047\n"
     ]
    },
    {
     "name": "stderr",
     "output_type": "stream",
     "text": [
      "100%|█████████████████████████████████████████████████████████████████████████████| 8345/8345 [00:15<00:00, 555.24it/s]\n"
     ]
    },
    {
     "name": "stdout",
     "output_type": "stream",
     "text": [
      "[INFO] val_acc has been improved from 0.29146 to 0.29046. Saving Model!\n",
      "epoch 66, loss: 0.24956, acc: 0.90379, val_loss: 0.29046, val_accuracy: 0.89392\n"
     ]
    },
    {
     "name": "stderr",
     "output_type": "stream",
     "text": [
      "100%|█████████████████████████████████████████████████████████████████████████████| 8345/8345 [00:15<00:00, 549.85it/s]\n"
     ]
    },
    {
     "name": "stdout",
     "output_type": "stream",
     "text": [
      "epoch 67, loss: 0.24782, acc: 0.90405, val_loss: 0.29315, val_accuracy: 0.89257\n"
     ]
    },
    {
     "name": "stderr",
     "output_type": "stream",
     "text": [
      "100%|█████████████████████████████████████████████████████████████████████████████| 8345/8345 [00:15<00:00, 545.94it/s]\n"
     ]
    },
    {
     "name": "stdout",
     "output_type": "stream",
     "text": [
      "epoch 68, loss: 0.24768, acc: 0.90433, val_loss: 0.30108, val_accuracy: 0.89005\n"
     ]
    },
    {
     "name": "stderr",
     "output_type": "stream",
     "text": [
      "100%|█████████████████████████████████████████████████████████████████████████████| 8345/8345 [00:15<00:00, 553.42it/s]\n"
     ]
    },
    {
     "name": "stdout",
     "output_type": "stream",
     "text": [
      "epoch 69, loss: 0.24557, acc: 0.90554, val_loss: 0.29411, val_accuracy: 0.89212\n"
     ]
    },
    {
     "name": "stderr",
     "output_type": "stream",
     "text": [
      "100%|█████████████████████████████████████████████████████████████████████████████| 8345/8345 [00:15<00:00, 546.94it/s]\n"
     ]
    },
    {
     "name": "stdout",
     "output_type": "stream",
     "text": [
      "epoch 70, loss: 0.24572, acc: 0.90528, val_loss: 0.29447, val_accuracy: 0.89173\n"
     ]
    },
    {
     "name": "stderr",
     "output_type": "stream",
     "text": [
      "100%|█████████████████████████████████████████████████████████████████████████████| 8345/8345 [00:15<00:00, 555.11it/s]\n"
     ]
    },
    {
     "name": "stdout",
     "output_type": "stream",
     "text": [
      "epoch 71, loss: 0.24447, acc: 0.90522, val_loss: 0.29492, val_accuracy: 0.89317\n"
     ]
    },
    {
     "name": "stderr",
     "output_type": "stream",
     "text": [
      "100%|█████████████████████████████████████████████████████████████████████████████| 8345/8345 [00:15<00:00, 553.56it/s]\n"
     ]
    },
    {
     "name": "stdout",
     "output_type": "stream",
     "text": [
      "epoch 72, loss: 0.24429, acc: 0.90612, val_loss: 0.29266, val_accuracy: 0.89401\n"
     ]
    },
    {
     "name": "stderr",
     "output_type": "stream",
     "text": [
      "100%|█████████████████████████████████████████████████████████████████████████████| 8345/8345 [00:15<00:00, 547.33it/s]\n"
     ]
    },
    {
     "name": "stdout",
     "output_type": "stream",
     "text": [
      "epoch 73, loss: 0.24348, acc: 0.90595, val_loss: 0.29631, val_accuracy: 0.89317\n"
     ]
    },
    {
     "name": "stderr",
     "output_type": "stream",
     "text": [
      "100%|█████████████████████████████████████████████████████████████████████████████| 8345/8345 [00:15<00:00, 553.81it/s]\n"
     ]
    },
    {
     "name": "stdout",
     "output_type": "stream",
     "text": [
      "[INFO] val_acc has been improved from 0.29046 to 0.28706. Saving Model!\n",
      "epoch 74, loss: 0.24389, acc: 0.90560, val_loss: 0.28706, val_accuracy: 0.89670\n"
     ]
    },
    {
     "name": "stderr",
     "output_type": "stream",
     "text": [
      "100%|█████████████████████████████████████████████████████████████████████████████| 8345/8345 [00:15<00:00, 553.69it/s]\n"
     ]
    },
    {
     "name": "stdout",
     "output_type": "stream",
     "text": [
      "epoch 75, loss: 0.24215, acc: 0.90640, val_loss: 0.29987, val_accuracy: 0.89029\n"
     ]
    },
    {
     "name": "stderr",
     "output_type": "stream",
     "text": [
      "100%|█████████████████████████████████████████████████████████████████████████████| 8345/8345 [00:15<00:00, 549.88it/s]\n"
     ]
    },
    {
     "name": "stdout",
     "output_type": "stream",
     "text": [
      "epoch 76, loss: 0.24172, acc: 0.90654, val_loss: 0.29809, val_accuracy: 0.89449\n"
     ]
    },
    {
     "name": "stderr",
     "output_type": "stream",
     "text": [
      "100%|█████████████████████████████████████████████████████████████████████████████| 8345/8345 [00:15<00:00, 553.23it/s]\n"
     ]
    },
    {
     "name": "stdout",
     "output_type": "stream",
     "text": [
      "epoch 77, loss: 0.24007, acc: 0.90748, val_loss: 0.28847, val_accuracy: 0.89551\n"
     ]
    },
    {
     "name": "stderr",
     "output_type": "stream",
     "text": [
      "100%|█████████████████████████████████████████████████████████████████████████████| 8345/8345 [00:15<00:00, 546.42it/s]\n"
     ]
    },
    {
     "name": "stdout",
     "output_type": "stream",
     "text": [
      "epoch 78, loss: 0.23981, acc: 0.90761, val_loss: 0.28811, val_accuracy: 0.89623\n"
     ]
    },
    {
     "name": "stderr",
     "output_type": "stream",
     "text": [
      "100%|█████████████████████████████████████████████████████████████████████████████| 8345/8345 [00:15<00:00, 554.98it/s]\n"
     ]
    },
    {
     "name": "stdout",
     "output_type": "stream",
     "text": [
      "epoch 79, loss: 0.23938, acc: 0.90786, val_loss: 0.29169, val_accuracy: 0.89365\n"
     ]
    },
    {
     "name": "stderr",
     "output_type": "stream",
     "text": [
      "100%|█████████████████████████████████████████████████████████████████████████████| 8345/8345 [00:15<00:00, 552.66it/s]\n"
     ]
    },
    {
     "name": "stdout",
     "output_type": "stream",
     "text": [
      "epoch 80, loss: 0.23858, acc: 0.90783, val_loss: 0.29214, val_accuracy: 0.89476\n"
     ]
    },
    {
     "name": "stderr",
     "output_type": "stream",
     "text": [
      "100%|█████████████████████████████████████████████████████████████████████████████| 8345/8345 [00:15<00:00, 545.57it/s]\n"
     ]
    },
    {
     "name": "stdout",
     "output_type": "stream",
     "text": [
      "epoch 81, loss: 0.23819, acc: 0.90819, val_loss: 0.28830, val_accuracy: 0.89416\n"
     ]
    },
    {
     "name": "stderr",
     "output_type": "stream",
     "text": [
      "100%|█████████████████████████████████████████████████████████████████████████████| 8345/8345 [00:15<00:00, 553.02it/s]\n"
     ]
    },
    {
     "name": "stdout",
     "output_type": "stream",
     "text": [
      "epoch 82, loss: 0.23648, acc: 0.90947, val_loss: 0.29459, val_accuracy: 0.89212\n"
     ]
    },
    {
     "name": "stderr",
     "output_type": "stream",
     "text": [
      "100%|█████████████████████████████████████████████████████████████████████████████| 8345/8345 [00:15<00:00, 552.18it/s]\n"
     ]
    },
    {
     "name": "stdout",
     "output_type": "stream",
     "text": [
      "epoch 83, loss: 0.23659, acc: 0.90922, val_loss: 0.29341, val_accuracy: 0.89314\n"
     ]
    },
    {
     "name": "stderr",
     "output_type": "stream",
     "text": [
      "100%|█████████████████████████████████████████████████████████████████████████████| 8345/8345 [00:15<00:00, 551.69it/s]\n"
     ]
    },
    {
     "name": "stdout",
     "output_type": "stream",
     "text": [
      "epoch 84, loss: 0.23588, acc: 0.90907, val_loss: 0.29183, val_accuracy: 0.89296\n"
     ]
    },
    {
     "name": "stderr",
     "output_type": "stream",
     "text": [
      "100%|█████████████████████████████████████████████████████████████████████████████| 8345/8345 [00:15<00:00, 554.67it/s]\n"
     ]
    },
    {
     "name": "stdout",
     "output_type": "stream",
     "text": [
      "[INFO] val_acc has been improved from 0.28706 to 0.28554. Saving Model!\n",
      "epoch 85, loss: 0.23444, acc: 0.90923, val_loss: 0.28554, val_accuracy: 0.89380\n"
     ]
    },
    {
     "name": "stderr",
     "output_type": "stream",
     "text": [
      "100%|█████████████████████████████████████████████████████████████████████████████| 8345/8345 [00:15<00:00, 547.73it/s]\n"
     ]
    },
    {
     "name": "stdout",
     "output_type": "stream",
     "text": [
      "epoch 86, loss: 0.23493, acc: 0.90898, val_loss: 0.28712, val_accuracy: 0.89667\n"
     ]
    },
    {
     "name": "stderr",
     "output_type": "stream",
     "text": [
      "100%|█████████████████████████████████████████████████████████████████████████████| 8345/8345 [00:15<00:00, 555.20it/s]\n"
     ]
    },
    {
     "name": "stdout",
     "output_type": "stream",
     "text": [
      "epoch 87, loss: 0.23476, acc: 0.90991, val_loss: 0.28984, val_accuracy: 0.89371\n"
     ]
    },
    {
     "name": "stderr",
     "output_type": "stream",
     "text": [
      "100%|█████████████████████████████████████████████████████████████████████████████| 8345/8345 [00:15<00:00, 552.86it/s]\n"
     ]
    },
    {
     "name": "stdout",
     "output_type": "stream",
     "text": [
      "epoch 88, loss: 0.23355, acc: 0.91067, val_loss: 0.29154, val_accuracy: 0.89317\n"
     ]
    },
    {
     "name": "stderr",
     "output_type": "stream",
     "text": [
      "100%|█████████████████████████████████████████████████████████████████████████████| 8345/8345 [00:15<00:00, 547.74it/s]\n"
     ]
    },
    {
     "name": "stdout",
     "output_type": "stream",
     "text": [
      "epoch 89, loss: 0.23242, acc: 0.91075, val_loss: 0.29443, val_accuracy: 0.89398\n"
     ]
    },
    {
     "name": "stderr",
     "output_type": "stream",
     "text": [
      "100%|█████████████████████████████████████████████████████████████████████████████| 8345/8345 [00:15<00:00, 552.96it/s]\n"
     ]
    },
    {
     "name": "stdout",
     "output_type": "stream",
     "text": [
      "epoch 90, loss: 0.23286, acc: 0.91037, val_loss: 0.29371, val_accuracy: 0.89599\n"
     ]
    },
    {
     "name": "stderr",
     "output_type": "stream",
     "text": [
      "100%|█████████████████████████████████████████████████████████████████████████████| 8345/8345 [00:15<00:00, 551.38it/s]\n"
     ]
    },
    {
     "name": "stdout",
     "output_type": "stream",
     "text": [
      "epoch 91, loss: 0.23136, acc: 0.91062, val_loss: 0.29016, val_accuracy: 0.89617\n"
     ]
    },
    {
     "name": "stderr",
     "output_type": "stream",
     "text": [
      "100%|█████████████████████████████████████████████████████████████████████████████| 8345/8345 [00:15<00:00, 550.47it/s]\n"
     ]
    },
    {
     "name": "stdout",
     "output_type": "stream",
     "text": [
      "[INFO] val_acc has been improved from 0.28554 to 0.28314. Saving Model!\n",
      "epoch 92, loss: 0.23130, acc: 0.91062, val_loss: 0.28314, val_accuracy: 0.89473\n"
     ]
    },
    {
     "name": "stderr",
     "output_type": "stream",
     "text": [
      "100%|█████████████████████████████████████████████████████████████████████████████| 8345/8345 [00:15<00:00, 553.18it/s]\n"
     ]
    },
    {
     "name": "stdout",
     "output_type": "stream",
     "text": [
      "epoch 93, loss: 0.23067, acc: 0.91137, val_loss: 0.29219, val_accuracy: 0.89551\n"
     ]
    },
    {
     "name": "stderr",
     "output_type": "stream",
     "text": [
      "100%|█████████████████████████████████████████████████████████████████████████████| 8345/8345 [00:15<00:00, 547.39it/s]\n"
     ]
    },
    {
     "name": "stdout",
     "output_type": "stream",
     "text": [
      "epoch 94, loss: 0.23022, acc: 0.91148, val_loss: 0.29419, val_accuracy: 0.89335\n"
     ]
    },
    {
     "name": "stderr",
     "output_type": "stream",
     "text": [
      "100%|█████████████████████████████████████████████████████████████████████████████| 8345/8345 [00:15<00:00, 555.08it/s]\n"
     ]
    },
    {
     "name": "stdout",
     "output_type": "stream",
     "text": [
      "epoch 95, loss: 0.22994, acc: 0.91115, val_loss: 0.28496, val_accuracy: 0.89596\n"
     ]
    },
    {
     "name": "stderr",
     "output_type": "stream",
     "text": [
      "100%|█████████████████████████████████████████████████████████████████████████████| 8345/8345 [00:15<00:00, 552.50it/s]\n"
     ]
    },
    {
     "name": "stdout",
     "output_type": "stream",
     "text": [
      "epoch 96, loss: 0.22878, acc: 0.91203, val_loss: 0.28642, val_accuracy: 0.89572\n"
     ]
    },
    {
     "name": "stderr",
     "output_type": "stream",
     "text": [
      "100%|█████████████████████████████████████████████████████████████████████████████| 8345/8345 [00:15<00:00, 548.38it/s]\n"
     ]
    },
    {
     "name": "stdout",
     "output_type": "stream",
     "text": [
      "epoch 97, loss: 0.22829, acc: 0.91228, val_loss: 0.28492, val_accuracy: 0.89691\n"
     ]
    },
    {
     "name": "stderr",
     "output_type": "stream",
     "text": [
      "100%|█████████████████████████████████████████████████████████████████████████████| 8345/8345 [00:15<00:00, 554.73it/s]\n"
     ]
    },
    {
     "name": "stdout",
     "output_type": "stream",
     "text": [
      "epoch 98, loss: 0.22896, acc: 0.91236, val_loss: 0.28412, val_accuracy: 0.89877\n"
     ]
    },
    {
     "name": "stderr",
     "output_type": "stream",
     "text": [
      "100%|█████████████████████████████████████████████████████████████████████████████| 8345/8345 [00:15<00:00, 550.34it/s]\n"
     ]
    },
    {
     "name": "stdout",
     "output_type": "stream",
     "text": [
      "epoch 99, loss: 0.22636, acc: 0.91283, val_loss: 0.29796, val_accuracy: 0.89425\n"
     ]
    },
    {
     "name": "stderr",
     "output_type": "stream",
     "text": [
      "100%|█████████████████████████████████████████████████████████████████████████████| 8345/8345 [00:15<00:00, 552.49it/s]\n"
     ]
    },
    {
     "name": "stdout",
     "output_type": "stream",
     "text": [
      "epoch 100, loss: 0.22676, acc: 0.91236, val_loss: 0.28949, val_accuracy: 0.89551\n",
      "evaluation loss: 0.28314, evaluation accuracy: 0.89473\n"
     ]
    }
   ],
   "source": [
    "# 최대 Epoch을 지정합니다.\n",
    "num_epochs = 100\n",
    "min_loss = 9999999999999\n",
    "loss_list=[]\n",
    "acc_list=[]\n",
    "# Epoch 별 훈련 및 검증을 수행합니다.\n",
    "for epoch in range(num_epochs):\n",
    "    # Model Training\n",
    "    # 훈련 손실과 정확도를 반환 받습니다.\n",
    "    train_loss, train_acc = model_train(model, train_dataloader, loss_fn, optimizer, device)\n",
    "    \n",
    "    # 검증 손실과 검증 정확도를 반환 받습니다.\n",
    "    val_loss, val_acc = model_evaluate(model, test_dataloader, loss_fn, device)   \n",
    "\n",
    "    # val_loss 가 개선되었다면 min_loss를 갱신하고 model의 가중치(weights)를 저장합니다.\n",
    "    if val_loss < min_loss:\n",
    "            print(f'[INFO] val_acc has been improved from {min_loss:.5f} to {val_loss:.5f}. Saving Model!')\n",
    "            min_loss = val_loss\n",
    "            torch.save(model.state_dict(), 'DNNModel.pth')\n",
    "\n",
    "    # Epoch 별 결과를 출력합니다.\n",
    "    print(f'epoch {epoch+1:02d}, loss: {train_loss:.5f}, acc: {train_acc:.5f}, val_loss: {val_loss:.5f}, val_accuracy: {val_acc:.5f}')\n",
    "    loss_list.append(train_loss)\n",
    "    acc_list.append(train_acc)\n",
    "## 저장한 가중치 로드 후 검증 성능 측정\n",
    "\n",
    "# 모델에 저장한 가중치를 로드합니다.\n",
    "model.load_state_dict(torch.load('DNNModel.pth'))\n",
    "\n",
    "# 최종 검증 손실(validation loss)와 검증 정확도(validation accuracy)를 산출합니다.\n",
    "final_loss, final_acc, pred_list = model_test(model, test_dataloader, loss_fn, device)\n",
    "print(f'evaluation loss: {final_loss:.5f}, evaluation accuracy: {final_acc:.5f}')\n"
   ]
  },
  {
   "cell_type": "code",
   "execution_count": 10,
   "id": "a816a654",
   "metadata": {},
   "outputs": [
    {
     "data": {
      "text/plain": [
       "[[0, 2, 2, 1, 2, 1, 0, 2, 1, 2, 1, 1, 2, 2, 1, 2],\n",
       " [1, 0, 0, 2, 0, 0, 0, 1, 1, 1, 2, 0, 0, 0, 1, 1],\n",
       " [2, 2, 1, 1, 1, 2, 2, 2, 2, 2, 2, 1, 0, 1, 0, 2],\n",
       " [0, 1, 2, 0, 0, 2, 1, 0, 0, 1, 0, 1, 1, 1, 0, 0],\n",
       " [1, 0, 1, 2, 2, 2, 2, 1, 1, 0, 0, 2, 0, 2, 1, 2],\n",
       " [0, 1, 2, 0, 1, 1, 2, 1, 0, 1, 2, 1, 1, 1, 2, 1],\n",
       " [2, 0, 2, 0, 1, 2, 1, 2, 2, 0, 0, 2, 1, 2, 1, 2],\n",
       " [0, 0, 1, 1, 0, 2, 1, 1, 1, 0, 0, 0, 1, 2, 1, 2],\n",
       " [2, 1, 1, 2, 0, 0, 2, 0, 0, 0, 1, 2, 0, 2, 2, 2],\n",
       " [0, 1, 2, 0, 1, 2, 2, 1, 0, 0, 2, 2, 2, 0, 1, 1],\n",
       " [2, 0, 0, 2, 2, 0, 0, 2, 1, 2, 0, 2, 2, 2, 0, 2],\n",
       " [2, 2, 1, 2, 2, 1, 1, 1, 0, 2, 1, 0, 1, 0, 1, 1],\n",
       " [2, 0, 2, 1, 1, 1, 0, 1, 1, 2, 2, 2, 1, 1, 1, 1],\n",
       " [1, 2, 2, 0, 0, 1, 1, 2, 1, 0, 0, 0, 1, 0, 2, 0],\n",
       " [2, 1, 1, 2, 1, 1, 2, 2, 0, 2, 1, 1, 0, 1, 1, 2],\n",
       " [1, 2, 1, 2, 2, 1, 0, 1, 0, 0, 0, 2, 0, 0, 0, 0],\n",
       " [1, 0, 2, 0, 2, 0, 0, 0, 1, 2, 1, 2, 2, 0, 2, 0],\n",
       " [1, 2, 2, 1, 1, 2, 1, 0, 1, 2, 1, 0, 0, 0, 0, 1],\n",
       " [1, 1, 2, 1, 1, 0, 2, 0, 0, 2, 1, 2, 2, 0, 1, 2],\n",
       " [0, 2, 1, 1, 0, 2, 1, 0, 0, 1, 2, 2, 2, 1, 1, 0],\n",
       " [1, 1, 1, 2, 1, 0, 2, 1, 2, 2, 2, 2, 0, 1, 1, 0],\n",
       " [2, 2, 2, 2, 0, 1, 0, 1, 2, 2, 2, 1, 0, 1, 1, 2],\n",
       " [1, 1, 0, 2, 1, 2, 1, 0, 1, 1, 1, 1, 0, 2, 1, 0],\n",
       " [0, 1, 0, 0, 2, 1, 2, 2, 1, 2, 0, 0, 0, 0, 0, 0],\n",
       " [2, 1, 2, 0, 2, 2, 1, 2, 0, 1, 2, 0, 2, 0, 0, 2],\n",
       " [2, 2, 2, 0, 1, 2, 1, 2, 2, 0, 2, 1, 2, 0, 0, 1],\n",
       " [0, 1, 1, 1, 0, 0, 2, 0, 2, 2, 1, 1, 2, 0, 0, 2],\n",
       " [0, 2, 2, 0, 0, 1, 1, 1, 0, 2, 0, 2, 2, 1, 0, 1],\n",
       " [1, 0, 0, 2, 1, 1, 2, 1, 1, 2, 1, 0, 2, 2, 2, 1],\n",
       " [1, 2, 2, 1, 0, 0, 2, 0, 0, 1, 2, 0, 2, 2, 2, 2],\n",
       " [1, 1, 0, 0, 1, 0, 2, 0, 0, 2, 2, 2, 0, 0, 2, 1],\n",
       " [0, 0, 1, 2, 1, 1, 0, 1, 0, 1, 2, 0, 0, 1, 1, 1],\n",
       " [0, 0, 2, 1, 2, 2, 0, 0, 1, 0, 0, 1, 0, 0, 0, 2],\n",
       " [0, 2, 1, 2, 2, 2, 1, 1, 0, 1, 1, 0, 1, 1, 2, 1],\n",
       " [2, 2, 0, 0, 0, 2, 0, 0, 2, 0, 0, 0, 1, 1, 0, 0],\n",
       " [0, 2, 2, 0, 0, 2, 2, 2, 2, 0, 0, 2, 1, 2, 2, 2],\n",
       " [0, 1, 2, 1, 2, 1, 0, 0, 1, 1, 2, 0, 2, 1, 0, 2],\n",
       " [1, 2, 0, 1, 1, 2, 1, 0, 1, 0, 2, 0, 2, 0, 1, 2],\n",
       " [2, 2, 0, 2, 0, 0, 2, 2, 1, 2, 2, 2, 2, 1, 1, 2],\n",
       " [2, 1, 1, 2, 2, 2, 2, 1, 2, 2, 0, 0, 0, 0, 0, 1],\n",
       " [0, 0, 0, 2, 0, 0, 0, 0, 1, 0, 2, 1, 2, 2, 1, 0],\n",
       " [1, 1, 1, 1, 2, 2, 0, 0, 0, 1, 1, 0, 1, 2, 0, 0],\n",
       " [2, 2, 0, 2, 0, 2, 2, 1, 1, 1, 1, 1, 2, 1, 2, 1],\n",
       " [1, 1, 2, 2, 0, 1, 2, 2, 0, 0, 0, 2, 1, 1, 1, 0],\n",
       " [1, 2, 0, 1, 0, 1, 1, 2, 2, 2, 0, 1, 0, 1, 1, 1],\n",
       " [1, 2, 2, 0, 2, 0, 2, 1, 2, 2, 2, 0, 1, 2, 1, 1],\n",
       " [1, 2, 0, 2, 1, 1, 2, 2, 2, 1, 0, 2, 0, 1, 1, 1],\n",
       " [2, 2, 1, 1, 1, 1, 0, 1, 0, 2, 0, 1, 2, 2, 1, 2],\n",
       " [1, 1, 0, 1, 2, 0, 0, 1, 1, 1, 0, 2, 2, 2, 0, 1],\n",
       " [0, 1, 1, 2, 2, 1, 2, 1, 2, 2, 0, 2, 0, 0, 2, 2],\n",
       " [0, 2, 2, 1, 1, 2, 1, 2, 0, 2, 1, 0, 1, 0, 0, 1],\n",
       " [2, 2, 2, 2, 1, 2, 0, 2, 0, 1, 0, 0, 2, 1, 1, 0],\n",
       " [0, 1, 2, 0, 1, 0, 1, 1, 0, 1, 1, 0, 2, 2, 1, 2],\n",
       " [0, 2, 2, 1, 0, 1, 2, 1, 2, 0, 0, 0, 2, 1, 0, 2],\n",
       " [0, 0, 0, 0, 2, 2, 0, 0, 0, 1, 2, 2, 0, 0, 1, 2],\n",
       " [0, 0, 2, 0, 0, 0, 0, 1, 2, 2, 1, 1, 1, 2, 1, 1],\n",
       " [1, 2, 2, 1, 1, 2, 2, 0, 2, 2, 1, 1, 0, 1, 1, 0],\n",
       " [2, 1, 0, 1, 0, 0, 2, 2, 2, 0, 0, 1, 1, 1, 1, 0],\n",
       " [0, 0, 1, 0, 2, 2, 0, 1, 0, 2, 0, 2, 1, 0, 2, 0],\n",
       " [2, 1, 1, 2, 2, 1, 1, 1, 0, 2, 2, 2, 0, 1, 0, 2],\n",
       " [2, 0, 2, 1, 2, 1, 2, 1, 1, 0, 2, 0, 2, 0, 1, 1],\n",
       " [1, 0, 1, 1, 2, 0, 0, 2, 1, 1, 0, 0, 1, 1, 1, 2],\n",
       " [0, 1, 0, 2, 0, 1, 1, 0, 0, 2, 1, 0, 2, 1, 2, 0],\n",
       " [2, 0, 1, 1, 2, 2, 0, 1, 0, 2, 0, 1, 1, 1, 2, 2],\n",
       " [2, 0, 1, 1, 1, 0, 2, 2, 0, 1, 1, 2, 1, 2, 2, 2],\n",
       " [2, 1, 0, 1, 1, 1, 0, 2, 2, 1, 2, 1, 2, 1, 0, 1],\n",
       " [0, 1, 1, 1, 0, 1, 2, 2, 0, 2, 0, 1, 2, 2, 2, 1],\n",
       " [1, 1, 0, 2, 2, 2, 1, 0, 1, 0, 2, 1, 2, 2, 2, 2],\n",
       " [0, 1, 1, 2, 0, 1, 1, 0, 2, 1, 1, 0, 0, 0, 2, 2],\n",
       " [1, 0, 2, 2, 1, 0, 2, 1, 0, 2, 0, 2, 2, 0, 0, 2],\n",
       " [1, 1, 2, 2, 0, 2, 0, 2, 1, 1, 2, 1, 2, 0, 1, 1],\n",
       " [2, 1, 1, 1, 2, 1, 0, 0, 2, 2, 1, 0, 1, 2, 0, 0],\n",
       " [2, 1, 2, 1, 1, 1, 1, 2, 0, 0, 2, 2, 1, 2, 1, 2],\n",
       " [1, 2, 2, 0, 1, 1, 1, 2, 0, 1, 1, 2, 0, 1, 2, 2],\n",
       " [2, 2, 2, 0, 2, 1, 1, 0, 1, 0, 0, 2, 2, 2, 1, 2],\n",
       " [2, 0, 1, 0, 1, 2, 2, 1, 0, 1, 2, 0, 2, 0, 2, 1],\n",
       " [1, 2, 1, 2, 1, 1, 1, 2, 0, 0, 0, 2, 2, 1, 2, 1],\n",
       " [1, 2, 1, 1, 2, 1, 1, 2, 0, 1, 0, 1, 2, 2, 2, 2],\n",
       " [1, 2, 0, 2, 2, 1, 1, 2, 2, 0, 1, 2, 1, 1, 0, 2],\n",
       " [2, 1, 0, 0, 2, 2, 0, 2, 0, 0, 0, 1, 0, 0, 2, 1],\n",
       " [1, 1, 1, 0, 0, 1, 2, 0, 2, 2, 1, 1, 1, 0, 2, 0],\n",
       " [0, 2, 0, 0, 2, 1, 2, 1, 2, 1, 2, 1, 1, 2, 0, 0],\n",
       " [1, 2, 2, 1, 1, 0, 2, 0, 1, 0, 2, 1, 2, 2, 2, 1],\n",
       " [1, 1, 1, 0, 0, 0, 0, 0, 2, 0, 2, 2, 2, 0, 1, 1],\n",
       " [0, 0, 2, 1, 0, 1, 1, 1, 2, 0, 1, 2, 1, 1, 2, 1],\n",
       " [2, 2, 0, 0, 2, 1, 1, 1, 2, 2, 1, 0, 2, 2, 2, 2],\n",
       " [0, 1, 2, 2, 1, 2, 0, 2, 0, 1, 2, 0, 2, 2, 0, 0],\n",
       " [2, 2, 2, 2, 2, 1, 2, 2, 0, 2, 2, 2, 0, 1, 2, 2],\n",
       " [0, 2, 1, 2, 1, 2, 1, 2, 1, 2, 1, 2, 2, 0, 1, 1],\n",
       " [1, 2, 1, 1, 0, 1, 1, 1, 2, 2, 0, 1, 2, 1, 1, 1],\n",
       " [2, 2, 2, 1, 1, 0, 2, 1, 1, 2, 2, 0, 1, 0, 2, 2],\n",
       " [0, 2, 1, 1, 0, 2, 2, 0, 1, 2, 1, 2, 2, 1, 1, 1],\n",
       " [2, 1, 2, 2, 1, 0, 1, 1, 0, 1, 2, 0, 2, 1, 0, 0],\n",
       " [0, 1, 1, 1, 1, 1, 1, 0, 2, 2, 1, 0, 2, 2, 2, 2],\n",
       " [2, 1, 0, 2, 0, 1, 1, 0, 2, 0, 1, 0, 0, 1, 2, 0],\n",
       " [0, 0, 2, 1, 2, 0, 1, 2, 2, 2, 0, 2, 1, 1, 2, 0],\n",
       " [2, 1, 1, 0, 0, 1, 1, 2, 2, 0, 0, 1, 1, 1, 2, 1],\n",
       " [1, 2, 2, 0, 0, 0, 2, 0, 2, 2, 0, 0, 0, 2, 0, 0],\n",
       " [0, 2, 0, 0, 2, 0, 2, 2, 1, 0, 0, 1, 0, 2, 2, 0],\n",
       " [1, 1, 1, 1, 0, 1, 1, 0, 2, 1, 0, 1, 0, 1, 0, 0],\n",
       " [1, 1, 0, 1, 0, 0, 2, 0, 0, 1, 1, 1, 2, 0, 2, 2],\n",
       " [2, 1, 1, 2, 2, 1, 2, 2, 0, 1, 2, 1, 0, 1, 0, 0],\n",
       " [2, 1, 2, 0, 2, 0, 0, 2, 0, 0, 0, 0, 2, 1, 1, 2],\n",
       " [1, 2, 0, 0, 0, 1, 1, 0, 1, 1, 0, 1, 1, 2, 0, 1],\n",
       " [0, 1, 0, 2, 2, 1, 0, 2, 2, 1, 1, 2, 0, 1, 1, 0],\n",
       " [1, 1, 0, 0, 0, 0, 0, 1, 2, 0, 1, 1, 1, 2, 2, 2],\n",
       " [2, 1, 0, 0, 0, 0, 2, 2, 2, 2, 2, 0, 1, 1, 2, 1],\n",
       " [2, 0, 0, 1, 1, 2, 2, 2, 1, 0, 2, 1, 2, 0, 0, 1],\n",
       " [2, 2, 2, 1, 1, 0, 1, 0, 0, 2, 1, 0, 1, 2, 2, 0],\n",
       " [0, 1, 0, 2, 1, 1, 2, 1, 0, 2, 1, 0, 0, 1, 0, 1],\n",
       " [1, 1, 1, 2, 1, 2, 1, 0, 0, 2, 1, 0, 2, 2, 0, 1],\n",
       " [2, 2, 2, 2, 0, 2, 1, 2, 2, 0, 0, 1, 1, 1, 2, 2],\n",
       " [0, 2, 2, 0, 0, 0, 1, 0, 2, 0, 1, 2, 2, 2, 1, 2],\n",
       " [1, 1, 1, 2, 0, 2, 0, 1, 0, 2, 2, 0, 1, 1, 2, 2],\n",
       " [0, 2, 1, 0, 2, 1, 2, 0, 0, 2, 0, 2, 1, 0, 0, 1],\n",
       " [0, 2, 0, 2, 1, 0, 0, 1, 1, 1, 0, 2, 2, 0, 0, 1],\n",
       " [1, 0, 1, 2, 2, 1, 2, 2, 0, 1, 0, 1, 0, 2, 0, 1],\n",
       " [2, 2, 0, 2, 1, 1, 1, 2, 1, 2, 2, 0, 2, 2, 0, 0],\n",
       " [1, 2, 1, 0, 1, 1, 2, 2, 1, 1, 2, 0, 1, 0, 2, 0],\n",
       " [1, 2, 1, 2, 2, 2, 1, 0, 0, 0, 2, 1, 2, 2, 2, 0],\n",
       " [0, 0, 0, 1, 1, 2, 2, 0, 0, 2, 0, 2, 0, 2, 2, 1],\n",
       " [2, 1, 1, 1, 2, 0, 1, 1, 2, 0, 0, 2, 0, 2, 1, 1],\n",
       " [1, 2, 2, 1, 1, 1, 1, 1, 0, 1, 1, 2, 1, 1, 0, 1],\n",
       " [2, 1, 2, 2, 1, 0, 2, 2, 1, 1, 0, 1, 1, 0, 0, 2],\n",
       " [0, 0, 1, 2, 2, 1, 2, 2, 2, 0, 2, 0, 2, 0, 1, 2],\n",
       " [2, 2, 0, 0, 0, 2, 2, 1, 0, 0, 0, 1, 1, 0, 0, 2],\n",
       " [0, 1, 0, 1, 1, 1, 2, 1, 2, 2, 1, 1, 2, 0, 0, 0],\n",
       " [2, 1, 0, 1, 2, 0, 0, 2, 2, 2, 2, 0, 1, 0, 0, 0],\n",
       " [2, 0, 2, 0, 0, 1, 1, 0, 1, 0, 1, 1, 2, 1, 0, 1],\n",
       " [1, 2, 0, 2, 2, 1, 1, 1, 0, 2, 2, 0, 1, 2, 2, 1],\n",
       " [2, 1, 0, 2, 0, 1, 1, 1, 1, 2, 1, 1, 0, 2, 0, 1],\n",
       " [1, 1, 0, 0, 0, 2, 0, 2, 2, 1, 2, 1, 0, 2, 1, 2],\n",
       " [2, 1, 1, 2, 2, 1, 0, 0, 0, 2, 1, 1, 1, 1, 1, 1],\n",
       " [0, 2, 2, 2, 0, 2, 1, 0, 2, 0, 0, 2, 0, 2, 0, 1],\n",
       " [2, 2, 0, 0, 2, 2, 1, 1, 1, 0, 1, 0, 1, 0, 1, 1],\n",
       " [2, 2, 2, 1, 0, 2, 1, 1, 1, 2, 0, 2, 2, 1, 2, 2],\n",
       " [2, 1, 1, 2, 2, 0, 0, 1, 2, 0, 1, 1, 0, 2, 1, 0],\n",
       " [1, 1, 1, 2, 0, 2, 2, 1, 0, 1, 0, 0, 1, 1, 0, 2],\n",
       " [1, 0, 2, 1, 0, 0, 1, 2, 2, 1, 1, 1, 1, 0, 2, 1],\n",
       " [1, 2, 2, 2, 2, 1, 1, 1, 2, 0, 0, 2, 0, 0, 1, 0],\n",
       " [2, 2, 1, 1, 0, 1, 2, 2, 1, 0, 1, 0, 1, 0, 0, 2],\n",
       " [2, 1, 1, 0, 2, 0, 0, 1, 2, 0, 0, 1, 1, 0, 2, 1],\n",
       " [1, 1, 1, 1, 0, 0, 2, 1, 1, 0, 2, 1, 2, 0, 1, 2],\n",
       " [2, 0, 0, 2, 1, 0, 0, 0, 0, 2, 1, 2, 1, 0, 2, 1],\n",
       " [0, 2, 0, 1, 1, 0, 0, 0, 1, 0, 1, 1, 1, 0, 2, 2],\n",
       " [0, 0, 2, 2, 2, 0, 1, 1, 0, 0, 2, 0, 2, 1, 1, 0],\n",
       " [1, 1, 2, 1, 2, 0, 2, 0, 0, 1, 0, 1, 0, 1, 0, 2],\n",
       " [1, 2, 2, 2, 1, 1, 0, 2, 2, 2, 2, 1, 1, 1, 1, 2],\n",
       " [2, 2, 0, 2, 2, 0, 2, 2, 1, 1, 0, 1, 0, 2, 2, 1],\n",
       " [0, 2, 0, 0, 1, 1, 1, 1, 0, 1, 2, 1, 2, 0, 1, 1],\n",
       " [2, 0, 0, 0, 2, 1, 2, 2, 2, 1, 1, 0, 1, 2, 2, 0],\n",
       " [2, 1, 2, 1, 2, 2, 1, 1, 1, 1, 2, 1, 1, 2, 1, 2],\n",
       " [1, 1, 0, 0, 0, 1, 0, 1, 0, 1, 0, 0, 2, 1, 2, 2],\n",
       " [1, 0, 0, 1, 0, 2, 2, 2, 2, 0, 1, 1, 2, 0, 2, 1],\n",
       " [2, 2, 0, 2, 2, 1, 2, 1, 1, 1, 1, 0, 1, 2, 0, 1],\n",
       " [2, 0, 2, 0, 2, 1, 0, 1, 2, 1, 1, 2, 2, 2, 1, 1],\n",
       " [0, 2, 2, 2, 2, 2, 1, 2, 1, 0, 2, 1, 2, 2, 1, 1],\n",
       " [0, 1, 2, 2, 1, 2, 1, 1, 2, 2, 2, 1, 2, 1, 1, 2],\n",
       " [0, 1, 0, 2, 1, 2, 2, 0, 2, 0, 0, 1, 1, 1, 1, 0],\n",
       " [1, 0, 2, 0, 1, 1, 1, 1, 1, 2, 1, 2, 0, 1, 0, 2],\n",
       " [1, 2, 2, 2, 2, 0, 1, 1, 0, 1, 2, 0, 2, 1, 1, 1],\n",
       " [2, 0, 0, 1, 0, 0, 0, 1, 1, 2, 0, 2, 2, 0, 2, 1],\n",
       " [0, 0, 1, 1, 1, 2, 1, 2, 2, 0, 2, 2, 2, 1, 0, 1],\n",
       " [2, 0, 2, 2, 0, 1, 2, 0, 2, 1, 0, 1, 2, 1, 2, 2],\n",
       " [0, 1, 2, 2, 1, 0, 2, 0, 0, 0, 0, 0, 2, 1, 1, 2],\n",
       " [2, 1, 2, 1, 0, 2, 2, 2, 0, 2, 1, 1, 2, 1, 1, 2],\n",
       " [1, 1, 1, 1, 0, 0, 1, 2, 2, 1, 0, 1, 1, 1, 2, 0],\n",
       " [0, 1, 0, 0, 1, 2, 0, 0, 0, 2, 2, 1, 0, 1, 0, 2],\n",
       " [2, 2, 1, 1, 2, 2, 1, 2, 1, 0, 1, 0, 1, 2, 0, 2],\n",
       " [1, 2, 0, 2, 1, 1, 0, 2, 0, 1, 1, 0, 1, 1, 2, 2],\n",
       " [2, 1, 0, 0, 0, 1, 0, 2, 1, 2, 1, 1, 0, 0, 1, 0],\n",
       " [1, 2, 2, 2, 2, 0, 0, 0, 2, 1, 0, 0, 2, 0, 1, 1],\n",
       " [0, 1, 2, 1, 2, 0, 0, 2, 1, 2, 2, 2, 2, 2, 2, 2],\n",
       " [0, 2, 1, 1, 1, 1, 2, 1, 2, 1, 0, 1, 2, 1, 0, 2],\n",
       " [0, 0, 0, 0, 2, 2, 2, 1, 1, 2, 2, 1, 1, 2, 0, 0],\n",
       " [1, 1, 1, 1, 1, 2, 2, 2, 2, 2, 2, 2, 0, 0, 0, 1],\n",
       " [1, 0, 1, 2, 0, 2, 0, 1, 2, 1, 0, 1, 1, 2, 1, 2],\n",
       " [2, 0, 1, 0, 1, 0, 0, 0, 2, 2, 1, 2, 1, 2, 2, 1],\n",
       " [1, 2, 2, 0, 0, 2, 2, 1, 0, 0, 2, 2, 2, 1, 2, 2],\n",
       " [2, 1, 1, 2, 2, 1, 1, 1, 0, 2, 2, 2, 0, 0, 0, 0],\n",
       " [1, 0, 0, 1, 1, 1, 0, 2, 0, 2, 0, 1, 0, 1, 1, 1],\n",
       " [0, 2, 2, 2, 2, 1, 2, 2, 1, 0, 1, 2, 1, 1, 1, 1],\n",
       " [1, 2, 0, 2, 0, 1, 1, 1, 0, 0, 0, 0, 2, 1, 0, 0],\n",
       " [2, 2, 2, 0, 2, 2, 1, 2, 1, 1, 2, 2, 1, 2, 1, 1],\n",
       " [2, 1, 2, 1, 1, 0, 2, 2, 0, 2, 0, 0, 1, 2, 1, 0],\n",
       " [0, 2, 2, 0, 0, 1, 0, 2, 2, 0, 0, 2, 1, 0, 0, 0],\n",
       " [1, 2, 2, 0, 0, 2, 2, 2, 0, 0, 1, 2, 2, 1, 1, 0],\n",
       " [2, 2, 2, 1, 2, 2, 1, 1, 2, 0, 0, 1, 2, 1, 0, 1],\n",
       " [1, 1, 1, 0, 1, 2, 0, 1, 1, 0, 1, 2, 0, 1, 2, 2],\n",
       " [1, 1, 0, 0, 1, 2, 1, 2, 1, 2, 0, 0, 1, 0, 1, 2],\n",
       " [0, 0, 2, 2, 1, 0, 0, 1, 0, 1, 2, 1, 2, 2, 2, 1],\n",
       " [1, 1, 1, 1, 0, 1, 0, 2, 1, 0, 1, 2, 1, 1, 2, 1],\n",
       " [2, 1, 2, 1, 2, 2, 1, 0, 2, 1, 0, 2, 1, 1, 0, 2],\n",
       " [0, 1, 0, 0, 1, 2, 0, 0, 0, 1, 0, 2, 2, 1, 2, 0],\n",
       " [0, 2, 1, 1, 0, 1, 1, 2, 2, 2, 1, 0, 0, 0, 1, 0],\n",
       " [1, 2, 2, 1, 2, 2, 2, 2, 1, 1, 0, 2, 1, 1, 0, 2],\n",
       " [2, 1, 0, 2, 0, 2, 1, 2, 2, 1, 2, 1, 1, 1, 2, 2],\n",
       " [1, 1, 2, 1, 1, 1, 0, 0, 1, 1, 2, 2, 1, 2, 1, 2],\n",
       " [2, 2, 1, 1, 1, 1, 1, 2, 1, 2, 0, 0, 0, 0, 1, 0],\n",
       " [0, 0, 0, 0, 0, 1, 2, 1, 1, 1, 0, 1, 0, 0, 2, 1],\n",
       " [0, 0, 1, 2, 1, 1, 2, 0, 0, 0, 0, 2, 2, 2, 1, 1],\n",
       " [0, 2, 0, 2, 1, 1, 0, 2, 1, 0, 2, 2, 0, 2, 1, 2],\n",
       " [1, 1, 2, 0, 1, 0, 2, 2, 2, 0, 2, 2, 1, 0, 2, 0],\n",
       " [0, 2, 2, 0, 2, 2, 0, 0, 2, 1, 0, 2, 2, 2, 1, 0],\n",
       " [0, 0, 0, 2, 0, 2, 2, 1, 1, 2, 1, 0, 1, 0, 2, 2],\n",
       " [2, 0, 0, 2, 0, 1, 0, 1, 2, 0, 0, 0, 0, 1, 0, 0],\n",
       " [2, 2, 1, 1, 2, 0, 2, 2, 2, 1, 2, 0, 1, 1, 0, 1],\n",
       " [1, 1, 0, 2, 1, 0, 1, 2, 0, 1, 2, 1, 2, 1, 2, 2],\n",
       " [2, 1, 2, 1, 1, 2, 2, 2, 2, 0, 1, 2, 2, 2, 2, 0],\n",
       " [1, 2, 1, 2, 2, 1, 0, 2, 0, 0, 0, 0, 2, 1, 0, 2],\n",
       " [2, 2, 0, 2, 0, 0, 0, 1, 1, 1, 1, 2, 1, 0, 2, 1],\n",
       " [1, 2, 0, 1, 2, 0, 2, 2, 2, 1, 1, 2, 0, 1, 1, 0],\n",
       " [2, 1, 2, 2, 2, 2, 0, 2, 0, 0, 2, 2, 0, 2, 2, 1],\n",
       " [0, 0, 2, 1, 2, 2, 2, 0, 1, 1, 1, 2, 2, 2, 1, 0],\n",
       " [2, 1, 1, 0, 2, 1, 0, 0, 0, 0, 2, 1, 1, 1, 2, 0],\n",
       " [1, 1, 1, 1, 1, 2, 0, 2, 1, 0, 2, 1, 1, 2, 2, 2],\n",
       " [2, 2, 1, 1, 0, 0, 0, 1, 0, 1, 0, 2, 0, 1, 2, 1],\n",
       " [1, 0, 2, 2, 1, 2, 2, 1, 1, 1, 2, 2, 2, 1, 1, 1],\n",
       " [1, 0, 2, 1, 1, 1, 2, 2, 1, 2, 0, 2, 1, 1, 1, 1],\n",
       " [0, 0, 1, 0, 0, 2, 0, 2, 1, 1, 1, 1, 2, 1, 0, 1],\n",
       " [2, 0, 2, 1, 0, 2, 2, 0, 0, 2, 1, 1, 2, 0, 1, 1],\n",
       " [1, 2, 0, 2, 1, 2, 2, 2, 1, 0, 2, 1, 1, 0, 1, 2],\n",
       " [2, 2, 0, 0, 2, 1, 2, 0, 2, 2, 1, 2, 2, 2, 2, 2],\n",
       " [2, 1, 1, 2, 1, 2, 2, 2, 2, 0, 1, 2, 2, 1, 0, 0],\n",
       " [0, 2, 2, 1, 1, 0, 2, 1, 1, 1, 2, 2, 0, 1, 2, 1],\n",
       " [2, 0, 0, 0, 0, 2, 0, 2, 2, 2, 0, 1, 2, 2, 2, 2],\n",
       " [1, 1, 2, 2, 1, 2, 0, 0, 0, 0, 0, 0, 0, 0, 0, 2],\n",
       " [2, 0, 1, 2, 1, 1, 2, 0, 1, 0, 1, 1, 2, 0, 2, 0],\n",
       " [0, 1, 2, 2, 2, 0, 2, 1, 2, 0, 1, 1, 0, 1, 0, 2],\n",
       " [0, 2, 1, 2, 0, 0, 1, 2, 1, 1, 2, 0, 0, 1, 1, 1],\n",
       " [0, 0, 1, 1, 2, 2, 1, 2, 1, 0, 2, 2, 2, 2, 0, 1],\n",
       " [2, 0, 0, 2, 0, 0, 2, 1, 0, 1, 1, 0, 2, 0, 2, 2],\n",
       " [1, 0, 2, 1, 2, 2, 2, 1, 2, 2, 2, 1, 0, 0, 0, 2],\n",
       " [0, 0, 1, 1, 2, 0, 2, 1, 1, 2, 2, 2, 2, 0, 0, 1],\n",
       " [0, 1, 0, 0, 0, 0, 1, 2, 0, 1, 2, 2, 2, 0, 1, 2],\n",
       " [1, 1, 2, 1, 2, 2, 1, 1, 2, 0, 0, 2, 0, 0, 1, 0],\n",
       " [1, 1, 0, 1, 2, 0, 1, 2, 2, 2, 1, 0, 1, 2, 1, 0],\n",
       " [2, 0, 0, 2, 1, 1, 1, 0, 1, 1, 0, 0, 0, 0, 0, 0],\n",
       " [2, 0, 1, 2, 2, 0, 0, 2, 2, 2, 0, 1, 2, 1, 1, 2],\n",
       " [0, 1, 1, 2, 2, 2, 1, 1, 1, 2, 1, 1, 2, 1, 2, 2],\n",
       " [0, 2, 2, 2, 0, 2, 2, 1, 1, 1, 0, 0, 1, 2, 1, 2],\n",
       " [0, 1, 1, 0, 1, 0, 0, 1, 1, 1, 2, 2, 0, 1, 1, 1],\n",
       " [2, 0, 2, 2, 1, 1, 1, 0, 0, 2, 1, 1, 0, 1, 1, 1],\n",
       " [1, 1, 2, 0, 1, 1, 2, 1, 2, 1, 0, 1, 0, 1, 2, 1],\n",
       " [1, 1, 0, 2, 2, 1, 2, 1, 0, 0, 0, 0, 0, 1, 2, 2],\n",
       " [0, 0, 0, 1, 2, 2, 2, 2, 1, 2, 1, 1, 2, 0, 1, 1],\n",
       " [0, 1, 0, 1, 0, 0, 0, 2, 2, 2, 2, 2, 2, 0, 0, 1],\n",
       " [2, 0, 0, 0, 2, 2, 1, 1, 2, 2, 2, 2, 2, 0, 2, 0],\n",
       " [2, 1, 0, 0, 2, 0, 2, 2, 0, 2, 2, 1, 1, 0, 2, 1],\n",
       " [0, 2, 1, 2, 2, 1, 0, 2, 1, 2, 2, 2, 1, 2, 1, 1],\n",
       " [1, 2, 0, 0, 1, 2, 0, 1, 0, 2, 2, 2, 1, 0, 0, 2],\n",
       " [0, 0, 0, 1, 1, 2, 1, 2, 2, 0, 0, 0, 2, 0, 2, 0],\n",
       " [2, 2, 2, 1, 2, 1, 1, 2, 2, 2, 2, 1, 0, 0, 1, 1],\n",
       " [2, 0, 1, 0, 2, 1, 2, 0, 1, 2, 2, 1, 2, 1, 0, 2],\n",
       " [0, 1, 0, 2, 1, 0, 2, 2, 2, 2, 1, 2, 0, 2, 2, 0],\n",
       " [2, 0, 1, 0, 1, 1, 1, 2, 1, 0, 1, 1, 0, 0, 1, 1],\n",
       " [1, 0, 1, 1, 1, 2, 0, 0, 0, 2, 2, 2, 0, 2, 0, 0],\n",
       " [0, 2, 2, 1, 0, 1, 0, 0, 0, 0, 1, 0, 1, 1, 0, 0],\n",
       " [2, 0, 2, 0, 0, 1, 2, 1, 0, 0, 0, 0, 1, 0, 2, 0],\n",
       " [1, 0, 2, 2, 1, 2, 2, 1, 2, 1, 2, 2, 0, 1, 2, 0],\n",
       " [1, 2, 2, 2, 1, 0, 2, 2, 1, 0, 0, 2, 2, 2, 1, 2],\n",
       " [1, 0, 0, 0, 1, 2, 2, 1, 1, 1, 2, 1, 2, 2, 1, 2],\n",
       " [2, 0, 1, 2, 2, 1, 1, 0, 2, 0, 2, 0, 1, 2, 2, 0],\n",
       " [1, 1, 1, 0, 1, 0, 1, 0, 1, 2, 1, 1, 2, 1, 2, 2],\n",
       " [0, 1, 2, 1, 0, 2, 2, 2, 1, 1, 2, 1, 1, 2, 1, 2],\n",
       " [2, 0, 2, 0, 1, 2, 2, 0, 1, 1, 1, 1, 0, 2, 2, 1],\n",
       " [2, 0, 0, 0, 2, 1, 0, 2, 0, 0, 2, 1, 1, 1, 1, 1],\n",
       " [1, 0, 1, 0, 2, 1, 1, 2, 1, 2, 0, 2, 0, 1, 2, 0],\n",
       " [0, 0, 1, 1, 2, 1, 2, 2, 2, 2, 0, 1, 1, 1, 2, 2],\n",
       " [1, 1, 2, 2, 2, 0, 1, 1, 1, 2, 0, 0, 2, 2, 1, 1],\n",
       " [1, 0, 2, 2, 2, 1, 0, 2, 2, 1, 0, 0, 2, 1, 1, 2],\n",
       " [1, 2, 1, 2, 2, 1, 2, 1, 1, 0, 0, 2, 0, 2, 2, 0],\n",
       " [2, 2, 1, 1, 1, 1, 2, 2, 0, 2, 0, 2, 1, 2, 1, 0],\n",
       " [1, 0, 0, 0, 2, 2, 0, 1, 2, 2, 0, 1, 1, 1, 0, 0],\n",
       " [0, 1, 0, 1, 0, 2, 1, 1, 1, 2, 2, 0, 1, 2, 0, 1],\n",
       " [2, 2, 1, 0, 2, 0, 1, 0, 1, 1, 2, 2, 1, 1, 0, 2],\n",
       " [2, 2, 0, 0, 2, 1, 1, 0, 2, 0, 1, 2, 0, 2, 2, 2],\n",
       " [2, 2, 2, 1, 1, 1, 2, 2, 0, 1, 2, 1, 1, 1, 1, 0],\n",
       " [2, 2, 2, 1, 0, 0, 1, 2, 1, 1, 0, 0, 2, 2, 2, 2],\n",
       " [0, 2, 2, 1, 0, 1, 2, 2, 1, 2, 2, 1, 0, 0, 0, 0],\n",
       " [1, 0, 1, 1, 0, 2, 0, 2, 2, 0, 0, 2, 1, 0, 1, 0],\n",
       " [0, 1, 2, 0, 1, 2, 2, 0, 2, 0, 2, 2, 1, 0, 1, 2],\n",
       " [0, 1, 2, 0, 2, 2, 0, 2, 1, 0, 1, 0, 0, 0, 0, 1],\n",
       " [1, 1, 1, 1, 2, 0, 1, 2, 0, 1, 2, 0, 2, 1, 1, 1],\n",
       " [0, 0, 0, 1, 2, 1, 1, 0, 0, 0, 1, 1, 0, 0, 1, 2],\n",
       " [0, 2, 0, 2, 0, 0, 0, 1, 1, 0, 0, 1, 1, 1, 2, 0],\n",
       " [0, 1, 1, 2, 1, 2, 2, 1, 0, 0, 1, 2, 1, 2, 1, 1],\n",
       " [0, 1, 0, 0, 2, 2, 2, 0, 2, 1, 2, 2, 0, 0, 1, 2],\n",
       " [1, 1, 0, 0, 2, 0, 0, 2, 0, 2, 2, 1, 0, 0, 2, 2],\n",
       " [2, 0, 1, 2, 2, 1, 0, 1, 2, 1, 2, 1, 1, 2, 1, 2],\n",
       " [2, 1, 2, 1, 0, 0, 2, 1, 2, 2, 2, 2, 2, 0, 2, 1],\n",
       " [2, 1, 0, 0, 0, 1, 2, 0, 0, 2, 1, 1, 2, 0, 2, 0],\n",
       " [0, 2, 2, 0, 0, 1, 1, 2, 0, 0, 0, 0, 0, 1, 1, 0],\n",
       " [2, 0, 2, 1, 0, 1, 0, 1, 0, 2, 1, 1, 1, 1, 0, 2],\n",
       " [2, 1, 0, 2, 1, 2, 2, 1, 2, 1, 0, 1, 2, 2, 2, 1],\n",
       " [1, 2, 1, 0, 0, 0, 0, 2, 2, 1, 0, 0, 1, 1, 2, 1],\n",
       " [2, 1, 1, 1, 1, 1, 0, 0, 1, 2, 0, 2, 2, 2, 1, 2],\n",
       " [0, 1, 2, 0, 2, 2, 0, 1, 1, 2, 1, 1, 0, 2, 2, 1],\n",
       " [2, 2, 0, 0, 2, 1, 2, 2, 1, 1, 0, 1, 0, 1, 2, 0],\n",
       " [2, 1, 1, 2, 1, 0, 2, 1, 2, 2, 2, 2, 1, 0, 0, 0],\n",
       " [0, 2, 0, 0, 2, 2, 1, 2, 2, 2, 1, 1, 2, 1, 0, 0],\n",
       " [1, 2, 0, 2, 1, 1, 0, 0, 1, 1, 1, 2, 0, 1, 2, 1],\n",
       " [1, 0, 0, 1, 2, 2, 2, 2, 0, 1, 1, 0, 2, 1, 2, 0],\n",
       " [1, 1, 0, 1, 2, 0, 0, 1, 1, 1, 0, 2, 1, 2, 1, 1],\n",
       " [1, 2, 0, 2, 2, 1, 1, 2, 2, 1, 2, 1, 1, 1, 1, 1],\n",
       " [0, 2, 0, 2, 1, 1, 0, 0, 2, 1, 2, 1, 0, 2, 2, 0],\n",
       " [2, 0, 2, 1, 0, 2, 1, 1, 1, 0, 2, 1, 2, 0, 2, 2],\n",
       " [1, 0, 2, 2, 1, 1, 0, 0, 0, 1, 1, 1, 2, 0, 0, 2],\n",
       " [1, 2, 2, 2, 1, 2, 1, 0, 2, 2, 1, 2, 2, 0, 0, 0],\n",
       " [1, 1, 1, 0, 2, 0, 1, 2, 2, 2, 1, 1, 2, 1, 2, 1],\n",
       " [0, 0, 0, 2, 1, 1, 2, 1, 2, 1, 0, 0, 2, 0, 1, 0],\n",
       " [2, 1, 2, 1, 0, 0, 2, 2, 2, 0, 2, 0, 2, 1, 0, 0],\n",
       " [2, 1, 1, 2, 2, 1, 1, 2, 2, 0, 0, 2, 1, 0, 1, 1],\n",
       " [0, 1, 0, 0, 2, 2, 1, 1, 2, 1, 2, 0, 0, 1, 2, 1],\n",
       " [2, 0, 2, 1, 0, 2, 2, 1, 0, 1, 0, 0, 1, 2, 0, 2],\n",
       " [1, 1, 1, 1, 0, 0, 0, 2, 2, 0, 0, 1, 0, 0, 2, 0],\n",
       " [1, 0, 2, 0, 0, 2, 2, 1, 1, 2, 2, 0, 1, 0, 2, 1],\n",
       " [2, 1, 1, 2, 2, 1, 2, 2, 2, 2, 2, 2, 0, 2, 0, 2],\n",
       " [2, 1, 1, 2, 1, 0, 0, 1, 1, 2, 2, 0, 1, 1, 0, 1],\n",
       " [1, 1, 0, 1, 1, 2, 2, 2, 0, 2, 2, 2, 2, 2, 1, 1],\n",
       " [0, 2, 1, 1, 0, 2, 1, 0, 0, 2, 1, 0, 2, 2, 2, 1],\n",
       " [2, 1, 2, 1, 1, 1, 2, 1, 2, 2, 2, 1, 2, 2, 0, 0],\n",
       " [2, 2, 2, 2, 1, 0, 1, 2, 1, 1, 2, 2, 2, 1, 0, 2],\n",
       " [0, 2, 2, 2, 1, 0, 2, 0, 2, 2, 0, 0, 1, 2, 1, 2],\n",
       " [0, 2, 0, 2, 1, 2, 1, 1, 2, 0, 1, 0, 1, 2, 0, 2],\n",
       " [0, 1, 2, 2, 0, 1, 2, 0, 0, 1, 2, 1, 2, 0, 2, 1],\n",
       " [0, 0, 1, 2, 1, 1, 2, 1, 1, 0, 1, 0, 0, 0, 2, 0],\n",
       " [2, 2, 0, 2, 1, 2, 0, 1, 1, 1, 2, 0, 0, 0, 2, 1],\n",
       " [1, 2, 0, 2, 0, 2, 2, 0, 2, 2, 2, 2, 2, 0, 1, 1],\n",
       " [1, 1, 0, 0, 1, 2, 2, 1, 2, 1, 0, 2, 2, 0, 1, 0],\n",
       " [2, 0, 1, 1, 2, 2, 1, 2, 2, 2, 2, 2, 2, 2, 2, 0],\n",
       " [1, 1, 2, 2, 0, 2, 1, 0, 2, 2, 2, 2, 1, 1, 2, 1],\n",
       " [2, 2, 2, 2, 0, 1, 1, 1, 0, 2, 1, 0, 1, 0, 2, 2],\n",
       " [1, 0, 0, 1, 0, 1, 0, 0, 0, 2, 2, 2, 0, 2, 2, 1],\n",
       " [0, 0, 1, 1, 2, 2, 0, 1, 1, 1, 1, 1, 2, 1, 2, 2],\n",
       " [0, 1, 2, 1, 2, 0, 0, 1, 1, 0, 1, 1, 2, 1, 0, 2],\n",
       " [0, 2, 0, 0, 1, 2, 1, 2, 2, 2, 2, 2, 0, 2, 0, 2],\n",
       " [2, 1, 1, 0, 2, 2, 2, 1, 1, 2, 2, 2, 2, 2, 2, 2],\n",
       " [2, 0, 0, 2, 1, 2, 1, 2, 2, 1, 2, 1, 1, 1, 2, 1],\n",
       " [0, 0, 1, 1, 2, 2, 0, 1, 1, 0, 2, 2, 2, 2, 2, 2],\n",
       " [0, 2, 0, 1, 1, 1, 0, 0, 1, 0, 2, 0, 1, 2, 2, 1],\n",
       " [1, 1, 0, 1, 0, 0, 1, 1, 2, 0, 1, 1, 2, 0, 2, 1],\n",
       " [1, 1, 1, 0, 1, 2, 2, 1, 1, 0, 2, 1, 2, 1, 0, 2],\n",
       " [1, 0, 2, 1, 1, 0, 1, 2, 0, 1, 0, 0, 2, 0, 1, 0],\n",
       " [2, 0, 2, 0, 1, 2, 2, 1, 1, 0, 2, 0, 2, 0, 1, 2],\n",
       " [1, 1, 2, 0, 1, 1, 2, 2, 2, 0, 0, 2, 2, 0, 2, 2],\n",
       " [0, 0, 2, 2, 2, 1, 1, 0, 1, 2, 1, 2, 1, 1, 2, 2],\n",
       " [2, 2, 2, 0, 0, 1, 1, 2, 0, 1, 2, 2, 1, 0, 1, 1],\n",
       " [0, 1, 2, 2, 2, 1, 2, 1, 1, 2, 1, 1, 0, 1, 2, 2],\n",
       " [1, 1, 2, 1, 2, 2, 2, 1, 1, 0, 0, 1, 0, 2, 2, 0],\n",
       " [0, 1, 2, 2, 2, 0, 0, 0, 1, 0, 2, 2, 0, 0, 2, 2],\n",
       " [1, 0, 2, 2, 1, 2, 2, 1, 2, 1, 2, 2, 1, 0, 1, 2],\n",
       " [0, 1, 1, 2, 0, 0, 1, 2, 2, 1, 1, 0, 1, 1, 1, 2],\n",
       " [0, 1, 1, 2, 1, 1, 0, 1, 2, 2, 1, 1, 1, 1, 2, 1],\n",
       " [0, 0, 1, 0, 1, 0, 1, 0, 1, 2, 1, 2, 1, 1, 2, 1],\n",
       " [2, 0, 1, 2, 0, 1, 2, 0, 2, 0, 0, 1, 0, 2, 0, 2],\n",
       " [2, 0, 2, 1, 2, 1, 1, 2, 1, 2, 0, 1, 0, 2, 2, 1],\n",
       " [1, 1, 1, 2, 0, 1, 1, 2, 0, 1, 1, 1, 1, 2, 0, 1],\n",
       " [0, 0, 2, 2, 0, 1, 2, 1, 1, 1, 1, 2, 0, 0, 1, 0],\n",
       " [2, 1, 2, 2, 0, 2, 1, 0, 1, 0, 2, 1, 2, 2, 2, 2],\n",
       " [0, 1, 1, 0, 0, 0, 0, 1, 0, 0, 2, 0, 2, 0, 0, 1],\n",
       " [2, 1, 1, 2, 1, 1, 2, 2, 2, 0, 0, 0, 0, 2, 2, 2],\n",
       " [2, 1, 1, 0, 1, 0, 1, 2, 0, 2, 2, 1, 1, 1, 2, 1],\n",
       " [2, 0, 0, 2, 0, 0, 1, 1, 2, 2, 2, 2, 0, 2, 1, 2],\n",
       " [0, 1, 2, 2, 0, 2, 2, 0, 0, 2, 0, 2, 2, 0, 1, 1],\n",
       " [0, 2, 0, 1, 1, 0, 2, 1, 2, 2, 1, 0, 0, 2, 1, 1],\n",
       " [0, 1, 0, 0, 0, 2, 1, 1, 2, 2, 1, 1, 2, 2, 0, 1],\n",
       " [0, 2, 0, 1, 2, 1, 1, 2, 2, 0, 1, 1, 2, 2, 1, 0],\n",
       " [1, 2, 0, 1, 0, 0, 2, 2, 0, 2, 0, 2, 2, 0, 0, 1],\n",
       " [1, 0, 1, 1, 2, 1, 1, 1, 1, 2, 1, 2, 0, 0, 2, 0],\n",
       " [0, 0, 2, 1, 2, 2, 0, 0, 2, 0, 0, 2, 1, 1, 0, 2],\n",
       " [1, 2, 0, 0, 1, 0, 2, 1, 2, 0, 2, 2, 1, 1, 1, 1],\n",
       " [2, 0, 1, 1, 1, 0, 2, 2, 0, 0, 0, 0, 0, 0, 1, 2],\n",
       " [2, 0, 0, 0, 2, 0, 2, 1, 2, 0, 0, 0, 2, 2, 0, 1],\n",
       " [1, 1, 1, 1, 0, 0, 1, 0, 0, 2, 0, 2, 2, 0, 0, 2],\n",
       " [2, 1, 1, 2, 2, 2, 2, 2, 2, 2, 1, 0, 0, 2, 2, 0],\n",
       " [0, 2, 2, 2, 2, 2, 0, 2, 0, 2, 2, 0, 2, 2, 2, 0],\n",
       " [1, 2, 1, 1, 0, 1, 1, 0, 2, 0, 1, 1, 2, 2, 1, 0],\n",
       " [0, 0, 0, 0, 1, 1, 1, 0, 2, 1, 0, 1, 0, 2, 0, 0],\n",
       " [0, 1, 1, 1, 1, 2, 2, 1, 0, 0, 0, 2, 1, 2, 2, 0],\n",
       " [2, 2, 2, 1, 1, 2, 1, 0, 1, 2, 2, 2, 1, 1, 2, 2],\n",
       " [1, 0, 0, 1, 1, 0, 2, 0, 0, 2, 0, 2, 0, 0, 0, 2],\n",
       " [1, 1, 0, 0, 0, 2, 2, 1, 0, 2, 0, 2, 0, 0, 0, 2],\n",
       " [1, 0, 1, 1, 2, 1, 0, 1, 0, 2, 2, 2, 0, 2, 1, 0],\n",
       " [2, 1, 0, 0, 1, 1, 2, 1, 0, 2, 0, 1, 0, 2, 2, 2],\n",
       " [1, 1, 1, 2, 0, 0, 0, 0, 1, 0, 2, 0, 2, 2, 1, 2],\n",
       " [1, 1, 1, 1, 2, 1, 2, 2, 0, 1, 1, 0, 2, 0, 0, 0],\n",
       " [0, 1, 1, 2, 2, 2, 0, 1, 0, 2, 1, 2, 2, 2, 0, 1],\n",
       " [1, 0, 0, 1, 1, 2, 0, 2, 1, 2, 0, 0, 1, 0, 1, 1],\n",
       " [2, 2, 0, 2, 0, 2, 0, 1, 1, 0, 1, 1, 1, 1, 2, 2],\n",
       " [2, 0, 0, 0, 1, 0, 1, 1, 1, 1, 0, 0, 2, 1, 1, 1],\n",
       " [1, 2, 1, 2, 1, 0, 2, 1, 2, 0, 2, 1, 2, 2, 2, 0],\n",
       " [0, 1, 2, 2, 0, 2, 1, 2, 1, 0, 0, 2, 1, 2, 2, 0],\n",
       " [2, 1, 2, 2, 0, 0, 0, 0, 2, 0, 1, 2, 1, 1, 0, 0],\n",
       " [1, 2, 0, 1, 2, 2, 1, 1, 0, 0, 1, 2, 0, 2, 0, 1],\n",
       " [0, 2, 1, 2, 1, 1, 0, 1, 0, 0, 0, 0, 2, 1, 1, 0],\n",
       " [1, 1, 0, 0, 0, 2, 0, 2, 1, 2, 0, 1, 1, 0, 2, 0],\n",
       " [0, 1, 1, 1, 2, 1, 2, 1, 0, 1, 2, 1, 0, 1, 2, 1],\n",
       " [0, 1, 2, 2, 2, 2, 0, 2, 1, 1, 1, 0, 1, 0, 0, 1],\n",
       " [0, 0, 2, 2, 2, 2, 2, 1, 2, 2, 2, 2, 1, 1, 0, 1],\n",
       " [0, 2, 2, 0, 2, 0, 1, 1, 1, 1, 1, 2, 0, 1, 2, 0],\n",
       " [1, 0, 1, 2, 2, 2, 1, 0, 2, 2, 1, 1, 0, 1, 2, 0],\n",
       " [1, 1, 2, 2, 2, 0, 2, 0, 0, 2, 2, 1, 1, 1, 1, 0],\n",
       " [1, 2, 0, 2, 0, 0, 2, 1, 2, 1, 2, 0, 2, 0, 2, 2],\n",
       " [0, 2, 2, 2, 2, 2, 0, 1, 0, 2, 2, 1, 1, 0, 2, 1],\n",
       " [1, 1, 0, 1, 2, 1, 2, 2, 1, 1, 1, 2, 0, 0, 2, 2],\n",
       " [0, 0, 0, 0, 2, 1, 2, 1, 1, 0, 2, 2, 1, 0, 0, 1],\n",
       " [1, 0, 2, 1, 1, 1, 0, 1, 1, 2, 0, 2, 1, 0, 1, 1],\n",
       " [1, 1, 1, 2, 2, 2, 2, 0, 2, 0, 2, 1, 1, 0, 2, 0],\n",
       " [0, 0, 1, 2, 0, 1, 2, 1, 0, 0, 0, 1, 0, 2, 2, 1],\n",
       " [0, 0, 1, 2, 0, 2, 2, 1, 1, 0, 2, 0, 0, 1, 1, 1],\n",
       " [1, 1, 1, 2, 1, 2, 1, 2, 2, 0, 0, 2, 2, 0, 1, 0],\n",
       " [2, 2, 0, 1, 0, 2, 0, 0, 1, 1, 2, 1, 0, 2, 0, 0],\n",
       " [0, 2, 2, 1, 0, 2, 2, 2, 1, 0, 1, 0, 0, 1, 2, 0],\n",
       " [1, 2, 0, 2, 2, 2, 1, 1, 0, 2, 2, 1, 0, 2, 1, 2],\n",
       " [2, 1, 1, 1, 1, 0, 0, 1, 2, 0, 2, 2, 0, 2, 0, 0],\n",
       " [0, 1, 1, 1, 2, 0, 2, 0, 2, 2, 1, 2, 1, 1, 0, 2],\n",
       " [1, 1, 0, 2, 2, 2, 1, 1, 1, 2, 2, 1, 1, 0, 1, 2],\n",
       " [0, 0, 2, 0, 1, 2, 1, 0, 1, 0, 2, 2, 0, 2, 0, 2],\n",
       " [2, 1, 0, 2, 1, 2, 1, 0, 1, 0, 2, 2, 1, 1, 1, 1],\n",
       " [1, 0, 1, 1, 0, 2, 1, 0, 0, 2, 2, 2, 2, 0, 0, 2],\n",
       " [2, 0, 2, 1, 0, 1, 0, 2, 1, 1, 0, 1, 0, 1, 2, 0],\n",
       " [1, 0, 2, 2, 0, 1, 1, 0, 1, 1, 2, 2, 2, 2, 1, 1],\n",
       " [2, 0, 1, 2, 2, 0, 0, 1, 2, 1, 1, 1, 0, 1, 0, 2],\n",
       " [2, 0, 1, 1, 1, 0, 2, 2, 0, 1, 2, 1, 1, 1, 2, 2],\n",
       " [2, 1, 0, 1, 1, 0, 0, 2, 1, 2, 0, 1, 0, 0, 2, 0],\n",
       " [1, 1, 0, 2, 1, 0, 1, 2, 1, 1, 0, 0, 0, 2, 0, 2],\n",
       " [0, 1, 1, 1, 1, 1, 0, 2, 1, 1, 1, 2, 0, 1, 2, 2],\n",
       " [2, 2, 2, 0, 1, 0, 0, 2, 2, 2, 1, 1, 2, 2, 2, 2],\n",
       " [1, 2, 1, 1, 0, 2, 0, 2, 1, 1, 1, 0, 1, 0, 0, 2],\n",
       " [0, 0, 2, 0, 0, 1, 2, 2, 1, 1, 1, 1, 1, 1, 0, 1],\n",
       " [2, 2, 1, 2, 2, 1, 0, 1, 1, 2, 0, 0, 1, 1, 1, 0],\n",
       " [0, 2, 2, 1, 0, 2, 0, 1, 1, 1, 1, 0, 0, 0, 1, 1],\n",
       " [2, 2, 1, 1, 1, 1, 2, 2, 1, 0, 0, 2, 0, 1, 2, 0],\n",
       " [2, 2, 1, 1, 2, 0, 1, 2, 2, 2, 2, 1, 2, 2, 1, 2],\n",
       " [1, 2, 0, 1, 2, 1, 2, 2, 1, 2, 1, 2, 2, 2, 1, 2],\n",
       " [0, 1, 1, 2, 0, 2, 2, 1, 0, 0, 2, 1, 1, 0, 2, 2],\n",
       " [2, 1, 2, 2, 2, 0, 2, 0, 2, 2, 1, 2, 1, 2, 2, 2],\n",
       " [2, 1, 0, 0, 2, 0, 2, 0, 1, 2, 0, 1, 2, 0, 0, 0],\n",
       " [2, 1, 2, 0, 2, 2, 0, 2, 2, 1, 1, 0, 0, 1, 2, 2],\n",
       " [1, 1, 1, 2, 2, 1, 0, 2, 0, 1, 1, 0, 2, 0, 2, 0],\n",
       " [1, 1, 0, 1, 1, 1, 2, 1, 1, 0, 0, 1, 2, 0, 2, 1],\n",
       " [0, 2, 1, 0, 2, 2, 1, 2, 2, 0, 0, 0, 0, 1, 2, 1],\n",
       " [0, 2, 0, 0, 2, 1, 0, 2, 0, 0, 0, 0, 1, 2, 1, 2],\n",
       " [0, 1, 2, 1, 0, 0, 1, 0, 1, 0, 1, 1, 1, 0, 2, 0],\n",
       " [2, 0, 1, 2, 2, 1, 0, 2, 2, 2, 0, 1, 0, 1, 1, 1],\n",
       " [1, 2, 2, 0, 1, 1, 1, 2, 2, 0, 1, 1, 1, 1, 2, 1],\n",
       " [1, 0, 2, 0, 0, 0, 2, 2, 1, 1, 0, 1, 0, 2, 0, 0],\n",
       " [1, 2, 2, 1, 1, 2, 0, 2, 0, 0, 2, 1, 1, 1, 0, 2],\n",
       " [1, 0, 0, 2, 0, 2, 1, 0, 1, 1, 2, 0, 1, 1, 0, 1],\n",
       " [2, 0, 2, 1, 2, 0, 0, 1, 1, 2, 0, 2, 0, 0, 1, 2],\n",
       " [2, 2, 2, 1, 1, 2, 1, 1, 2, 0, 2, 1, 2, 0, 2, 1],\n",
       " [2, 2, 2, 1, 0, 2, 2, 2, 2, 0, 0, 2, 1, 2, 0, 0],\n",
       " [1, 1, 2, 2, 2, 1, 0, 0, 2, 1, 2, 1, 2, 1, 1, 1],\n",
       " [2, 0, 1, 0, 0, 2, 0, 2, 1, 1, 1, 2, 2, 1, 0, 1],\n",
       " [0, 1, 2, 2, 1, 0, 1, 1, 1, 2, 2, 1, 0, 0, 2, 0],\n",
       " [1, 1, 2, 0, 1, 2, 0, 0, 2, 1, 1, 1, 2, 1, 0, 2],\n",
       " [1, 2, 1, 2, 1, 2, 2, 1, 1, 1, 2, 0, 0, 1, 0, 1],\n",
       " [2, 0, 0, 1, 0, 2, 0, 1, 2, 1, 0, 0, 2, 1, 0, 2],\n",
       " [1, 0, 2, 2, 1, 0, 0, 1, 2, 0, 0, 2, 0, 2, 0, 0],\n",
       " [0, 1, 2, 2, 2, 0, 1, 1, 0, 1, 0, 2, 2, 2, 1, 1],\n",
       " [2, 0, 1, 2, 0, 0, 1, 1, 2, 0, 1, 2, 2, 0, 2, 0],\n",
       " [2, 1, 0, 2, 2, 2, 0, 1, 1, 1, 1, 0, 0, 1, 2, 2],\n",
       " [1, 0, 2, 2, 2, 1, 2, 1, 1, 1, 2, 0, 2, 2, 2, 2],\n",
       " [2, 2, 1, 0, 0, 2, 1, 2, 1, 2, 1, 2, 0, 1, 0, 1],\n",
       " [2, 2, 0, 2, 0, 0, 0, 2, 1, 1, 0, 1, 2, 2, 2, 1],\n",
       " [2, 2, 0, 2, 0, 1, 1, 1, 0, 2, 1, 2, 0, 2, 2, 2],\n",
       " [1, 0, 2, 1, 1, 1, 2, 2, 2, 1, 2, 1, 0, 2, 1, 0],\n",
       " [1, 2, 1, 2, 0, 0, 2, 0, 1, 2, 0, 0, 1, 0, 1, 1],\n",
       " [1, 0, 2, 2, 2, 2, 2, 2, 2, 0, 0, 1, 1, 1, 1, 2],\n",
       " [2, 0, 0, 2, 2, 1, 2, 0, 2, 1, 1, 0, 0, 0, 2, 1],\n",
       " [0, 2, 1, 1, 0, 1, 1, 0, 2, 0, 0, 2, 0, 1, 1, 1],\n",
       " [0, 0, 1, 1, 2, 0, 1, 2, 1, 2, 2, 0, 0, 2, 1, 2],\n",
       " [1, 2, 0, 0, 0, 0, 2, 2, 1, 1, 1, 2, 1, 2, 1, 1],\n",
       " [2, 2, 2, 0, 0, 0, 2, 2, 1, 1, 2, 0, 1, 2, 2, 1],\n",
       " [1, 1, 1, 2, 1, 1, 0, 1, 0, 1, 1, 2, 0, 2, 2, 0],\n",
       " [0, 0, 2, 1, 0, 2, 1, 1, 0, 0, 0, 1, 2, 1, 1, 0],\n",
       " [1, 2, 2, 0, 2, 1, 1, 2, 2, 0, 0, 1, 2, 1, 2, 1],\n",
       " [1, 2, 0, 1, 2, 2, 1, 1, 2, 2, 1, 2, 0, 2, 1, 1],\n",
       " [0, 2, 1, 2, 1, 2, 2, 1, 0, 0, 2, 2, 1, 2, 0, 2],\n",
       " [1, 1, 0, 0, 0, 0, 0, 2, 2, 2, 2, 2, 1, 2, 2, 2],\n",
       " [0, 0, 0, 0, 1, 2, 0, 0, 0, 0, 0, 2, 0, 2, 0, 1],\n",
       " [1, 2, 0, 1, 2, 0, 2, 2, 0, 2, 1, 0, 0, 2, 1, 2],\n",
       " [0, 0, 1, 2, 2, 2, 1, 0, 0, 2, 2, 2, 0, 1, 0, 1],\n",
       " [2, 2, 1, 1, 2, 0, 1, 0, 2, 1, 0, 2, 1, 1, 1, 0],\n",
       " [2, 1, 2, 1, 1, 2, 2, 1, 0, 2, 2, 2, 2, 0, 2, 0],\n",
       " [2, 1, 1, 2, 1, 1, 1, 2, 2, 0, 2, 2, 0, 2, 2, 1],\n",
       " [2, 2, 1, 2, 1, 1, 2, 0, 2, 1, 2, 1, 2, 2, 1, 2],\n",
       " [2, 2, 0, 2, 2, 1, 0, 1, 0, 1, 0, 2, 1, 1, 1, 2],\n",
       " [0, 1, 0, 2, 2, 1, 1, 1, 1, 0, 1, 1, 2, 1, 1, 2],\n",
       " [1, 1, 1, 2, 1, 1, 2, 0, 1, 0, 1, 0, 1, 2, 2, 1],\n",
       " [0, 0, 0, 2, 0, 0, 0, 1, 0, 2, 0, 0, 2, 2, 2, 0],\n",
       " [2, 1, 0, 1, 0, 2, 1, 2, 1, 0, 1, 0, 1, 1, 2, 1],\n",
       " [0, 0, 2, 1, 0, 0, 2, 1, 0, 2, 2, 2, 1, 0, 2, 2],\n",
       " [1, 1, 1, 1, 2, 1, 0, 0, 2, 2, 1, 1, 1, 0, 1, 0],\n",
       " [1, 1, 1, 0, 1, 0, 2, 0, 2, 2, 2, 1, 0, 2, 0, 2],\n",
       " [2, 2, 1, 0, 1, 2, 1, 0, 0, 1, 0, 2, 2, 0, 1, 1],\n",
       " [0, 1, 2, 2, 1, 1, 0, 1, 2, 1, 2, 2, 1, 0, 2, 1],\n",
       " [1, 1, 0, 0, 0, 0, 2, 1, 1, 2, 1, 1, 1, 2, 2, 0],\n",
       " [0, 2, 2, 2, 2, 0, 1, 1, 1, 0, 1, 0, 2, 2, 2, 0],\n",
       " [1, 1, 2, 1, 1, 2, 1, 0, 0, 1, 1, 1, 0, 0, 2, 2],\n",
       " [0, 1, 1, 0, 1, 1, 0, 1, 2, 1, 1, 2, 0, 1, 0, 0],\n",
       " [2, 0, 1, 1, 0, 2, 1, 0, 1, 2, 0, 2, 2, 2, 2, 0],\n",
       " [1, 0, 1, 1, 1, 0, 0, 1, 1, 1, 1, 2, 2, 0, 1, 2],\n",
       " [0, 1, 1, 0, 1, 1, 1, 0, 1, 0, 1, 1, 2, 0, 1, 2],\n",
       " [0, 2, 0, 2, 1, 2, 1, 1, 1, 2, 2, 2, 0, 2, 0, 0],\n",
       " [1, 2, 2, 1, 1, 0, 1, 0, 0, 2, 1, 1, 2, 1, 1, 2],\n",
       " [0, 0, 0, 0, 2, 0, 1, 0, 1, 0, 1, 1, 1, 1, 2, 1],\n",
       " [0, 2, 2, 0, 0, 0, 0, 0, 2, 0, 1, 2, 0, 2, 0, 0],\n",
       " [0, 2, 2, 0, 2, 2, 1, 0, 2, 2, 0, 1, 1, 0, 0, 2],\n",
       " [0, 2, 0, 0, 0, 1, 1, 0, 2, 0, 2, 0, 0, 1, 0, 0],\n",
       " [1, 1, 0, 1, 1, 2, 1, 2, 0, 0, 1, 1, 2, 2, 1, 0],\n",
       " [1, 2, 0, 1, 2, 1, 0, 2, 2, 2, 0, 1, 2, 1, 2, 0],\n",
       " [0, 1, 1, 1, 1, 0, 0, 0, 2, 2, 2, 2, 2, 0, 1, 2],\n",
       " [2, 2, 1, 1, 0, 1, 2, 0, 1, 2, 2, 0, 2, 2, 1, 0],\n",
       " [1, 2, 1, 0, 1, 0, 0, 0, 0, 2, 1, 0, 2, 2, 1, 1],\n",
       " [0, 2, 0, 0, 2, 0, 2, 2, 0, 1, 1, 1, 2, 2, 1, 2],\n",
       " [2, 0, 0, 2, 0, 2, 0, 1, 0, 2, 1, 1, 1, 0, 1, 1],\n",
       " [2, 1, 1, 1, 2, 1, 0, 2, 2, 2, 1, 2, 0, 2, 2, 2],\n",
       " [0, 2, 1, 1, 0, 1, 2, 2, 0, 0, 0, 1, 1, 2, 0, 0],\n",
       " [0, 2, 2, 1, 2, 2, 2, 1, 2, 2, 2, 2, 1, 2, 2, 1],\n",
       " [0, 0, 0, 1, 1, 0, 2, 2, 1, 2, 0, 1, 1, 2, 1, 1],\n",
       " [1, 2, 0, 0, 1, 2, 2, 0, 2, 2, 1, 0, 0, 2, 0, 1],\n",
       " [2, 2, 0, 0, 2, 0, 0, 0, 0, 2, 1, 0, 1, 2, 0, 2],\n",
       " [2, 2, 1, 0, 0, 2, 1, 1, 1, 2, 1, 1, 1, 1, 0, 2],\n",
       " [0, 0, 0, 1, 0, 2, 0, 0, 2, 0, 1, 1, 1, 1, 0, 1],\n",
       " [2, 2, 1, 1, 0, 2, 2, 0, 1, 0, 2, 1, 2, 1, 2, 2],\n",
       " [0, 0, 1, 0, 2, 0, 0, 1, 2, 0, 2, 0, 0, 1, 2, 0],\n",
       " [2, 1, 2, 0, 2, 1, 1, 2, 0, 0, 1, 2, 2, 1, 0, 2],\n",
       " [1, 1, 1, 1, 0, 1, 2, 2, 1, 2, 2, 1, 0, 2, 0, 2],\n",
       " [1, 1, 1, 1, 1, 2, 2, 1, 2, 1, 2, 0, 0, 2, 1, 1],\n",
       " [2, 0, 2, 1, 1, 2, 1, 0, 0, 0, 2, 0, 0, 2, 2, 1],\n",
       " [1, 2, 1, 0, 2, 2, 0, 1, 1, 1, 1, 0, 2, 0, 1, 2],\n",
       " [2, 2, 0, 0, 2, 2, 0, 0, 0, 1, 1, 1, 0, 1, 2, 2],\n",
       " [1, 1, 0, 0, 0, 0, 1, 0, 0, 0, 1, 0, 2, 2, 1, 1],\n",
       " [0, 1, 2, 0, 0, 1, 1, 0, 0, 0, 0, 0, 1, 1, 0, 2],\n",
       " [2, 1, 0, 1, 1, 2, 1, 2, 2, 1, 2, 1, 2, 1, 0, 0],\n",
       " [1, 1, 1, 0, 0, 0, 0, 2, 2, 0, 0, 0, 2, 1, 2, 0],\n",
       " [0, 2, 2, 2, 2, 2, 2, 1, 2, 2, 0, 1, 0, 1, 1, 1],\n",
       " [2, 1, 2, 1, 1, 2, 2, 1, 1, 1, 1, 2, 0, 0, 2, 2],\n",
       " [0, 1, 2, 1, 2, 0, 0, 0, 1, 0, 2, 1, 2, 2, 0, 2],\n",
       " [2, 2, 2, 2, 1, 1, 2, 2, 1, 0, 2, 0, 0, 2, 2, 1],\n",
       " [0, 1, 0, 2, 0, 0, 2, 2, 2, 0, 1, 1, 2, 0, 2, 0],\n",
       " [2, 2, 2, 1, 1, 2, 2, 0, 1, 1, 1, 0, 0, 2, 1, 1],\n",
       " [0, 2, 1, 2, 2, 2, 0, 2, 1, 0, 2, 1, 1, 1, 2, 1],\n",
       " [1, 0, 1, 2, 1, 0, 1, 2, 2, 0, 1, 2, 0, 2, 2, 2],\n",
       " [1, 0, 2, 1, 1, 1, 2, 2, 0, 1, 0, 0, 1, 2, 1, 1],\n",
       " [1, 1, 2, 1, 2, 2, 2, 0, 1, 1, 0, 1, 0, 2, 0, 2],\n",
       " [0, 1, 0, 1, 0, 2, 2, 1, 1, 0, 2, 1, 1, 0, 1, 1],\n",
       " [0, 1, 0, 2, 0, 2, 2, 2, 0, 2, 2, 0, 1, 1, 2, 2],\n",
       " [2, 1, 0, 1, 1, 0, 0, 0, 0, 1, 0, 0, 2, 1, 2, 0],\n",
       " [2, 0, 0, 0, 2, 1, 1, 0, 0, 2, 2, 0, 2, 2, 1, 1],\n",
       " [0, 2, 2, 0, 2, 0, 1, 1, 2, 0, 1, 2, 2, 2, 0, 2],\n",
       " [2, 1, 1, 1, 2, 1, 1, 1, 1, 2, 1, 2, 1, 2, 2, 2],\n",
       " [1, 0, 1, 2, 2, 0, 0, 2, 1, 0, 1, 2, 0, 0, 2, 1],\n",
       " [0, 0, 1, 2, 2, 2, 0, 2, 1, 1, 0, 1, 2, 1, 0, 0],\n",
       " [0, 1, 1, 1, 2, 2, 2, 0, 2, 2, 2, 0, 0, 1, 1, 1],\n",
       " [1, 1, 2, 1, 1, 2, 2, 1, 1, 2, 2, 2, 2, 1, 1, 2],\n",
       " [2, 2, 1, 1, 0, 1, 0, 1, 1, 2, 1, 2, 2, 2, 2, 1],\n",
       " [0, 2, 1, 0, 1, 1, 0, 0, 1, 2, 0, 0, 2, 1, 1, 0],\n",
       " [2, 0, 1, 2, 1, 0, 2, 1, 1, 2, 0, 1, 2, 2, 2, 2],\n",
       " [0, 2, 2, 2, 2, 0, 0, 0, 2, 1, 1, 2, 0, 1, 2, 2],\n",
       " [2, 2, 2, 1, 0, 1, 2, 0, 1, 2, 1, 0, 1, 0, 0, 0],\n",
       " [0, 1, 0, 1, 0, 2, 0, 0, 0, 1, 2, 2, 1, 1, 1, 2],\n",
       " [2, 2, 2, 1, 2, 0, 1, 1, 1, 2, 2, 2, 0, 1, 0, 0],\n",
       " [1, 2, 0, 0, 0, 1, 1, 2, 1, 2, 1, 2, 0, 0, 2, 0],\n",
       " [0, 0, 0, 2, 1, 2, 0, 1, 2, 0, 0, 1, 1, 2, 1, 2],\n",
       " [2, 0, 2, 2, 2, 1, 1, 2, 0, 1, 2, 2, 2, 0, 1, 1],\n",
       " [0, 1, 2, 0, 2, 1, 0, 1, 0, 0, 0, 0, 1, 1, 0, 2],\n",
       " [1, 1, 1, 2, 1, 2, 1, 1, 1, 1, 1, 1, 0, 0, 1, 1],\n",
       " [1, 2, 2, 1, 0, 0, 2, 2, 1, 0, 0, 1, 1, 1, 1, 0],\n",
       " [0, 2, 1, 2, 0, 2, 1, 0, 0, 1, 1, 0, 1, 2, 1, 2],\n",
       " [2, 2, 0, 0, 0, 1, 1, 0, 1, 1, 0, 1, 1, 1, 1, 2],\n",
       " [2, 1, 1, 2, 0, 0, 2, 0, 0, 1, 0, 1, 1, 2, 1, 1],\n",
       " [2, 0, 1, 2, 2, 1, 2, 2, 1, 1, 0, 1, 1, 0, 2, 2],\n",
       " [1, 0, 0, 0, 1, 2, 1, 0, 1, 2, 1, 0, 0, 2, 0, 2],\n",
       " [1, 2, 1, 2, 1, 0, 0, 1, 2, 0, 0, 2, 2, 0, 2, 0],\n",
       " [1, 2, 0, 2, 1, 2, 2, 1, 0, 2, 1, 2, 2, 0, 0, 0],\n",
       " [1, 1, 2, 2, 0, 1, 2, 1, 2, 0, 1, 1, 2, 2, 1, 1],\n",
       " [0, 0, 0, 2, 2, 1, 0, 1, 2, 1, 0, 1, 1, 1, 1, 1],\n",
       " [0, 1, 2, 1, 2, 1, 1, 0, 2, 1, 2, 2, 2, 1, 0, 0],\n",
       " [2, 1, 0, 0, 2, 2, 1, 1, 2, 0, 0, 2, 1, 2, 2, 2],\n",
       " [2, 0, 1, 2, 1, 0, 0, 2, 1, 1, 1, 0, 0, 0, 1, 1],\n",
       " [2, 2, 1, 1, 2, 1, 1, 0, 0, 2, 1, 2, 1, 0, 1, 0],\n",
       " [1, 0, 2, 2, 1, 0, 0, 2, 1, 1, 0, 0, 2, 0, 0, 1],\n",
       " [0, 2, 2, 1, 2, 1, 2, 2, 1, 0, 0, 2, 1, 0, 0, 2],\n",
       " [1, 0, 2, 2, 1, 1, 0, 2, 2, 2, 2, 0, 2, 2, 0, 1],\n",
       " [1, 0, 2, 1, 0, 1, 1, 2, 1, 1, 0, 2, 2, 2, 1, 0],\n",
       " [2, 0, 1, 2, 2, 2, 0, 2, 2, 0, 1, 0, 1, 2, 0, 1],\n",
       " [2, 1, 2, 0, 0, 0, 2, 2, 0, 2, 1, 0, 2, 0, 2, 2],\n",
       " [1, 0, 2, 2, 0, 0, 2, 2, 0, 2, 1, 1, 1, 1, 2, 1],\n",
       " [2, 2, 1, 2, 2, 0, 2, 0, 1, 2, 1, 2, 1, 1, 2, 2],\n",
       " [1, 0, 1, 2, 0, 2, 1, 0, 0, 2, 1, 0, 2, 0, 2, 1],\n",
       " [1, 2, 2, 2, 1, 2, 0, 1, 1, 1, 0, 1, 0, 2, 0, 1],\n",
       " [2, 2, 2, 2, 2, 1, 1, 2, 1, 0, 0, 1, 2, 2, 2, 0],\n",
       " [0, 2, 2, 2, 0, 2, 1, 2, 1, 1, 2, 1, 0, 0, 0, 2],\n",
       " [1, 0, 2, 0, 0, 1, 1, 2, 0, 0, 1, 2, 2, 0, 0, 2],\n",
       " [0, 0, 2, 1, 2, 0, 2, 2, 0, 1, 2, 0, 1, 1, 1, 2],\n",
       " [0, 2, 0, 2, 1, 2, 0, 1, 0, 2, 1, 1, 0, 2, 1, 1],\n",
       " [2, 0, 1, 2, 2, 0, 2, 0, 0, 1, 0, 2, 0, 2, 0, 2],\n",
       " [2, 0, 1, 0, 0, 0, 1, 1, 1, 2, 1, 1, 2, 0, 1, 2],\n",
       " [0, 1, 1, 1, 2, 0, 1, 0, 2, 0, 0, 2, 1, 0, 2, 2],\n",
       " [0, 1, 0, 0, 0, 1, 0, 0, 2, 0, 1, 2, 1, 2, 2, 1],\n",
       " [0, 2, 0, 0, 2, 2, 2, 0, 0, 2, 2, 0, 1, 0, 1, 1],\n",
       " [2, 0, 0, 1, 0, 1, 2, 0, 2, 0, 1, 1, 1, 2, 0, 1],\n",
       " [2, 1, 1, 1, 2, 2, 2, 1, 0, 0, 0, 0, 0, 0, 1, 2],\n",
       " [1, 2, 2, 0, 2, 1, 0, 0, 2, 0, 2, 2, 2, 1, 1, 0],\n",
       " [2, 0, 2, 0, 2, 0, 1, 1, 2, 0, 1, 2, 2, 1, 1, 2],\n",
       " [2, 0, 2, 2, 1, 0, 0, 1, 0, 2, 0, 1, 1, 2, 2, 2],\n",
       " [1, 1, 1, 1, 2, 2, 1, 1, 1, 1, 0, 1, 0, 2, 1, 1],\n",
       " [0, 1, 0, 1, 0, 1, 2, 0, 0, 1, 0, 0, 1, 0, 2, 1],\n",
       " [1, 0, 0, 2, 2, 1, 0, 2, 2, 1, 1, 2, 0, 0, 2, 1],\n",
       " [0, 2, 1, 1, 1, 1, 1, 2, 2, 0, 0, 1, 2, 0, 2, 2],\n",
       " [2, 0, 1, 1, 1, 2, 0, 2, 2, 2, 0, 2, 1, 0, 2, 1],\n",
       " [0, 1, 0, 1, 2, 2, 1, 0, 2, 0, 1, 1, 2, 2, 2, 0],\n",
       " [1, 2, 0, 1, 2, 2, 1, 2, 2, 1, 1, 1, 1, 2, 0, 2],\n",
       " [2, 2, 1, 0, 0, 1, 1, 1, 1, 2, 0, 0, 2, 2, 2, 1],\n",
       " [0, 0, 2, 1, 1, 2, 1, 1, 1, 1, 2, 0, 1, 1, 0, 1],\n",
       " [2, 2, 0, 0, 2, 1, 2, 2, 0, 1, 0, 1, 0, 2, 0, 1],\n",
       " [1, 1, 2, 0, 2, 2, 0, 2, 2, 2, 1, 0, 2, 2, 2, 1],\n",
       " [1, 2, 2, 1, 2, 0, 1, 0, 2, 2, 2, 1, 2, 2, 1, 1],\n",
       " [0, 1, 2, 1, 2, 2, 1, 2, 1, 0, 1, 1, 2, 1, 1, 1],\n",
       " [2, 2, 0, 2, 0, 1, 1, 1, 1, 1, 0, 2, 1, 1, 2, 0],\n",
       " [0, 1, 1, 0, 2, 0, 1, 0, 0, 0, 0, 2, 2, 0, 1, 1],\n",
       " [2, 2, 2, 2, 1, 1, 0, 1, 1, 0, 2, 0, 0, 1, 2, 0],\n",
       " [2, 2, 0, 2, 1, 0, 2, 2, 2, 2, 0, 1, 2, 0, 2, 2],\n",
       " [2, 2, 1, 2, 2, 0, 2, 1, 1, 2, 0, 2, 2, 0, 0, 2],\n",
       " [1, 2, 2, 0, 2, 1, 2, 0, 1, 1, 0, 0, 0, 1, 0, 2],\n",
       " [1, 2, 1, 1, 2, 2, 1, 1, 2, 0, 0, 2, 0, 2, 1, 0],\n",
       " [0, 2, 1, 0, 1, 2, 1, 2, 2, 1, 1, 0, 0, 2, 2, 2],\n",
       " [2, 0, 1, 2, 2, 0, 1, 0, 2, 1, 2, 0, 2, 2, 0, 2],\n",
       " [2, 0, 2, 1, 2, 0, 2, 0, 2, 1, 0, 1, 1, 1, 1, 0],\n",
       " [0, 1, 0, 0, 0, 0, 2, 0, 2, 0, 0, 1, 0, 2, 2, 2],\n",
       " [0, 2, 1, 0, 1, 1, 0, 0, 1, 1, 2, 2, 2, 2, 0, 0],\n",
       " [1, 0, 2, 2, 1, 2, 2, 1, 2, 1, 2, 1, 1, 0, 1, 0],\n",
       " [0, 2, 1, 1, 0, 0, 0, 2, 2, 1, 0, 0, 0, 2, 2, 2],\n",
       " [0, 1, 1, 0, 2, 2, 1, 2, 2, 0, 0, 2, 2, 0, 1, 0],\n",
       " [0, 0, 0, 0, 2, 1, 1, 1, 2, 1, 0, 0, 0, 2, 1, 1],\n",
       " [1, 1, 0, 0, 1, 1, 2, 1, 2, 2, 1, 1, 0, 1, 0, 1],\n",
       " [1, 0, 2, 0, 2, 0, 1, 0, 1, 2, 1, 2, 1, 2, 0, 2],\n",
       " [0, 1, 1, 0, 2, 0, 0, 0, 2, 2, 2, 2, 0, 0, 2, 0],\n",
       " [0, 1, 2, 0, 1, 1, 0, 1, 0, 0, 0, 2, 0, 2, 0, 2],\n",
       " [2, 2, 2, 1, 1, 2, 2, 1, 0, 2, 0, 0, 1, 2, 1, 0],\n",
       " [2, 1, 2, 1, 1, 0, 0, 1, 0, 2, 1, 1, 1, 0, 1, 1],\n",
       " [1, 2, 0, 0, 0, 2, 1, 2, 2, 1, 0, 1, 0, 0, 2, 2],\n",
       " [0, 2, 0, 2, 1, 0, 2, 0, 1, 1, 1, 0, 1, 0, 0, 0],\n",
       " [2, 2, 0, 0, 0, 2, 0, 0, 2, 0, 1, 1, 2, 2, 1, 1],\n",
       " [0, 2, 2, 1, 0, 0, 2, 1, 2, 0, 0, 2, 1, 1, 0, 2],\n",
       " [0, 1, 1, 0, 1, 1, 2, 2, 0, 1, 1, 2, 0, 0, 2, 1],\n",
       " [0, 1, 1, 2, 1, 0, 1, 0, 2, 0, 1, 0, 1, 1, 0, 1],\n",
       " [1, 2, 2, 1, 1, 1, 1, 1, 0, 1, 0, 2, 0, 1, 0, 0],\n",
       " [1, 0, 1, 2, 2, 0, 1, 2, 0, 0, 0, 2, 0, 1, 2, 2],\n",
       " [0, 0, 0, 2, 0, 2, 2, 1, 1, 1, 2, 1, 2, 0, 2, 2],\n",
       " [0, 2, 0, 2, 0, 0, 1, 0, 1, 0, 0, 0, 1, 0, 2, 1],\n",
       " [2, 2, 1, 2, 0, 0, 0, 1, 2, 2, 0, 0, 1, 2, 0, 0],\n",
       " [0, 0, 2, 0, 2, 1, 1, 0, 0, 1, 1, 1, 2, 2, 2, 2],\n",
       " [2, 1, 1, 2, 0, 2, 0, 0, 2, 0, 2, 0, 1, 2, 2, 2],\n",
       " [0, 1, 0, 0, 1, 0, 1, 2, 0, 2, 1, 0, 2, 1, 2, 0],\n",
       " [2, 0, 2, 1, 1, 2, 1, 0, 1, 0, 0, 1, 0, 0, 1, 1],\n",
       " [1, 2, 1, 0, 2, 1, 1, 2, 1, 0, 0, 1, 1, 0, 1, 0],\n",
       " [2, 1, 0, 2, 0, 1, 1, 0, 0, 1, 2, 2, 2, 2, 0, 2],\n",
       " [2, 0, 1, 2, 0, 1, 2, 0, 2, 1, 2, 0, 0, 2, 2, 0],\n",
       " [1, 0, 1, 0, 1, 2, 2, 1, 2, 0, 2, 0, 1, 1, 1, 2],\n",
       " [2, 2, 2, 0, 1, 0, 2, 1, 0, 2, 0, 1, 2, 2, 2, 0],\n",
       " [2, 1, 1, 0, 2, 1, 2, 2, 0, 0, 0, 1, 1, 1, 1, 0],\n",
       " [2, 0, 2, 2, 1, 1, 0, 0, 0, 0, 2, 2, 0, 2, 2, 1],\n",
       " [2, 0, 1, 2, 2, 0, 0, 0, 1, 0, 1, 0, 1, 0, 1, 0],\n",
       " [2, 0, 2, 1, 2, 0, 1, 2, 2, 1, 1, 0, 2, 2, 1, 2],\n",
       " [2, 1, 1, 1, 2, 2, 2, 1, 0, 2, 0, 0, 2, 1, 1, 1],\n",
       " [1, 1, 0, 2, 0, 0, 1, 2, 1, 1, 1, 1, 0, 2, 1, 2],\n",
       " [0, 1, 1, 2, 0, 0, 1, 2, 0, 0, 2, 1, 0, 1, 0, 1],\n",
       " [2, 2, 0, 1, 0, 1, 1, 2, 0, 2, 0, 0, 0, 0, 1, 2],\n",
       " [0, 2, 0, 0, 2, 0, 2, 1, 0, 0, 2, 1, 1, 0, 2, 2],\n",
       " [2, 0, 0, 0, 1, 0, 2, 1, 2, 0, 0, 1, 1, 2, 0, 1],\n",
       " [1, 0, 1, 0, 2, 0, 0, 0, 1, 2, 0, 0, 2, 2, 0, 0],\n",
       " [2, 1, 1, 0, 0, 0, 1, 0, 2, 0, 1, 1, 2, 0, 2, 0],\n",
       " [0, 1, 2, 2, 0, 2, 2, 2, 2, 1, 1, 0, 2, 1, 2, 1],\n",
       " [0, 2, 2, 2, 0, 0, 0, 1, 2, 1, 1, 0, 2, 1, 0, 2],\n",
       " [0, 1, 1, 0, 0, 2, 1, 1, 0, 1, 1, 2, 1, 1, 2, 2],\n",
       " [2, 1, 2, 2, 2, 0, 2, 2, 2, 0, 0, 2, 1, 0, 1, 1],\n",
       " [0, 1, 2, 2, 2, 2, 0, 1, 2, 1, 0, 2, 1, 0, 1, 2],\n",
       " [2, 1, 2, 2, 1, 2, 0, 1, 0, 1, 1, 1, 2, 1, 1, 0],\n",
       " [1, 2, 2, 2, 2, 0, 1, 2, 0, 1, 0, 1, 2, 0, 1, 0],\n",
       " [2, 0, 1, 1, 2, 2, 2, 2, 0, 1, 1, 0, 0, 1, 2, 1],\n",
       " [2, 0, 0, 1, 0, 1, 1, 0, 0, 1, 1, 0, 1, 1, 1, 0],\n",
       " [0, 2, 2, 0, 0, 1, 2, 0, 1, 0, 2, 1, 2, 2, 2, 0],\n",
       " [0, 0, 1, 0, 2, 0, 0, 1, 2, 1, 2, 2, 0, 0, 2, 1],\n",
       " [0, 2, 0, 0, 1, 1, 0, 0, 1, 1, 0, 2, 1, 1, 2, 2],\n",
       " [2, 1, 1, 0, 1, 2, 1, 0, 0, 1, 0, 1, 0, 2, 2, 2],\n",
       " [2, 0, 0, 1, 0, 0, 0, 0, 1, 1, 1, 2, 0, 0, 2, 1],\n",
       " [1, 0, 1, 0, 0, 2, 0, 1, 1, 0, 1, 0, 1, 2, 2, 2],\n",
       " [2, 2, 1, 1, 0, 1, 0, 2, 0, 1, 2, 0, 2, 0, 1, 2],\n",
       " [0, 1, 1, 2, 0, 2, 2, 0, 0, 0, 0, 0, 1, 2, 1, 2],\n",
       " [1, 1, 1, 2, 0, 1, 1, 1, 1, 1, 2, 1, 0, 2, 1, 1],\n",
       " [1, 2, 0, 1, 1, 1, 2, 1, 0, 1, 2, 0, 1, 1, 1, 1],\n",
       " [1, 2, 1, 1, 0, 0, 0, 1, 0, 0, 2, 1, 2, 0, 1, 1],\n",
       " [1, 1, 2, 2, 1, 0, 2, 2, 1, 2, 0, 2, 2, 0, 1, 0],\n",
       " [0, 2, 0, 0, 0, 0, 1, 1, 1, 1, 0, 2, 2, 0, 1, 2],\n",
       " [1, 0, 1, 0, 2, 2, 0, 0, 0, 0, 0, 2, 0, 1, 1, 1],\n",
       " [1, 1, 2, 1, 0, 2, 0, 1, 2, 0, 0, 1, 2, 1, 0, 0],\n",
       " [1, 0, 2, 0, 1, 2, 0, 1, 0, 2, 0, 1, 0, 0, 0, 1],\n",
       " [1, 1, 0, 0, 0, 0, 1, 2, 1, 1, 0, 2, 2, 1, 0, 1],\n",
       " [1, 1, 2, 1, 0, 0, 2, 1, 2, 2, 2, 0, 2, 0, 1, 0],\n",
       " [2, 1, 2, 1, 2, 2, 1, 0, 1, 0, 0, 0, 1, 1, 1, 2],\n",
       " [2, 1, 2, 1, 0, 1, 0, 0, 0, 1, 2, 1, 0, 1, 1, 0],\n",
       " [1, 0, 1, 2, 1, 0, 2, 2, 1, 2, 0, 2, 0, 2, 1, 0],\n",
       " [2, 1, 1, 1, 2, 0, 1, 2, 2, 1, 0, 2, 0, 1, 0, 1],\n",
       " [0, 1, 0, 2, 0, 2, 0, 1, 2, 0, 2, 0, 2, 0, 2, 2],\n",
       " [1, 0, 1, 1, 1, 1, 0, 1, 2, 1, 0, 2, 2, 2, 1, 2],\n",
       " [2, 0, 0, 2, 0, 1, 1, 0, 2, 1, 2, 1, 0, 2, 0, 0],\n",
       " [1, 0, 1, 0, 1, 0, 2, 2, 1, 2, 1, 2, 1, 0, 0, 0],\n",
       " [1, 1, 1, 0, 0, 1, 2, 1, 0, 2, 2, 2, 2, 0, 1, 2],\n",
       " [2, 1, 0, 0, 1, 2, 2, 2, 1, 0, 0, 2, 0, 0, 2, 2],\n",
       " [0, 0, 2, 0, 2, 1, 2, 0, 0, 2, 1, 1, 1, 0, 0, 1],\n",
       " [2, 0, 0, 2, 0, 2, 1, 0, 0, 2, 2, 0, 2, 2, 2, 1],\n",
       " [1, 2, 2, 2, 1, 0, 0, 0, 2, 2, 1, 2, 1, 1, 2, 1],\n",
       " [0, 1, 0, 1, 0, 0, 2, 1, 1, 0, 2, 1, 0, 0, 2, 1],\n",
       " [2, 2, 0, 0, 0, 0, 2, 1, 2, 2, 1, 1, 2, 0, 1, 2],\n",
       " [2, 2, 2, 0, 1, 2, 2, 1, 0, 2, 1, 0, 1, 1, 2, 0],\n",
       " [0, 1, 1, 2, 0, 1, 0, 0, 2, 0, 1, 0, 0, 2, 1, 2],\n",
       " [0, 2, 0, 2, 1, 0, 1, 2, 0, 2, 1, 2, 0, 2, 1, 1],\n",
       " [2, 1, 0, 1, 1, 0, 2, 0, 0, 1, 1, 0, 1, 1, 0, 2],\n",
       " [1, 1, 2, 0, 1, 1, 2, 1, 2, 2, 0, 0, 0, 1, 1, 0],\n",
       " [1, 0, 0, 2, 2, 2, 0, 2, 0, 2, 2, 2, 1, 2, 2, 2],\n",
       " [1, 1, 2, 0, 0, 1, 2, 2, 1, 1, 2, 0, 1, 2, 0, 2],\n",
       " [0, 2, 2, 1, 2, 0, 1, 0, 2, 2, 0, 2, 0, 2, 0, 2],\n",
       " [1, 0, 1, 1, 2, 0, 2, 2, 2, 0, 0, 1, 0, 0, 1, 1],\n",
       " [0, 2, 0, 0, 2, 2, 2, 2, 1, 2, 2, 2, 2, 1, 2, 0],\n",
       " [1, 2, 2, 1, 2, 2, 1, 2, 2, 2, 1, 2, 1, 1, 2, 2],\n",
       " [2, 1, 2, 0, 2, 2, 1, 1, 2, 0, 1, 1, 1, 0, 2, 1],\n",
       " [1, 0, 1, 2, 1, 2, 2, 0, 0, 0, 1, 0, 2, 2, 1, 1],\n",
       " [0, 0, 1, 0, 1, 2, 2, 0, 0, 1, 0, 0, 1, 0, 2, 2],\n",
       " [1, 2, 1, 1, 0, 2, 2, 0, 0, 2, 0, 2, 1, 2, 2, 1],\n",
       " [0, 1, 2, 2, 1, 0, 2, 2, 2, 1, 2, 1, 1, 0, 2, 1],\n",
       " [1, 0, 2, 2, 1, 0, 0, 0, 2, 1, 0, 2, 1, 2, 1, 0],\n",
       " [2, 1, 0, 2, 0, 2, 2, 0, 0, 1, 1, 0, 0, 1, 1, 2],\n",
       " [2, 1, 2, 1, 1, 2, 1, 2, 2, 2, 1, 2, 1, 0, 0, 0],\n",
       " [1, 1, 2, 1, 0, 0, 1, 0, 1, 1, 0, 1, 1, 0, 2, 0],\n",
       " [2, 1, 0, 2, 1, 0, 2, 0, 0, 0, 0, 1, 2, 2, 0, 1],\n",
       " [1, 2, 1, 1, 2, 1, 1, 0, 0, 0, 1, 1, 1, 2, 2, 2],\n",
       " [2, 2, 0, 2, 1, 1, 1, 1, 1, 2, 2, 0, 1, 2, 2, 1],\n",
       " [1, 1, 0, 2, 0, 2, 0, 1, 0, 1, 1, 0, 1, 0, 1, 0],\n",
       " [2, 1, 2, 2, 1, 1, 1, 0, 2, 1, 1, 1, 2, 0, 2, 2],\n",
       " [1, 1, 0, 0, 2, 2, 0, 1, 2, 2, 2, 0, 2, 0, 1, 1],\n",
       " [1, 2, 2, 2, 0, 1, 2, 0, 2, 2, 1, 0, 0, 2, 0, 1],\n",
       " [2, 1, 2, 1, 0, 2, 0, 0, 1, 2, 0, 2, 0, 0, 0, 1],\n",
       " [0, 0, 1, 2, 0, 0, 0, 2, 0, 0, 2, 2, 1, 1, 1, 2],\n",
       " [2, 1, 1, 1, 2, 1, 2, 1, 1, 1, 0, 1, 2, 0, 2, 0],\n",
       " [1, 1, 1, 2, 1, 2, 2, 1, 2, 1, 1, 0, 0, 1, 0, 2],\n",
       " [2, 1, 2, 0, 0, 1, 2, 1, 2, 0, 1, 0, 1, 1, 0, 0],\n",
       " [1, 2, 2, 1, 1, 1, 0, 1, 1, 1, 2, 0, 0, 1, 2, 2],\n",
       " [0, 1, 1, 2, 2, 2, 0, 0, 1, 0, 1, 1, 0, 2, 0, 2],\n",
       " [0, 2, 2, 0, 2, 0, 0, 2, 1, 0, 1, 1, 1, 2, 2, 1],\n",
       " [1, 1, 2, 1, 1, 0, 0, 1, 2, 0, 0, 2, 0, 2, 1, 2],\n",
       " [0, 2, 1, 1, 2, 2, 1, 1, 1, 2, 0, 1, 0, 0, 0, 1],\n",
       " [1, 1, 0, 1, 2, 1, 0, 1, 1, 1, 2, 2, 2, 0, 0, 0],\n",
       " [1, 2, 0, 2, 0, 1, 2, 1, 2, 2, 2, 0, 1, 1, 1, 2],\n",
       " [2, 2, 0, 0, 1, 2, 0, 0, 0, 2, 2, 0, 0, 0, 2, 0],\n",
       " [1, 0, 1, 1, 0, 2, 0, 1, 1, 0, 2, 1, 0, 1, 0, 2],\n",
       " [1, 1, 2, 2, 0, 1, 2, 1, 1, 0, 1, 1, 1, 2, 0, 1],\n",
       " [1, 1, 2, 2, 1, 0, 2, 1, 1, 0, 0, 0, 0, 1, 1, 2],\n",
       " [1, 2, 1, 1, 0, 1, 0, 0, 1, 0, 1, 2, 0, 0, 0, 2],\n",
       " [1, 1, 1, 0, 1, 2, 1, 1, 1, 1, 2, 2, 2, 0, 2, 2],\n",
       " [1, 1, 2, 1, 2, 2, 1, 2, 0, 0, 1, 2, 1, 2, 0, 1],\n",
       " [0, 2, 1, 0, 1, 2, 2, 0, 0, 0, 2, 1, 1, 1, 0, 2],\n",
       " [0, 1, 1, 2, 0, 2, 1, 1, 2, 2, 2, 0, 1, 0, 0, 1],\n",
       " [1, 2, 0, 1, 1, 2, 2, 1, 1, 2, 0, 0, 2, 1, 2, 0],\n",
       " [0, 2, 0, 0, 0, 1, 0, 0, 2, 1, 0, 2, 2, 0, 0, 1],\n",
       " [1, 1, 1, 0, 0, 2, 2, 2, 2, 0, 0, 1, 0, 1, 2, 1],\n",
       " [0, 1, 2, 2, 2, 1, 2, 2, 0, 0, 2, 2, 2, 2, 1, 1],\n",
       " [2, 0, 2, 2, 0, 2, 1, 1, 1, 2, 1, 1, 2, 1, 2, 2],\n",
       " [2, 0, 0, 0, 1, 0, 1, 1, 2, 0, 1, 1, 1, 0, 0, 0],\n",
       " [0, 0, 2, 0, 2, 1, 2, 1, 0, 1, 1, 2, 1, 1, 2, 1],\n",
       " [2, 2, 1, 0, 0, 2, 1, 2, 0, 2, 0, 0, 2, 0, 1, 0],\n",
       " [0, 0, 2, 1, 0, 2, 1, 0, 0, 1, 1, 2, 2, 2, 0, 2],\n",
       " [0, 1, 1, 2, 2, 1, 2, 1, 1, 0, 1, 0, 0, 2, 0, 1],\n",
       " [2, 0, 2, 1, 1, 0, 1, 1, 2, 2, 1, 1, 0, 1, 2, 0],\n",
       " [2, 0, 2, 0, 2, 0, 1, 2, 2, 2, 2, 2, 1, 0, 1, 0],\n",
       " [2, 1, 2, 0, 0, 2, 1, 2, 1, 2, 2, 0, 2, 1, 1, 2],\n",
       " [2, 2, 2, 2, 0, 1, 2, 2, 0, 0, 1, 1, 0, 1, 0, 0],\n",
       " [2, 1, 1, 2, 1, 1, 1, 0, 2, 2, 1, 0, 0, 1, 0, 0],\n",
       " [1, 0, 0, 2, 2, 1, 1, 0, 0, 1, 1, 2, 1, 2, 1, 2],\n",
       " [1, 1, 0, 1, 2, 1, 1, 2, 2, 0, 0, 1, 2, 2, 1, 0],\n",
       " [2, 1, 1, 2, 2, 1, 1, 2, 2, 2, 0, 1, 1, 0, 0, 2],\n",
       " [1, 2, 0, 0, 0, 0, 0, 1, 0, 1, 1, 1, 1, 2, 2, 2],\n",
       " [1, 2, 1, 1, 1, 2, 2, 2, 1, 2, 0, 1, 0, 2, 0, 2],\n",
       " [2, 1, 0, 1, 2, 1, 0, 1, 1, 2, 0, 2, 0, 1, 2, 2],\n",
       " [0, 1, 2, 0, 2, 0, 2, 2, 0, 0, 1, 2, 2, 0, 2, 2],\n",
       " [1, 1, 2, 2, 0, 0, 0, 2, 2, 2, 1, 0, 1, 2, 0, 1],\n",
       " [2, 0, 0, 2, 1, 0, 2, 0, 2, 0, 2, 0, 2, 2, 2, 2],\n",
       " [1, 0, 2, 1, 2, 2, 0, 1, 1, 0, 1, 0, 2, 2, 0, 1],\n",
       " [0, 2, 1, 2, 2, 0, 2, 2, 2, 1, 1, 2, 2, 1, 1, 1],\n",
       " [0, 0, 2, 1, 1, 0, 1, 1, 1, 2, 1, 1, 1, 1, 0, 0],\n",
       " [0, 1, 0, 2, 2, 0, 2, 2, 0, 2, 1, 0, 1, 2, 2, 2],\n",
       " [2, 2, 0, 1, 1, 1, 1, 0, 2, 0, 2, 2, 0, 2, 0, 0],\n",
       " [1, 2, 2, 2, 1, 2, 1, 1, 2, 2, 1, 2, 0, 2, 2, 0],\n",
       " [0, 1, 0, 1, 1, 1, 0, 0, 2, 0, 1, 1, 0, 1, 1, 1],\n",
       " [0, 2, 2, 0, 2, 2, 2, 0, 0, 2, 2, 1, 0, 2, 2, 2],\n",
       " [1, 1, 1, 0, 2, 2, 0, 2, 1, 0, 0, 1, 2, 1, 2, 2],\n",
       " [1, 0, 0, 2, 0, 0, 1, 2, 0, 1, 2, 1, 1, 1, 1, 1],\n",
       " [0, 0, 1, 1, 2, 2, 2, 0, 2, 0, 1, 2, 0, 1, 2, 0],\n",
       " [0, 2, 2, 0, 2, 0, 1, 2, 2, 1, 1, 2, 0, 2, 1, 0],\n",
       " [1, 1, 2, 0, 2, 0, 2, 2, 2, 0, 1, 2, 0, 1, 0, 2],\n",
       " [1, 1, 1, 1, 1, 2, 1, 1, 0, 0, 2, 1, 2, 0, 1, 2],\n",
       " [0, 1, 0, 0, 2, 0, 2, 2, 2, 2, 2, 0, 0, 2, 0, 0],\n",
       " [2, 2, 0, 2, 1, 1, 0, 0, 0, 1, 1, 0, 2, 1, 1, 1],\n",
       " [2, 1, 1, 2, 0, 1, 2, 0, 0, 2, 2, 2, 2, 1, 1, 1],\n",
       " [1, 0, 1, 1, 1, 1, 2, 2, 1, 2, 0, 0, 1, 2, 2, 2],\n",
       " [2, 1, 2, 2, 1, 1, 2, 1, 2, 0, 1, 1, 1, 2, 2, 2],\n",
       " [2, 2, 1, 2, 1, 2, 0, 0, 1, 1, 1, 0, 2, 0, 0, 2],\n",
       " [2, 1, 1, 0, 1, 0, 2, 2, 2, 0, 1, 1, 2, 0, 2, 2],\n",
       " [0, 2, 2, 1, 1, 1, 2, 1, 1, 0, 2, 1, 1, 0, 2, 2],\n",
       " [2, 1, 2, 0, 2, 0, 0, 0, 2, 2, 1, 1, 1, 2, 1, 2],\n",
       " [2, 0, 0, 2, 1, 1, 0, 2, 1, 0, 0, 1, 2, 0, 2, 0],\n",
       " [0, 0, 0, 1, 0, 2, 0, 2, 2, 1, 0, 2, 2, 1, 1, 1],\n",
       " [0, 2, 0, 2, 0, 0, 2, 1, 0, 2, 1, 1, 0, 0, 0, 0],\n",
       " [2, 1, 2, 1, 0, 2, 0, 2, 0, 2, 1, 1, 2, 2, 1, 0],\n",
       " [1, 1, 1, 2, 2, 1, 0, 2, 0, 2, 0, 0, 1, 1, 2, 2],\n",
       " [2, 1, 2, 1, 0, 0, 1, 0, 2, 1, 0, 2, 0, 0, 1, 2],\n",
       " [1, 1, 2, 2, 1, 0, 2, 0, 0, 1, 2, 0, 2, 2, 0, 2],\n",
       " [0, 2, 0, 1, 0, 0, 0, 0, 2, 1, 2, 0, 2, 2, 2, 1],\n",
       " [2, 2, 2, 1, 1, 0, 0, 2, 0, 0, 0, 0, 2, 0, 2, 2],\n",
       " [0, 2, 0, 1, 1, 0, 0, 0, 1, 2, 2, 1, 1, 1, 1, 1],\n",
       " [1, 0, 1, 0, 1, 2, 0, 0, 1, 2, 0, 1, 1, 0, 0, 2],\n",
       " [1, 0, 1, 1, 2, 1, 0, 2, 2, 1, 2, 0, 1, 1, 1, 1],\n",
       " [1, 1, 1, 1, 0, 0, 1, 1, 0, 2, 0, 1, 0, 2, 0, 1],\n",
       " [2, 1, 1, 1, 1, 1, 1, 2, 2, 1, 0, 1, 2, 0, 0, 1],\n",
       " [1, 2, 0, 1, 2, 2, 2, 2, 0, 1, 0, 2, 0, 1, 0, 2],\n",
       " [0, 0, 1, 1, 1, 2, 1, 1, 2, 1, 1, 0, 2, 1, 0, 2],\n",
       " [0, 1, 2, 0, 2, 1, 0, 1, 2, 1, 2, 1, 0, 0, 2, 2],\n",
       " [1, 2, 2, 1, 0, 2, 2, 1, 1, 0, 2, 0, 2, 2, 0, 0],\n",
       " [2, 2, 0, 0, 2, 0, 0, 1, 0, 0, 2, 0, 0, 1, 0, 0],\n",
       " [2, 2, 0, 2, 1, 0, 2, 0, 1, 2, 1, 1, 0, 0, 2, 1],\n",
       " [0, 1, 2, 1, 0, 2, 2, 0, 1, 2, 2, 2, 2, 2, 2, 1],\n",
       " [2, 1, 0, 1, 0, 2, 0, 1, 2, 2, 0, 1, 1, 0, 2, 1],\n",
       " [0, 0, 2, 0, 1, 0, 2, 2, 2, 0, 1, 0, 2, 0, 2, 1],\n",
       " [0, 2, 2, 0, 0, 1, 2, 2, 0, 0, 0, 2, 0, 2, 0, 0],\n",
       " [1, 0, 1, 1, 2, 1, 1, 2, 1, 0, 0, 0, 2, 2, 1, 0],\n",
       " [1, 0, 1, 0, 0, 1, 2, 2, 0, 0, 0, 1, 0, 1, 2, 1],\n",
       " [2, 1, 1, 0, 1, 0, 1, 1, 1, 2, 2, 1, 0, 2, 2, 1],\n",
       " [1, 1, 2, 1, 1, 2, 2, 2, 0, 0, 0, 1, 1, 2, 1, 2],\n",
       " [2, 1, 2, 1, 0, 2, 2, 0, 2, 1, 1, 2, 1, 0, 1, 1],\n",
       " [2, 2, 1, 0, 0, 0, 0, 2, 0, 0, 0, 0, 2, 1, 1, 1],\n",
       " [1, 2, 2, 2, 2, 1, 0, 0, 1, 2, 1, 1, 2, 1, 0, 0],\n",
       " [1, 1, 1, 1, 2, 1, 0, 1, 0, 0, 0, 0, 0, 2, 0, 1],\n",
       " [2, 2, 1, 0, 2, 1, 2, 0, 1, 0, 1, 2, 2, 0, 2, 2],\n",
       " [1, 1, 1, 0, 2, 0, 2, 2, 2, 1, 1, 1, 1, 0, 2, 2],\n",
       " [0, 2, 1, 1, 2, 1, 2, 1, 1, 0, 2, 1, 1, 2, 0, 0],\n",
       " [1, 0, 0, 0, 0, 2, 0, 1, 0, 2, 0, 2, 0, 1, 2, 1],\n",
       " [0, 2, 1, 0, 0, 1, 0, 0, 1, 0, 1, 2, 0, 2, 1, 1],\n",
       " [1, 0, 0, 0, 2, 0, 2, 0, 1, 2, 2, 1, 0, 0, 1, 1],\n",
       " [2, 2, 1, 0, 2, 0, 1, 0, 2, 2, 0, 2, 2, 1, 1, 2],\n",
       " [0, 1, 0, 1, 0, 0, 2, 1, 2, 2, 1, 2, 0, 2, 1, 2],\n",
       " [2, 1, 0, 1, 1, 2, 1, 2, 1, 0, 1, 0, 2, 1, 2, 0],\n",
       " [1, 1, 0, 2, 2, 0, 1, 2, 0, 2, 2, 2, 2, 0, 1, 2],\n",
       " [0, 0, 1, 1, 2, 0, 0, 2, 2, 1, 2, 1, 1, 0, 2, 2],\n",
       " [1, 2, 1, 2, 0, 2, 2, 2, 0, 2, 1, 2, 1, 1, 0, 2],\n",
       " [2, 2, 0, 2, 1, 1, 2, 1, 2, 2, 2, 2, 0, 1, 1, 1],\n",
       " [1, 0, 2, 1, 0, 0, 0, 2, 1, 2, 1, 1, 0, 2, 1, 1],\n",
       " [2, 2, 0, 2, 2, 2, 1, 0, 0, 1, 0, 2, 2, 1, 2, 2],\n",
       " [0, 0, 0, 1, 0, 2, 2, 1, 0, 1, 2, 1, 1, 1, 2, 0],\n",
       " [0, 1, 2, 1, 1, 0, 2, 0, 0, 1, 2, 1, 1, 0, 0, 0],\n",
       " [1, 1, 1, 1, 0, 1, 1, 2, 1, 0, 1, 1, 2, 0, 2, 1],\n",
       " [2, 2, 1, 1, 1, 0, 1, 0, 2, 0, 1, 1, 1, 1, 0, 2],\n",
       " [2, 2, 1, 0, 0, 1, 0, 0, 2, 1, 2, 0, 1, 2, 0, 1],\n",
       " [1, 1, 0, 1, 1, 2, 2, 1, 0, 0, 1, 1, 2, 1, 1, 0],\n",
       " [0, 2, 1, 1, 0, 0, 2, 0, 2, 1, 2, 1, 2, 1, 2, 0],\n",
       " [0, 1, 2, 1, 2, 2, 2, 2, 1, 0, 2, 0, 2, 1, 0, 2],\n",
       " [1, 0, 1, 0, 2, 2, 0, 1, 1, 1, 0, 1, 0, 1, 1, 1],\n",
       " [0, 0, 1, 1, 0, 1, 0, 0, 0, 0, 2, 1, 2, 2, 1, 0],\n",
       " [2, 0, 2, 1, 1, 0, 1, 2, 2, 1, 0, 1, 0, 1, 2, 2],\n",
       " [1, 0, 2, 1, 0, 1, 2, 2, 2, 0, 2, 2, 2, 0, 2, 2],\n",
       " [0, 2, 2, 0, 0, 1, 0, 2, 2, 0, 1, 0, 0, 1, 1, 1],\n",
       " [1, 1, 0, 2, 0, 1, 2, 0, 2, 2, 2, 0, 2, 2, 0, 0],\n",
       " [2, 0, 1, 0, 2, 1, 2, 2, 1, 2, 1, 2, 2, 0, 2, 2],\n",
       " [1, 2, 0, 0, 0, 2, 2, 1, 1, 1, 0, 2, 1, 2, 0, 0],\n",
       " [1, 0, 2, 1, 0, 2, 1, 1, 2, 1, 1, 2, 0, 2, 2, 2],\n",
       " [1, 2, 2, 1, 2, 2, 1, 2, 2, 2, 0, 1, 1, 1, 0, 2],\n",
       " [0, 0, 0, 1, 0, 0, 0, 0, 2, 2, 1, 2, 2, 0, 0, 1],\n",
       " [2, 2, 2, 2, 0, 0, 1, 1, 2, 2, 1, 1, 1, 1, 1, 1],\n",
       " [1, 0, 1, 1, 1, 0, 0, 0, 1, 2, 1, 0, 0, 1, 2, 1],\n",
       " [2, 0, 2, 1, 2, 1, 0, 2, 0, 0, 1, 2, 2, 1, 0, 0],\n",
       " [2, 1, 1, 0, 2, 1, 2, 2, 2, 0, 1, 1, 1, 2, 1, 0],\n",
       " [0, 1, 1, 2, 2, 0, 1, 2, 0, 2, 1, 1, 2, 2, 1, 1],\n",
       " [1, 0, 0, 1, 1, 1, 1, 1, 0, 0, 2, 1, 2, 2, 2, 0],\n",
       " [0, 1, 0, 2, 1, 2, 1, 2, 1, 2, 2, 0, 2, 0, 1, 2],\n",
       " [0, 2, 0, 1, 2, 1, 2, 0, 1, 1, 1, 0, 2, 0, 2, 2],\n",
       " [2, 1, 0, 0, 1, 0, 1, 0, 2, 0, 1, 1, 2, 1, 2, 1],\n",
       " [1, 2, 2, 0, 1, 1, 0, 2, 2, 2, 0, 0, 1, 2, 0, 2],\n",
       " [0, 0, 2, 2, 0, 1, 0, 1, 1, 2, 1, 2, 0, 0, 2, 2],\n",
       " [1, 2, 2, 2, 0, 2, 1, 1, 2, 1, 1, 0, 0, 1, 1, 0],\n",
       " [1, 1, 0, 1, 1, 0, 1, 2, 0, 0, 1, 2, 0, 1, 2, 0],\n",
       " [1, 0, 1, 1, 0, 2, 2, 2, 2, 1, 1, 2, 2, 2, 2, 0],\n",
       " [2, 1, 1, 2, 1, 1, 0, 1, 2, 0, 1, 0, 1, 0, 2, 0],\n",
       " [2, 2, 1, 2, 2, 2, 1, 2, 0, 1, 2, 2, 0, 0, 0, 1],\n",
       " [0, 1, 2, 1, 1, 1, 0, 2, 1, 2, 2, 0, 2, 0, 1, 0],\n",
       " [0, 2, 1, 2, 2, 2, 2, 0, 0, 2, 0, 2, 0, 0, 1, 0],\n",
       " [1, 1, 1, 0, 2, 1, 2, 2, 1, 1, 1, 2, 1, 2, 1, 1],\n",
       " [1, 1, 2, 2, 2, 2, 0, 2, 1, 0, 1, 1, 2, 0, 1, 0],\n",
       " [1, 2, 1, 2, 1, 0, 0, 1, 2, 1, 0, 1, 2, 2, 2, 1],\n",
       " [0, 1, 2, 0, 1, 1, 1, 2, 1, 1, 2, 2, 0, 0, 0, 0],\n",
       " [1, 1, 2, 2, 0, 2, 2, 1, 2, 0, 1, 2, 2, 0, 1, 2],\n",
       " [2, 0, 1, 0, 0, 2, 2, 2, 0, 1, 0, 2, 2, 1, 0, 2],\n",
       " [2, 2, 2, 0, 1, 0, 2, 1, 2, 2, 0, 1, 2, 1, 2, 2],\n",
       " [0, 0, 0, 1, 2, 1, 0, 2, 1, 0, 2, 1, 2, 1, 0, 0],\n",
       " [2, 2, 0, 1, 1, 2, 0, 1, 0, 2, 2, 0, 0, 0, 2, 0],\n",
       " [1, 2, 1, 1, 1, 2, 1, 1, 1, 2, 0, 0, 0, 2, 2, 1],\n",
       " [0, 1, 1, 1, 1, 2, 2, 2, 0, 1, 0, 1, 1, 1, 2, 2],\n",
       " [1, 2, 1, 0, 2, 1, 1, 2, 2, 1, 1, 1, 2, 0, 2, 2],\n",
       " [2, 1, 0, 2, 2, 1, 1, 2, 2, 1, 2, 1, 1, 1, 0, 1],\n",
       " [2, 1, 0, 1, 2, 2, 0, 2, 1, 0, 2, 1, 2, 1, 0, 1],\n",
       " [1, 0, 2, 0, 1, 2, 1, 2, 2, 1, 0, 2, 0, 1, 1, 1],\n",
       " [0, 0, 1, 1, 0, 2, 0, 0, 2, 0, 1, 1, 2, 0, 1, 1],\n",
       " [2, 0, 2, 1, 2, 2, 2, 2, 0, 0, 1, 0, 2, 1, 2, 1],\n",
       " [2, 2, 2, 0, 0, 0, 1, 2, 1, 1, 0, 0, 2, 1, 1, 0],\n",
       " [2, 0, 1, 0, 0, 0, 1, 1, 1, 0, 1, 2, 0, 1, 1, 1],\n",
       " [0, 2, 1, 1, 1, 2, 1, 0, 1, 0, 1, 1, 1, 1, 0, 2],\n",
       " [2, 1, 1, 1, 1, 0, 0, 2, 0, 0, 2, 2, 0, 0, 0, 2],\n",
       " [2, 2, 0, 0, 2, 0, 2, 0, 2, 2, 1, 1, 0, 0, 1, 1],\n",
       " [1, 0, 1, 1, 1, 0, 1, 1, 1, 1, 0, 2, 1, 1, 1, 2],\n",
       " [1, 0, 0, 0, 2, 2, 1, 1, 0, 2, 0, 1, 0, 2, 2, 1],\n",
       " [1, 1, 1, 2, 2, 1, 1, 2, 1, 1, 1, 0, 0, 0, 0, 2],\n",
       " [1, 0, 0, 1, 1, 0, 0, 1, 1, 2, 1, 2, 2, 2, 1, 1],\n",
       " [1, 0, 2, 0, 2, 1, 2, 1, 2, 1, 0, 1, 1, 0, 1, 1],\n",
       " [1, 0, 2, 2, 2, 2, 1, 2, 1, 0, 0, 2, 2, 1, 0, 0],\n",
       " [2, 2, 2, 2, 2, 2, 0, 0, 1, 0, 1, 2, 1, 2, 2, 0],\n",
       " [1, 2, 0, 0, 0, 2, 1, 1, 0, 0, 0, 2, 2, 0, 2, 1],\n",
       " [1, 1, 0, 2, 0, 2, 0, 2, 2, 1, 1, 0, 1, 1, 1, 0],\n",
       " [0, 2, 1, 1, 2, 1, 2, 0, 1, 1, 0, 2, 2, 2, 1, 0],\n",
       " [0, 0, 2, 2, 2, 0, 1, 0, 2, 2, 1, 1, 1, 1, 0, 1],\n",
       " [2, 2, 1, 2, 2, 2, 1, 0, 0, 2, 1, 0, 0, 2, 0, 0],\n",
       " [0, 0, 0, 2, 1, 2, 1, 1, 2, 1, 0, 2, 1, 0, 0, 0],\n",
       " [0, 1, 0, 0, 0, 2, 2, 0, 0, 2, 1, 2, 1, 0, 2, 0],\n",
       " [2, 2, 1, 2, 2, 2, 2, 2, 2, 0, 1, 0, 1, 0, 1, 0],\n",
       " [0, 0, 0, 2, 0, 1, 2, 1, 1, 1, 2, 1, 0, 1, 1, 2],\n",
       " [0, 1, 1, 0, 1, 0, 0, 1, 2, 1, 1, 2, 1, 2, 2, 0],\n",
       " [2, 2, 2, 2, 0, 2, 2, 0, 2, 1, 1, 0, 2, 2, 2, 1],\n",
       " [1, 1, 2, 2, 1, 1, 1, 2, 1, 0, 1, 2, 1, 1, 1, 0],\n",
       " [1, 2, 1, 2, 1, 1, 1, 0, 0, 2, 2, 2, 2, 2, 2, 0],\n",
       " [0, 2, 2, 1, 0, 0, 1, 2, 0, 1, 0, 2, 2, 0, 0, 0],\n",
       " [0, 1, 1, 2, 1, 2, 2, 0, 1, 1, 2, 1, 0, 2, 1, 2],\n",
       " [1, 0, 1, 0, 1, 1, 2, 0, 2, 2, 2, 2, 0, 1, 0, 0],\n",
       " [2, 0, 0, 2, 2, 2, 1, 0, 1, 1, 2, 0, 1, 0, 0, 1],\n",
       " [0, 2, 0, 2, 2, 1, 2, 1, 2, 2, 1, 2, 1, 0, 0, 2],\n",
       " [1, 1, 2, 2, 2, 2, 2, 1, 2, 2, 0, 1, 2, 1, 0, 1],\n",
       " [0, 0, 2, 0, 0, 1, 0, 0, 1, 2, 1, 1, 0, 2, 2, 2],\n",
       " [0, 0, 1, 0, 0, 0, 2, 0, 0, 1, 2, 2, 0, 2, 1, 0],\n",
       " [0, 0, 1, 2, 2, 0, 1, 0, 1, 0, 2, 1, 2, 1, 1, 0],\n",
       " [1, 1, 1, 2, 2, 1, 1, 0, 1, 2, 0, 2, 0, 2, 1, 2],\n",
       " [0, 1, 1, 0, 0, 1, 1, 1, 2, 1, 0, 1, 0, 2, 1, 1],\n",
       " [2, 0, 0, 2, 1, 1, 2, 0, 1, 2, 0, 2, 2, 2, 2, 0],\n",
       " [0, 2, 0, 1, 0, 1, 0, 2, 1, 0, 1, 1, 2, 2, 1, 1],\n",
       " [1, 1, 2, 1, 0, 0, 2, 2, 1, 1, 1, 2, 0, 2, 2, 2],\n",
       " [0, 0, 2, 1, 0, 2, 2, 0, 1, 2, 0, 1, 0, 1, 2, 0],\n",
       " [1, 1, 1, 2, 0, 0, 2, 2, 0, 2, 2, 1, 0, 0, 1, 1],\n",
       " [1, 1, 2, 1, 0, 0, 0, 2, 2, 0, 2, 1, 1, 0, 0, 1],\n",
       " [0, 2, 2, 0, 2, 0, 1, 1, 1, 2, 2, 1, 0, 2, 0, 0],\n",
       " [2, 0, 2, 2, 2, 2, 0, 0, 2, 1, 0, 2, 1, 1, 2, 1],\n",
       " [0, 1, 1, 2, 1, 2, 0, 1, 2, 0, 0, 1, 0, 0, 0, 0],\n",
       " [1, 0, 2, 1, 1, 2, 0, 0, 2, 0, 1, 2, 2, 0, 1, 2],\n",
       " [0, 2, 2, 2, 0, 1, 1, 0, 1, 2, 0, 1, 1, 0, 0, 0],\n",
       " [1, 1, 0, 2, 1, 2, 0, 1, 0, 1, 0, 0, 2, 0, 0, 2],\n",
       " [2, 0, 1, 1, 0, 1, 0, 1, 0, 1, 2, 0, 1, 2, 0, 0],\n",
       " [1, 1, 2, 2, 0, 0, 1, 0, 2, 0, 1, 2, 2, 2, 1, 0],\n",
       " [0, 2, 0, 1, 0, 2, 2, 1, 2, 2, 2, 0, 1, 1, 1, 1],\n",
       " [2, 1, 1, 0, 1, 1, 1, 0, 2, 1, 0, 0, 2, 1, 1, 2],\n",
       " [0, 2, 0, 1, 2, 2, 0, 1, 2, 0, 2, 1, 0, 0, 2, 0],\n",
       " [0, 2, 1, 1, 0, 1, 0, 0, 2, 2, 2, 1, 2, 2, 1, 0],\n",
       " [1, 2, 2, 2, 2, 1, 1, 2, 1, 2, 1, 2, 2, 1, 2, 1],\n",
       " [0, 2, 2, 2, 0, 1, 1, 1, 0, 0, 0, 2, 0, 0, 0, 1],\n",
       " [0, 0, 1, 2, 0, 2, 2, 0, 2, 2, 2, 0, 2, 1, 2, 1],\n",
       " [2, 0, 0, 0, 1, 2, 0, 2, 0, 1, 0, 2, 1, 0, 0, 1],\n",
       " [2, 0, 0, 1, 2, 0, 0, 2, 2, 1, 0, 2, 2, 1, 1, 1],\n",
       " [2, 2, 0, 0, 2, 1, 0, 1, 1, 0, 1, 2, 0, 1, 1, 1],\n",
       " [1, 1, 2, 0, 1, 0, 2, 2, 2, 2, 2, 0, 2, 0, 2, 0],\n",
       " [1, 0, 0, 1, 1, 2, 0, 1, 1, 0, 0, 1, 1, 0, 2, 1],\n",
       " [2, 1, 2, 2, 2, 2, 0, 0, 1, 1, 0, 0, 0, 0, 2, 1],\n",
       " [2, 1, 0, 2, 2, 0, 2, 2, 1, 0, 1, 0, 2, 0, 0, 0],\n",
       " [2, 2, 2, 1, 2, 1, 1, 0, 1, 2, 2, 0, 2, 1, 2, 1],\n",
       " [0, 1, 1, 1, 0, 1, 0, 0, 1, 1, 0, 2, 0, 2, 0, 0],\n",
       " [2, 2, 2, 0, 1, 1, 0, 0, 2, 0, 0, 0, 0, 2, 0, 1],\n",
       " [0, 2, 2, 0, 2, 0, 2, 2, 2, 1, 1, 1, 1, 0, 1, 1],\n",
       " [2, 1, 0, 1, 2, 1, 0, 1, 0, 2, 2, 1, 2, 1, 1, 1],\n",
       " [1, 2, 2, 1, 2, 2, 1, 0, 1, 0, 0, 1, 1, 2, 2, 2],\n",
       " [2, 0, 0, 0, 2, 1, 1, 1, 1, 1, 0, 2, 1, 0, 2, 1],\n",
       " [2, 1, 2, 2, 2, 1, 0, 2, 1, 2, 2, 2, 2, 2, 1, 1],\n",
       " [0, 0, 1, 2, 2, 0, 0, 0, 2, 1, 2, 0, 0, 2, 2, 1],\n",
       " [2, 0, 2, 0, 1, 0, 1, 1, 2, 2, 0, 1, 0, 0, 2, 1],\n",
       " [2, 1, 1, 0, 0, 1, 1, 2, 2, 0, 0, 2, 1, 2, 1, 0],\n",
       " [0, 1, 2, 2, 2, 1, 0, 0, 1, 0, 2, 0, 1, 1, 2, 2],\n",
       " [1, 2, 2, 2, 0, 2, 0, 2, 1, 1, 2, 2, 2, 2, 1, 1],\n",
       " [1, 0, 0, 1, 1, 2, 0, 0, 1, 2, 1, 2, 1, 0, 1, 1],\n",
       " [1, 0, 1, 1, 2, 1, 0, 1, 0, 1, 1, 1, 2, 0, 1, 0],\n",
       " [0, 1, 2, 1, 1, 0, 0, 0, 2, 0, 1, 0, 1, 2, 2, 0],\n",
       " [1, 0, 2, 2, 2, 2, 2, 0, 1, 0, 2, 2, 2, 0, 0, 0],\n",
       " [0, 2, 1, 1, 0, 0, 0, 1, 1, 0, 1, 1, 2, 0, 2, 0],\n",
       " [2, 0, 1, 1, 2, 0, 0, 0, 1, 1, 1, 1, 0, 2, 0, 2],\n",
       " [2, 0, 2, 2, 1, 1, 1, 1, 2, 0, 2, 0, 1, 2, 1, 0],\n",
       " [2, 1, 2, 2, 2, 0, 2, 2, 0, 2, 2, 0, 2, 0, 1, 0],\n",
       " [1, 2, 2, 0, 1, 2, 0, 0, 2, 2, 1, 1, 2, 1, 0, 1],\n",
       " ...]"
      ]
     },
     "execution_count": 10,
     "metadata": {},
     "output_type": "execute_result"
    }
   ],
   "source": [
    "pred_list"
   ]
  },
  {
   "cell_type": "code",
   "execution_count": 11,
   "id": "e9b925a4",
   "metadata": {},
   "outputs": [],
   "source": [
    "listarray=[]\n",
    "for i in pred_list:\n",
    "    for j in i:\n",
    "        listarray.append(j)"
   ]
  },
  {
   "cell_type": "code",
   "execution_count": 12,
   "id": "4eb989ef",
   "metadata": {},
   "outputs": [
    {
     "data": {
      "text/plain": [
       "[0,\n",
       " 2,\n",
       " 2,\n",
       " 1,\n",
       " 2,\n",
       " 1,\n",
       " 0,\n",
       " 2,\n",
       " 1,\n",
       " 2,\n",
       " 1,\n",
       " 1,\n",
       " 2,\n",
       " 2,\n",
       " 1,\n",
       " 2,\n",
       " 1,\n",
       " 0,\n",
       " 0,\n",
       " 2,\n",
       " 0,\n",
       " 0,\n",
       " 0,\n",
       " 1,\n",
       " 1,\n",
       " 1,\n",
       " 2,\n",
       " 0,\n",
       " 0,\n",
       " 0,\n",
       " 1,\n",
       " 1,\n",
       " 2,\n",
       " 2,\n",
       " 1,\n",
       " 1,\n",
       " 1,\n",
       " 2,\n",
       " 2,\n",
       " 2,\n",
       " 2,\n",
       " 2,\n",
       " 2,\n",
       " 1,\n",
       " 0,\n",
       " 1,\n",
       " 0,\n",
       " 2,\n",
       " 0,\n",
       " 1,\n",
       " 2,\n",
       " 0,\n",
       " 0,\n",
       " 2,\n",
       " 1,\n",
       " 0,\n",
       " 0,\n",
       " 1,\n",
       " 0,\n",
       " 1,\n",
       " 1,\n",
       " 1,\n",
       " 0,\n",
       " 0,\n",
       " 1,\n",
       " 0,\n",
       " 1,\n",
       " 2,\n",
       " 2,\n",
       " 2,\n",
       " 2,\n",
       " 1,\n",
       " 1,\n",
       " 0,\n",
       " 0,\n",
       " 2,\n",
       " 0,\n",
       " 2,\n",
       " 1,\n",
       " 2,\n",
       " 0,\n",
       " 1,\n",
       " 2,\n",
       " 0,\n",
       " 1,\n",
       " 1,\n",
       " 2,\n",
       " 1,\n",
       " 0,\n",
       " 1,\n",
       " 2,\n",
       " 1,\n",
       " 1,\n",
       " 1,\n",
       " 2,\n",
       " 1,\n",
       " 2,\n",
       " 0,\n",
       " 2,\n",
       " 0,\n",
       " 1,\n",
       " 2,\n",
       " 1,\n",
       " 2,\n",
       " 2,\n",
       " 0,\n",
       " 0,\n",
       " 2,\n",
       " 1,\n",
       " 2,\n",
       " 1,\n",
       " 2,\n",
       " 0,\n",
       " 0,\n",
       " 1,\n",
       " 1,\n",
       " 0,\n",
       " 2,\n",
       " 1,\n",
       " 1,\n",
       " 1,\n",
       " 0,\n",
       " 0,\n",
       " 0,\n",
       " 1,\n",
       " 2,\n",
       " 1,\n",
       " 2,\n",
       " 2,\n",
       " 1,\n",
       " 1,\n",
       " 2,\n",
       " 0,\n",
       " 0,\n",
       " 2,\n",
       " 0,\n",
       " 0,\n",
       " 0,\n",
       " 1,\n",
       " 2,\n",
       " 0,\n",
       " 2,\n",
       " 2,\n",
       " 2,\n",
       " 0,\n",
       " 1,\n",
       " 2,\n",
       " 0,\n",
       " 1,\n",
       " 2,\n",
       " 2,\n",
       " 1,\n",
       " 0,\n",
       " 0,\n",
       " 2,\n",
       " 2,\n",
       " 2,\n",
       " 0,\n",
       " 1,\n",
       " 1,\n",
       " 2,\n",
       " 0,\n",
       " 0,\n",
       " 2,\n",
       " 2,\n",
       " 0,\n",
       " 0,\n",
       " 2,\n",
       " 1,\n",
       " 2,\n",
       " 0,\n",
       " 2,\n",
       " 2,\n",
       " 2,\n",
       " 0,\n",
       " 2,\n",
       " 2,\n",
       " 2,\n",
       " 1,\n",
       " 2,\n",
       " 2,\n",
       " 1,\n",
       " 1,\n",
       " 1,\n",
       " 0,\n",
       " 2,\n",
       " 1,\n",
       " 0,\n",
       " 1,\n",
       " 0,\n",
       " 1,\n",
       " 1,\n",
       " 2,\n",
       " 0,\n",
       " 2,\n",
       " 1,\n",
       " 1,\n",
       " 1,\n",
       " 0,\n",
       " 1,\n",
       " 1,\n",
       " 2,\n",
       " 2,\n",
       " 2,\n",
       " 1,\n",
       " 1,\n",
       " 1,\n",
       " 1,\n",
       " 1,\n",
       " 2,\n",
       " 2,\n",
       " 0,\n",
       " 0,\n",
       " 1,\n",
       " 1,\n",
       " 2,\n",
       " 1,\n",
       " 0,\n",
       " 0,\n",
       " 0,\n",
       " 1,\n",
       " 0,\n",
       " 2,\n",
       " 0,\n",
       " 2,\n",
       " 1,\n",
       " 1,\n",
       " 2,\n",
       " 1,\n",
       " 1,\n",
       " 2,\n",
       " 2,\n",
       " 0,\n",
       " 2,\n",
       " 1,\n",
       " 1,\n",
       " 0,\n",
       " 1,\n",
       " 1,\n",
       " 2,\n",
       " 1,\n",
       " 2,\n",
       " 1,\n",
       " 2,\n",
       " 2,\n",
       " 1,\n",
       " 0,\n",
       " 1,\n",
       " 0,\n",
       " 0,\n",
       " 0,\n",
       " 2,\n",
       " 0,\n",
       " 0,\n",
       " 0,\n",
       " 0,\n",
       " 1,\n",
       " 0,\n",
       " 2,\n",
       " 0,\n",
       " 2,\n",
       " 0,\n",
       " 0,\n",
       " 0,\n",
       " 1,\n",
       " 2,\n",
       " 1,\n",
       " 2,\n",
       " 2,\n",
       " 0,\n",
       " 2,\n",
       " 0,\n",
       " 1,\n",
       " 2,\n",
       " 2,\n",
       " 1,\n",
       " 1,\n",
       " 2,\n",
       " 1,\n",
       " 0,\n",
       " 1,\n",
       " 2,\n",
       " 1,\n",
       " 0,\n",
       " 0,\n",
       " 0,\n",
       " 0,\n",
       " 1,\n",
       " 1,\n",
       " 1,\n",
       " 2,\n",
       " 1,\n",
       " 1,\n",
       " 0,\n",
       " 2,\n",
       " 0,\n",
       " 0,\n",
       " 2,\n",
       " 1,\n",
       " 2,\n",
       " 2,\n",
       " 0,\n",
       " 1,\n",
       " 2,\n",
       " 0,\n",
       " 2,\n",
       " 1,\n",
       " 1,\n",
       " 0,\n",
       " 2,\n",
       " 1,\n",
       " 0,\n",
       " 0,\n",
       " 1,\n",
       " 2,\n",
       " 2,\n",
       " 2,\n",
       " 1,\n",
       " 1,\n",
       " 0,\n",
       " 1,\n",
       " 1,\n",
       " 1,\n",
       " 2,\n",
       " 1,\n",
       " 0,\n",
       " 2,\n",
       " 1,\n",
       " 2,\n",
       " 2,\n",
       " 2,\n",
       " 2,\n",
       " 0,\n",
       " 1,\n",
       " 1,\n",
       " 0,\n",
       " 2,\n",
       " 2,\n",
       " 2,\n",
       " 2,\n",
       " 0,\n",
       " 1,\n",
       " 0,\n",
       " 1,\n",
       " 2,\n",
       " 2,\n",
       " 2,\n",
       " 1,\n",
       " 0,\n",
       " 1,\n",
       " 1,\n",
       " 2,\n",
       " 1,\n",
       " 1,\n",
       " 0,\n",
       " 2,\n",
       " 1,\n",
       " 2,\n",
       " 1,\n",
       " 0,\n",
       " 1,\n",
       " 1,\n",
       " 1,\n",
       " 1,\n",
       " 0,\n",
       " 2,\n",
       " 1,\n",
       " 0,\n",
       " 0,\n",
       " 1,\n",
       " 0,\n",
       " 0,\n",
       " 2,\n",
       " 1,\n",
       " 2,\n",
       " 2,\n",
       " 1,\n",
       " 2,\n",
       " 0,\n",
       " 0,\n",
       " 0,\n",
       " 0,\n",
       " 0,\n",
       " 0,\n",
       " 2,\n",
       " 1,\n",
       " 2,\n",
       " 0,\n",
       " 2,\n",
       " 2,\n",
       " 1,\n",
       " 2,\n",
       " 0,\n",
       " 1,\n",
       " 2,\n",
       " 0,\n",
       " 2,\n",
       " 0,\n",
       " 0,\n",
       " 2,\n",
       " 2,\n",
       " 2,\n",
       " 2,\n",
       " 0,\n",
       " 1,\n",
       " 2,\n",
       " 1,\n",
       " 2,\n",
       " 2,\n",
       " 0,\n",
       " 2,\n",
       " 1,\n",
       " 2,\n",
       " 0,\n",
       " 0,\n",
       " 1,\n",
       " 0,\n",
       " 1,\n",
       " 1,\n",
       " 1,\n",
       " 0,\n",
       " 0,\n",
       " 2,\n",
       " 0,\n",
       " 2,\n",
       " 2,\n",
       " 1,\n",
       " 1,\n",
       " 2,\n",
       " 0,\n",
       " 0,\n",
       " 2,\n",
       " 0,\n",
       " 2,\n",
       " 2,\n",
       " 0,\n",
       " 0,\n",
       " 1,\n",
       " 1,\n",
       " 1,\n",
       " 0,\n",
       " 2,\n",
       " 0,\n",
       " 2,\n",
       " 2,\n",
       " 1,\n",
       " 0,\n",
       " 1,\n",
       " 1,\n",
       " 0,\n",
       " 0,\n",
       " 2,\n",
       " 1,\n",
       " 1,\n",
       " 2,\n",
       " 1,\n",
       " 1,\n",
       " 2,\n",
       " 1,\n",
       " 0,\n",
       " 2,\n",
       " 2,\n",
       " 2,\n",
       " 1,\n",
       " 1,\n",
       " 2,\n",
       " 2,\n",
       " 1,\n",
       " 0,\n",
       " 0,\n",
       " 2,\n",
       " 0,\n",
       " 0,\n",
       " 1,\n",
       " 2,\n",
       " 0,\n",
       " 2,\n",
       " 2,\n",
       " 2,\n",
       " 2,\n",
       " 1,\n",
       " 1,\n",
       " 0,\n",
       " 0,\n",
       " 1,\n",
       " 0,\n",
       " 2,\n",
       " 0,\n",
       " 0,\n",
       " 2,\n",
       " 2,\n",
       " 2,\n",
       " 0,\n",
       " 0,\n",
       " 2,\n",
       " 1,\n",
       " 0,\n",
       " 0,\n",
       " 1,\n",
       " 2,\n",
       " 1,\n",
       " 1,\n",
       " 0,\n",
       " 1,\n",
       " 0,\n",
       " 1,\n",
       " 2,\n",
       " 0,\n",
       " 0,\n",
       " 1,\n",
       " 1,\n",
       " 1,\n",
       " 0,\n",
       " 0,\n",
       " 2,\n",
       " 1,\n",
       " 2,\n",
       " 2,\n",
       " 0,\n",
       " 0,\n",
       " 1,\n",
       " 0,\n",
       " 0,\n",
       " 1,\n",
       " 0,\n",
       " 0,\n",
       " 0,\n",
       " 2,\n",
       " 0,\n",
       " 2,\n",
       " 1,\n",
       " 2,\n",
       " 2,\n",
       " 2,\n",
       " 1,\n",
       " 1,\n",
       " 0,\n",
       " 1,\n",
       " 1,\n",
       " 0,\n",
       " 1,\n",
       " 1,\n",
       " 2,\n",
       " 1,\n",
       " 2,\n",
       " 2,\n",
       " 0,\n",
       " 0,\n",
       " 0,\n",
       " 2,\n",
       " 0,\n",
       " 0,\n",
       " 2,\n",
       " 0,\n",
       " 0,\n",
       " 0,\n",
       " 1,\n",
       " 1,\n",
       " 0,\n",
       " 0,\n",
       " 0,\n",
       " 2,\n",
       " 2,\n",
       " 0,\n",
       " 0,\n",
       " 2,\n",
       " 2,\n",
       " 2,\n",
       " 2,\n",
       " 0,\n",
       " 0,\n",
       " 2,\n",
       " 1,\n",
       " 2,\n",
       " 2,\n",
       " 2,\n",
       " 0,\n",
       " 1,\n",
       " 2,\n",
       " 1,\n",
       " 2,\n",
       " 1,\n",
       " 0,\n",
       " 0,\n",
       " 1,\n",
       " 1,\n",
       " 2,\n",
       " 0,\n",
       " 2,\n",
       " 1,\n",
       " 0,\n",
       " 2,\n",
       " 1,\n",
       " 2,\n",
       " 0,\n",
       " 1,\n",
       " 1,\n",
       " 2,\n",
       " 1,\n",
       " 0,\n",
       " 1,\n",
       " 0,\n",
       " 2,\n",
       " 0,\n",
       " 2,\n",
       " 0,\n",
       " 1,\n",
       " 2,\n",
       " 2,\n",
       " 2,\n",
       " 0,\n",
       " 2,\n",
       " 0,\n",
       " 0,\n",
       " 2,\n",
       " 2,\n",
       " 1,\n",
       " 2,\n",
       " 2,\n",
       " 2,\n",
       " 2,\n",
       " 1,\n",
       " 1,\n",
       " 2,\n",
       " 2,\n",
       " 1,\n",
       " 1,\n",
       " 2,\n",
       " 2,\n",
       " 2,\n",
       " 2,\n",
       " 1,\n",
       " 2,\n",
       " 2,\n",
       " 0,\n",
       " 0,\n",
       " 0,\n",
       " 0,\n",
       " 0,\n",
       " 1,\n",
       " 0,\n",
       " 0,\n",
       " 0,\n",
       " 2,\n",
       " 0,\n",
       " 0,\n",
       " 0,\n",
       " 0,\n",
       " 1,\n",
       " 0,\n",
       " 2,\n",
       " 1,\n",
       " 2,\n",
       " 2,\n",
       " 1,\n",
       " 0,\n",
       " 1,\n",
       " 1,\n",
       " 1,\n",
       " 1,\n",
       " 2,\n",
       " 2,\n",
       " 0,\n",
       " 0,\n",
       " 0,\n",
       " 1,\n",
       " 1,\n",
       " 0,\n",
       " 1,\n",
       " 2,\n",
       " 0,\n",
       " 0,\n",
       " 2,\n",
       " 2,\n",
       " 0,\n",
       " 2,\n",
       " 0,\n",
       " 2,\n",
       " 2,\n",
       " 1,\n",
       " 1,\n",
       " 1,\n",
       " 1,\n",
       " 1,\n",
       " 2,\n",
       " 1,\n",
       " 2,\n",
       " 1,\n",
       " 1,\n",
       " 1,\n",
       " 2,\n",
       " 2,\n",
       " 0,\n",
       " 1,\n",
       " 2,\n",
       " 2,\n",
       " 0,\n",
       " 0,\n",
       " 0,\n",
       " 2,\n",
       " 1,\n",
       " 1,\n",
       " 1,\n",
       " 0,\n",
       " 1,\n",
       " 2,\n",
       " 0,\n",
       " 1,\n",
       " 0,\n",
       " 1,\n",
       " 1,\n",
       " 2,\n",
       " 2,\n",
       " 2,\n",
       " 0,\n",
       " 1,\n",
       " 0,\n",
       " 1,\n",
       " 1,\n",
       " 1,\n",
       " 1,\n",
       " 2,\n",
       " 2,\n",
       " 0,\n",
       " 2,\n",
       " 0,\n",
       " 2,\n",
       " 1,\n",
       " 2,\n",
       " 2,\n",
       " 2,\n",
       " 0,\n",
       " 1,\n",
       " 2,\n",
       " 1,\n",
       " 1,\n",
       " 1,\n",
       " 2,\n",
       " 0,\n",
       " 2,\n",
       " 1,\n",
       " 1,\n",
       " 2,\n",
       " 2,\n",
       " 2,\n",
       " 1,\n",
       " 0,\n",
       " 2,\n",
       " 0,\n",
       " 1,\n",
       " 1,\n",
       " 1,\n",
       " 2,\n",
       " 2,\n",
       " 1,\n",
       " 1,\n",
       " 1,\n",
       " 1,\n",
       " 0,\n",
       " 1,\n",
       " 0,\n",
       " 2,\n",
       " 0,\n",
       " 1,\n",
       " 2,\n",
       " 2,\n",
       " 1,\n",
       " 2,\n",
       " 1,\n",
       " 1,\n",
       " 0,\n",
       " 1,\n",
       " 2,\n",
       " 0,\n",
       " 0,\n",
       " 1,\n",
       " 1,\n",
       " 1,\n",
       " 0,\n",
       " 2,\n",
       " 2,\n",
       " 2,\n",
       " 0,\n",
       " 1,\n",
       " 0,\n",
       " 1,\n",
       " 1,\n",
       " 2,\n",
       " 2,\n",
       " 1,\n",
       " 2,\n",
       " 1,\n",
       " 2,\n",
       " 2,\n",
       " 0,\n",
       " 2,\n",
       " 0,\n",
       " 0,\n",
       " 2,\n",
       " 2,\n",
       " 0,\n",
       " 2,\n",
       " 2,\n",
       " 1,\n",
       " 1,\n",
       " 2,\n",
       " 1,\n",
       " 2,\n",
       " 0,\n",
       " 2,\n",
       " 1,\n",
       " 0,\n",
       " 1,\n",
       " 0,\n",
       " 0,\n",
       " 1,\n",
       " 2,\n",
       " 2,\n",
       " 2,\n",
       " 2,\n",
       " 1,\n",
       " 2,\n",
       " 0,\n",
       " 2,\n",
       " 0,\n",
       " 1,\n",
       " 0,\n",
       " 0,\n",
       " 2,\n",
       " 1,\n",
       " 1,\n",
       " 0,\n",
       " 0,\n",
       " 1,\n",
       " 2,\n",
       " 0,\n",
       " 1,\n",
       " 0,\n",
       " 1,\n",
       " 1,\n",
       " 0,\n",
       " 1,\n",
       " 1,\n",
       " 0,\n",
       " 2,\n",
       " 2,\n",
       " 1,\n",
       " 2,\n",
       " 0,\n",
       " 2,\n",
       " 2,\n",
       " 1,\n",
       " 0,\n",
       " 1,\n",
       " 2,\n",
       " 1,\n",
       " 2,\n",
       " 0,\n",
       " 0,\n",
       " 0,\n",
       " 2,\n",
       " 1,\n",
       " 0,\n",
       " 2,\n",
       " 0,\n",
       " 0,\n",
       " 0,\n",
       " 0,\n",
       " 2,\n",
       " 2,\n",
       " 0,\n",
       " 0,\n",
       " 0,\n",
       " 1,\n",
       " 2,\n",
       " 2,\n",
       " 0,\n",
       " 0,\n",
       " 1,\n",
       " 2,\n",
       " 0,\n",
       " 0,\n",
       " 2,\n",
       " 0,\n",
       " 0,\n",
       " 0,\n",
       " 0,\n",
       " 1,\n",
       " 2,\n",
       " 2,\n",
       " 1,\n",
       " 1,\n",
       " 1,\n",
       " 2,\n",
       " 1,\n",
       " 1,\n",
       " 1,\n",
       " 2,\n",
       " 2,\n",
       " 1,\n",
       " 1,\n",
       " 2,\n",
       " 2,\n",
       " 0,\n",
       " 2,\n",
       " 2,\n",
       " 1,\n",
       " 1,\n",
       " 0,\n",
       " 1,\n",
       " 1,\n",
       " 0,\n",
       " 2,\n",
       " 1,\n",
       " 0,\n",
       " 1,\n",
       " 0,\n",
       " 0,\n",
       " 2,\n",
       " 2,\n",
       " 2,\n",
       " 0,\n",
       " 0,\n",
       " 1,\n",
       " 1,\n",
       " 1,\n",
       " 1,\n",
       " 0,\n",
       " 0,\n",
       " 0,\n",
       " 1,\n",
       " 0,\n",
       " 2,\n",
       " 2,\n",
       " 0,\n",
       " 1,\n",
       " 0,\n",
       " 2,\n",
       " 0,\n",
       " 2,\n",
       " 1,\n",
       " 0,\n",
       " 2,\n",
       " 0,\n",
       " 2,\n",
       " 1,\n",
       " 1,\n",
       " 2,\n",
       " 2,\n",
       " 1,\n",
       " 1,\n",
       " 1,\n",
       " 0,\n",
       " 2,\n",
       " 2,\n",
       " 2,\n",
       " 0,\n",
       " 1,\n",
       " 0,\n",
       " 2,\n",
       " 2,\n",
       " 0,\n",
       " 2,\n",
       " 1,\n",
       " 2,\n",
       " 1,\n",
       " 2,\n",
       " 1,\n",
       " 1,\n",
       " 0,\n",
       " 2,\n",
       " 0,\n",
       " 2,\n",
       " 0,\n",
       " 1,\n",
       " 1,\n",
       " 1,\n",
       " 0,\n",
       " 1,\n",
       " 1,\n",
       " 2,\n",
       " 0,\n",
       " 0,\n",
       " 2,\n",
       " 1,\n",
       " 1,\n",
       " 0,\n",
       " 0,\n",
       " 1,\n",
       " 1,\n",
       " 1,\n",
       " 2,\n",
       " 0,\n",
       " 1,\n",
       " 0,\n",
       " 2,\n",
       " 0,\n",
       " 1,\n",
       " 1,\n",
       " 0,\n",
       " ...]"
      ]
     },
     "execution_count": 12,
     "metadata": {},
     "output_type": "execute_result"
    }
   ],
   "source": [
    "listarray"
   ]
  },
  {
   "cell_type": "markdown",
   "id": "d23ad834",
   "metadata": {},
   "source": [
    "## 그래프 그리기"
   ]
  },
  {
   "cell_type": "code",
   "execution_count": 13,
   "id": "9c562648",
   "metadata": {},
   "outputs": [],
   "source": [
    "train_loss_list = torch.tensor(loss_list)\n",
    "train_acc_list = torch.tensor(acc_list)"
   ]
  },
  {
   "cell_type": "code",
   "execution_count": 14,
   "id": "d4ee5162",
   "metadata": {},
   "outputs": [
    {
     "data": {
      "image/png": "[encoded data removed]",
      "text/plain": [
       "<Figure size 640x480 with 1 Axes>"
      ]
     },
     "metadata": {},
     "output_type": "display_data"
    }
   ],
   "source": [
    "\n",
    "plt.plot(train_loss_list, label='train loss',color='red')\n",
    "plt.xlabel(\"epoch\")\n",
    "plt.ylabel(\"loss\")\n",
    "plt.legend()\n",
    "plt.show()"
   ]
  },
  {
   "cell_type": "code",
   "execution_count": 15,
   "id": "4aae5b1d",
   "metadata": {},
   "outputs": [
    {
     "data": {
      "image/png": "[encoded data removed]",
      "text/plain": [
       "<Figure size 640x480 with 1 Axes>"
      ]
     },
     "metadata": {},
     "output_type": "display_data"
    }
   ],
   "source": [
    "plt.plot(train_acc_list, label='train accuracy',color='blue')\n",
    "plt.xlabel(\"epoch\")\n",
    "plt.ylabel(\"accuracy\")\n",
    "plt.legend()\n",
    "plt.show()"
   ]
  },
  {
   "cell_type": "markdown",
   "id": "c8729997",
   "metadata": {},
   "source": [
    "## Confusion matrix"
   ]
  },
  {
   "cell_type": "code",
   "execution_count": 16,
   "id": "9b46d163",
   "metadata": {},
   "outputs": [
    {
     "data": {
      "image/png": "[encoded data removed]",
      "text/plain": [
       "<Figure size 640x480 with 2 Axes>"
      ]
     },
     "metadata": {},
     "output_type": "display_data"
    }
   ],
   "source": [
    "from sklearn.metrics import confusion_matrix\n",
    "from sklearn.metrics import confusion_matrix, ConfusionMatrixDisplay\n",
    "\n",
    "confusion_matrix(y_test, listarray)\n",
    "\n",
    "cm = confusion_matrix(y_test, listarray, labels=[0,1,2],normalize=\"true\")\n",
    "disp = ConfusionMatrixDisplay(confusion_matrix=cm,display_labels=[0,1,2])\n",
    "disp.plot()\n",
    "plt.show()"
   ]
  },
  {
   "cell_type": "code",
   "execution_count": 17,
   "id": "363d0cec",
   "metadata": {},
   "outputs": [
    {
     "name": "stdout",
     "output_type": "stream",
     "text": [
      "0.8947273816656681\n",
      "정확도: 89.47273816656681\n"
     ]
    },
    {
     "name": "stderr",
     "output_type": "stream",
     "text": [
      "C:\\Users\\jaemin\\Anaconda3\\envs\\py38\\lib\\site-packages\\sklearn\\metrics\\_classification.py:1396: UserWarning: Note that pos_label (set to 'positive') is ignored when average != 'binary' (got 'micro'). You may use labels=[pos_label] to specify a single positive class.\n",
      "  warnings.warn(\n"
     ]
    }
   ],
   "source": [
    "from sklearn.metrics import f1_score ## F1 Score 구하기\n",
    "from sklearn.metrics import accuracy_score\n",
    "f1 = f1_score(y_test,listarray,pos_label='positive', average='micro')\n",
    "accuracy_score=accuracy_score(y_test, listarray) * 100\n",
    "print(f1)\n",
    "print(\"정확도: {}\".format(accuracy_score))"
   ]
  },
  {
   "cell_type": "code",
   "execution_count": 18,
   "id": "4015176a",
   "metadata": {},
   "outputs": [
    {
     "name": "stdout",
     "output_type": "stream",
     "text": [
      "SMOTE 적용 후 테스트용 피처/레이블 데이터 세트:  torch.Size([33380, 6]) torch.Size([33380])\n",
      "SMOTE 적용 후 레이블 값 분포: \n",
      " 2    11127\n",
      "1    11127\n",
      "0    11126\n",
      "dtype: int64\n"
     ]
    }
   ],
   "source": [
    "\n",
    "print('SMOTE 적용 후 테스트용 피처/레이블 데이터 세트: ', X_test.shape, y_test.shape)\n",
    "# print('SMOTE 적용 전 레이블 값 분포: \\n', pd.Series(y).value_counts())\n",
    "print('SMOTE 적용 후 레이블 값 분포: \\n', pd.Series(y_test).value_counts())"
   ]
  },
  {
   "cell_type": "code",
   "execution_count": 19,
   "id": "08853eae",
   "metadata": {},
   "outputs": [],
   "source": [
    "from collections import Counter\n",
    "result = Counter(listarray)"
   ]
  },
  {
   "cell_type": "code",
   "execution_count": 20,
   "id": "b2838a20",
   "metadata": {},
   "outputs": [
    {
     "data": {
      "text/plain": [
       "Counter({0: 10225, 2: 11695, 1: 11460})"
      ]
     },
     "execution_count": 20,
     "metadata": {},
     "output_type": "execute_result"
    }
   ],
   "source": [
    "result"
   ]
  },
  {
   "cell_type": "markdown",
   "id": "12e77603",
   "metadata": {},
   "source": [
    "### AUC"
   ]
  },
  {
   "cell_type": "code",
   "execution_count": 21,
   "id": "be9cc77a",
   "metadata": {},
   "outputs": [],
   "source": [
    "from sklearn import preprocessing\n",
    "def multiclass_roc_auc_score(y_test, y_pred, average=\"macro\"):\n",
    "    lb = preprocessing.LabelBinarizer()\n",
    "    lb.fit(y_test)\n",
    "    y_test = lb.transform(y_test)\n",
    "    y_pred = lb.transform(y_pred)\n",
    "    return roc_auc_score(y_test, y_pred, average=average)"
   ]
  },
  {
   "cell_type": "code",
   "execution_count": 22,
   "id": "ef794699",
   "metadata": {},
   "outputs": [
    {
     "name": "stdout",
     "output_type": "stream",
     "text": [
      "roc_auc_score:  0.9210447798836056\n"
     ]
    }
   ],
   "source": [
    "from sklearn.datasets import make_classification\n",
    "from sklearn.metrics import roc_curve, auc, roc_auc_score\n",
    "\n",
    "from sklearn.naive_bayes import GaussianNB\n",
    "from sklearn.multiclass import OneVsRestClassifier\n",
    "from sklearn.preprocessing import label_binarize\n",
    "from sklearn.model_selection import train_test_split\n",
    "import matplotlib.pyplot as plt\n",
    "\n",
    "# make sample data\n",
    "n_classes = 3\n",
    "\n",
    "\n",
    "print(\"roc_auc_score: \", multiclass_roc_auc_score(y_test, listarray))"
   ]
  },
  {
   "cell_type": "code",
   "execution_count": null,
   "id": "5bb91a90",
   "metadata": {},
   "outputs": [],
   "source": []
  },
  {
   "cell_type": "code",
   "execution_count": null,
   "id": "a3550b26",
   "metadata": {},
   "outputs": [],
   "source": []
  },
  {
   "cell_type": "code",
   "execution_count": null,
   "id": "8445e5c4",
   "metadata": {},
   "outputs": [],
   "source": []
  },
  {
   "cell_type": "code",
   "execution_count": null,
   "id": "04e29b17",
   "metadata": {},
   "outputs": [],
   "source": []
  },
  {
   "cell_type": "code",
   "execution_count": null,
   "id": "f7456fe1",
   "metadata": {},
   "outputs": [],
   "source": []
  }
 ],
 "metadata": {
  "kernelspec": {
   "display_name": "Python 3 (ipykernel)",
   "language": "python",
   "name": "python3"
  },
  "language_info": {
   "codemirror_mode": {
    "name": "ipython",
    "version": 3
   },
   "file_extension": ".py",
   "mimetype": "text/x-python",
   "name": "python",
   "nbconvert_exporter": "python",
   "pygments_lexer": "ipython3",
   "version": "3.8.11"
  }
 },
 "nbformat": 4,
 "nbformat_minor": 5
}
