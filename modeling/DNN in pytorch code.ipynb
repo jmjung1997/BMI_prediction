{
 "cells": [
  {
   "cell_type": "code",
   "execution_count": 1,
   "id": "6cfeef06",
   "metadata": {},
   "outputs": [
    {
     "name": "stdout",
     "output_type": "stream",
     "text": [
      "Requirement already satisfied: imblearn in c:\\users\\lab01\\anaconda3\\lib\\site-packages (0.0)\n",
      "Requirement already satisfied: imbalanced-learn in c:\\users\\lab01\\anaconda3\\lib\\site-packages (from imblearn) (0.9.1)\n",
      "Requirement already satisfied: scikit-learn>=1.1.0 in c:\\users\\lab01\\anaconda3\\lib\\site-packages (from imbalanced-learn->imblearn) (1.1.2)\n",
      "Requirement already satisfied: numpy>=1.17.3 in c:\\users\\lab01\\anaconda3\\lib\\site-packages (from imbalanced-learn->imblearn) (1.20.1)\n",
      "Requirement already satisfied: joblib>=1.0.0 in c:\\users\\lab01\\anaconda3\\lib\\site-packages (from imbalanced-learn->imblearn) (1.0.1)\n",
      "Requirement already satisfied: scipy>=1.3.2 in c:\\users\\lab01\\anaconda3\\lib\\site-packages (from imbalanced-learn->imblearn) (1.6.2)\n",
      "Requirement already satisfied: threadpoolctl>=2.0.0 in c:\\users\\lab01\\anaconda3\\lib\\site-packages (from imbalanced-learn->imblearn) (2.1.0)\n"
     ]
    }
   ],
   "source": [
    "!pip install imblearn"
   ]
  },
  {
   "cell_type": "code",
   "execution_count": 49,
   "id": "741762a3",
   "metadata": {},
   "outputs": [],
   "source": [
    "import torch\n",
    "import torch.nn as nn\n",
    "from imblearn.over_sampling import SMOTE\n",
    "import torch.optim as optim\n",
    "import torch.nn.functional as F\n",
    "from sklearn.preprocessing import MinMaxScaler\n",
    "import pandas as pd\n",
    "from torchvision import datasets, transforms, utils\n",
    "from torch.utils import data"
   ]
  },
  {
   "cell_type": "code",
   "execution_count": 50,
   "id": "0d0daa54",
   "metadata": {},
   "outputs": [],
   "source": [
    "df=pd.read_excel('./modeling_data/Result2.xlsx')"
   ]
  },
  {
   "cell_type": "code",
   "execution_count": 51,
   "id": "3a7415cb",
   "metadata": {},
   "outputs": [],
   "source": [
    "X=df.iloc[:,1:7]\n",
    "y_origin=df['Label']"
   ]
  },
  {
   "cell_type": "code",
   "execution_count": 52,
   "id": "028f5a4f",
   "metadata": {},
   "outputs": [
    {
     "name": "stdout",
     "output_type": "stream",
     "text": [
      "SMOTE 적용 전 학습용 피처/레이블 데이터 세트:  (16047, 6) (16047,)\n",
      "SMOTE 적용 후 학습용 피처/레이블 데이터 세트:  (24510, 6) (24510,)\n",
      "SMOTE 적용 전 레이블 값 분포: \n",
      " -1    8170\n",
      " 1    7731\n",
      " 0     146\n",
      "Name: Label, dtype: int64\n",
      "SMOTE 적용 후 레이블 값 분포: \n",
      "  0    8170\n",
      " 1    8170\n",
      "-1    8170\n",
      "Name: Label, dtype: int64\n"
     ]
    }
   ],
   "source": [
    "train_x=X[:16047]\n",
    "test_x=X[16047:]\n",
    "\n",
    "train_y=y_origin[:16047]\n",
    "test_y=y_origin[16047:]\n",
    "\n",
    "\n",
    "smote = SMOTE(random_state=0)\n",
    "X_train_over,y_train_over = smote.fit_resample(train_x,train_y)\n",
    "\n",
    "print('SMOTE 적용 전 학습용 피처/레이블 데이터 세트: ', train_x.shape, train_y.shape)\n",
    "print('SMOTE 적용 후 학습용 피처/레이블 데이터 세트: ', X_train_over.shape, y_train_over.shape)\n",
    "print('SMOTE 적용 전 레이블 값 분포: \\n', pd.Series(train_y).value_counts())\n",
    "print('SMOTE 적용 후 레이블 값 분포: \\n', pd.Series(y_train_over).value_counts())"
   ]
  },
  {
   "cell_type": "code",
   "execution_count": 53,
   "id": "6f0d80ca",
   "metadata": {},
   "outputs": [],
   "source": [
    "ms=MinMaxScaler()\n",
    "X_train_over_ms=ms.fit_transform(X_train_over)\n",
    "X_test_ms=ms.fit_transform(test_x)\n",
    "\n",
    "y_train_over_dummies=pd.get_dummies(y_train_over)\n",
    "test_y_dummies=pd.get_dummies(test_y)\n",
    "\n",
    "train_x = X_train_over.values\n",
    "test_x = X_test_ms\n",
    "train_y = y_train_over_dummies.values\n",
    "test_y=test_y_dummies.values"
   ]
  },
  {
   "cell_type": "code",
   "execution_count": 54,
   "id": "af22dc51",
   "metadata": {},
   "outputs": [],
   "source": [
    "train_x_torch=torch.FloatTensor(train_x)\n",
    "test_x_torch=torch.FloatTensor(test_x)\n",
    "\n",
    "train_y_torch=torch.IntTensor(train_y)\n",
    "test_y_torch=torch.IntTensor(test_y)"
   ]
  },
  {
   "cell_type": "code",
   "execution_count": 62,
   "id": "2fc276b0",
   "metadata": {},
   "outputs": [
    {
     "data": {
      "text/plain": [
       "tensor([[0, 0, 1],\n",
       "        [0, 0, 1],\n",
       "        [0, 0, 1],\n",
       "        ...,\n",
       "        [0, 0, 1],\n",
       "        [0, 0, 1],\n",
       "        [0, 0, 1]], dtype=torch.int32)"
      ]
     },
     "execution_count": 62,
     "metadata": {},
     "output_type": "execute_result"
    }
   ],
   "source": [
    "train_y_torch"
   ]
  },
  {
   "cell_type": "code",
   "execution_count": 65,
   "id": "c18a625f",
   "metadata": {},
   "outputs": [],
   "source": [
    "# 데이터 로더 준비\n",
    "batch_size = 16\n",
    "\n",
    "USE_CUDA = torch.cuda.is_available()\n",
    "DEVICE = torch.device(\"cuda\" if USE_CUDA else \"cpu\")\n",
    "\n",
    "EPOCHS = 30\n",
    "BATCH_SIZE = 71\n",
    "\n",
    "\n",
    "class Net(nn.Module):\n",
    "    def __init__(self):\n",
    "        super(Net, self).__init__()\n",
    "        self.fc1 = nn.Linear(6, 256)\n",
    "        self.fc2 = nn.Linear(256, 128)\n",
    "        self.fc3 = nn.Linear(128, 3)\n",
    "\n",
    "    def forward(self, x):\n",
    "        x = x.view(-1, 6)  # 1차원 행렬로 변환\n",
    "        x = F.relu(self.fc1(x))\n",
    "        x = F.relu(self.fc2(x))\n",
    "        x = self.fc3(x)\n",
    "        return F.log_softmax(x, dim=1)\n",
    "\n",
    "\n",
    "model = Net().to(DEVICE)\n",
    "optimizer = optim.SGD(model.parameters(), lr=0.01)\n",
    "epoches=300"
   ]
  },
  {
   "cell_type": "code",
   "execution_count": 66,
   "id": "998f12df",
   "metadata": {},
   "outputs": [
    {
     "ename": "RuntimeError",
     "evalue": "0D or 1D target tensor expected, multi-target not supported",
     "output_type": "error",
     "traceback": [
      "\u001b[1;31m---------------------------------------------------------------------------\u001b[0m",
      "\u001b[1;31mRuntimeError\u001b[0m                              Traceback (most recent call last)",
      "\u001b[1;32m<ipython-input-66-ca606e425af5>\u001b[0m in \u001b[0;36m<module>\u001b[1;34m\u001b[0m\n\u001b[0;32m      2\u001b[0m     \u001b[0mpred\u001b[0m\u001b[1;33m=\u001b[0m\u001b[0mmodel\u001b[0m\u001b[1;33m(\u001b[0m\u001b[0mtrain_x_torch\u001b[0m\u001b[1;33m)\u001b[0m\u001b[1;33m\u001b[0m\u001b[1;33m\u001b[0m\u001b[0m\n\u001b[0;32m      3\u001b[0m \u001b[1;33m\u001b[0m\u001b[0m\n\u001b[1;32m----> 4\u001b[1;33m     \u001b[0mloss\u001b[0m\u001b[1;33m=\u001b[0m\u001b[0mF\u001b[0m\u001b[1;33m.\u001b[0m\u001b[0mnll_loss\u001b[0m\u001b[1;33m(\u001b[0m\u001b[0mpred\u001b[0m\u001b[1;33m,\u001b[0m \u001b[0mtrain_y_torch\u001b[0m\u001b[1;33m)\u001b[0m\u001b[1;33m\u001b[0m\u001b[1;33m\u001b[0m\u001b[0m\n\u001b[0m\u001b[0;32m      5\u001b[0m     \u001b[0moptimizer\u001b[0m\u001b[1;33m.\u001b[0m\u001b[0mzero_grad\u001b[0m\u001b[1;33m(\u001b[0m\u001b[1;33m)\u001b[0m\u001b[1;33m\u001b[0m\u001b[1;33m\u001b[0m\u001b[0m\n\u001b[0;32m      6\u001b[0m     \u001b[0mloss\u001b[0m\u001b[1;33m.\u001b[0m\u001b[0mbackward\u001b[0m\u001b[1;33m(\u001b[0m\u001b[1;33m)\u001b[0m\u001b[1;33m\u001b[0m\u001b[1;33m\u001b[0m\u001b[0m\n",
      "\u001b[1;32m~\\anaconda3\\lib\\site-packages\\torch\\nn\\functional.py\u001b[0m in \u001b[0;36mnll_loss\u001b[1;34m(input, target, weight, size_average, ignore_index, reduce, reduction)\u001b[0m\n\u001b[0;32m   2687\u001b[0m     \u001b[1;32mif\u001b[0m \u001b[0msize_average\u001b[0m \u001b[1;32mis\u001b[0m \u001b[1;32mnot\u001b[0m \u001b[1;32mNone\u001b[0m \u001b[1;32mor\u001b[0m \u001b[0mreduce\u001b[0m \u001b[1;32mis\u001b[0m \u001b[1;32mnot\u001b[0m \u001b[1;32mNone\u001b[0m\u001b[1;33m:\u001b[0m\u001b[1;33m\u001b[0m\u001b[1;33m\u001b[0m\u001b[0m\n\u001b[0;32m   2688\u001b[0m         \u001b[0mreduction\u001b[0m \u001b[1;33m=\u001b[0m \u001b[0m_Reduction\u001b[0m\u001b[1;33m.\u001b[0m\u001b[0mlegacy_get_string\u001b[0m\u001b[1;33m(\u001b[0m\u001b[0msize_average\u001b[0m\u001b[1;33m,\u001b[0m \u001b[0mreduce\u001b[0m\u001b[1;33m)\u001b[0m\u001b[1;33m\u001b[0m\u001b[1;33m\u001b[0m\u001b[0m\n\u001b[1;32m-> 2689\u001b[1;33m     \u001b[1;32mreturn\u001b[0m \u001b[0mtorch\u001b[0m\u001b[1;33m.\u001b[0m\u001b[0m_C\u001b[0m\u001b[1;33m.\u001b[0m\u001b[0m_nn\u001b[0m\u001b[1;33m.\u001b[0m\u001b[0mnll_loss_nd\u001b[0m\u001b[1;33m(\u001b[0m\u001b[0minput\u001b[0m\u001b[1;33m,\u001b[0m \u001b[0mtarget\u001b[0m\u001b[1;33m,\u001b[0m \u001b[0mweight\u001b[0m\u001b[1;33m,\u001b[0m \u001b[0m_Reduction\u001b[0m\u001b[1;33m.\u001b[0m\u001b[0mget_enum\u001b[0m\u001b[1;33m(\u001b[0m\u001b[0mreduction\u001b[0m\u001b[1;33m)\u001b[0m\u001b[1;33m,\u001b[0m \u001b[0mignore_index\u001b[0m\u001b[1;33m)\u001b[0m\u001b[1;33m\u001b[0m\u001b[1;33m\u001b[0m\u001b[0m\n\u001b[0m\u001b[0;32m   2690\u001b[0m \u001b[1;33m\u001b[0m\u001b[0m\n\u001b[0;32m   2691\u001b[0m \u001b[1;33m\u001b[0m\u001b[0m\n",
      "\u001b[1;31mRuntimeError\u001b[0m: 0D or 1D target tensor expected, multi-target not supported"
     ]
    }
   ],
   "source": [
    "for epoche in range(epoches+1):\n",
    "    pred=model(train_x_torch)\n",
    "\n",
    "    loss=F.nll_loss(pred, train_y_torch)\n",
    "    optimizer.zero_grad()\n",
    "    loss.backward()\n",
    "    optimizer.step()"
   ]
  },
  {
   "cell_type": "code",
   "execution_count": null,
   "id": "5dbd46e0",
   "metadata": {},
   "outputs": [],
   "source": [
    "# def train(model, train_loader, optimizer):\n",
    "#     model.train()\n",
    "#     for batch_idx, (data, target) in enumerate(train_loader):\n",
    "#         data, target = data.to(DEVICE), target.to(DEVICE)\n",
    "#         optimizer.zero_grad()  # 기울기 초기화\n",
    "#         output = model(data)\n",
    "#         loss = F.cross_entropy(output, target)\n",
    "#         loss.backward()\n",
    "#         optimizer.step()\n",
    "\n",
    "\n",
    "# def evaluate(model, test_loader):\n",
    "#     model.eval()\n",
    "#     test_loss = 0\n",
    "#     correct = 0\n",
    "#     with torch.no_grad():\n",
    "#         for data, target in test_loader:\n",
    "#             data, target = data.to(DEVICE), target.to(DEVICE)\n",
    "#             output = model(data)\n",
    "\n",
    "#             test_loss += F.cross_entropy(output, target, reduction='sum').item()  # 오차 누적값\n",
    "\n",
    "#             pred = output.max(1, keepdim=True)[1]  # output의 가장 큰 값의 인덱스 (argmax)\n",
    "#             correct += pred.eq(target.view_as(pred)).sum().item()  # target, pred 일치하는 값의 개수\n",
    "\n",
    "#         test_loss /= len(test_loader.dataset)  # 오차의 평균값\n",
    "#         test_accuracy = 100 * correct / len(test_loader.dataset)\n",
    "#         return test_loss, test_accuracy\n",
    "\n",
    "\n",
    "# for epoch in range(1, EPOCHS + 1):\n",
    "#     train(model, train_loader, optimizer)\n",
    "#     test_loss, test_accuracy = evaluate(model, test_loader)\n",
    "\n",
    "#     print(f'[{epoch}] Test Loss: {test_loss:.4f}, Accuracy:{test_accuracy:.2f}')"
   ]
  }
 ],
 "metadata": {
  "kernelspec": {
   "display_name": "Python 3",
   "language": "python",
   "name": "python3"
  },
  "language_info": {
   "codemirror_mode": {
    "name": "ipython",
    "version": 3
   },
   "file_extension": ".py",
   "mimetype": "text/x-python",
   "name": "python",
   "nbconvert_exporter": "python",
   "pygments_lexer": "ipython3",
   "version": "3.8.8"
  }
 },
 "nbformat": 4,
 "nbformat_minor": 5
}
